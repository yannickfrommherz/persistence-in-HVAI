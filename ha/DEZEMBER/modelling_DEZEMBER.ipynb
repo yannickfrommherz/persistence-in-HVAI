{
 "cells": [
  {
   "cell_type": "markdown",
   "id": "5c9adbbc-ce37-4152-b8c6-bc90ee51c166",
   "metadata": {},
   "source": [
    "# Modelling the DEZEMBER Alternation\n",
    "\n",
    "In this notebook, the DEZEMBER alternation is modelled as described in the doctoral thesis. Refer to the relevant chapter to understand modelling choices.\n",
    "\n",
    "Note that in this notebook, the variable for the logarithmised distance is called PREVIOUS_DISTANCE_LOG, whereas it is simply called PREVIOUS_DISTANCE in the doctoral thesis. Despite lacking the specifier \"_LOG\" in the thesis, the variables in the formulae always refer to the logarithmised version of the distance measure.\n",
    "\n",
    "## Preparations\n",
    "\n",
    "### Importing Relevant Libraries"
   ]
  },
  {
   "cell_type": "code",
   "execution_count": null,
   "id": "ae00841d-0871-4563-a79f-d6dd11876049",
   "metadata": {},
   "outputs": [],
   "source": [
    "library(lme4)\n",
    "library(glue)\n",
    "library(performance)\n",
    "library(broom)\n",
    "library(scales)\n",
    "library(sjPlot)\n",
    "library(ggplot2)\n",
    "library(dplyr)\n",
    "library(stargazer)\n",
    "library(broom.mixed)"
   ]
  },
  {
   "cell_type": "markdown",
   "id": "79f30db4-9578-435e-a780-9c6ef86f61d1",
   "metadata": {},
   "source": [
    "### Loading and Preprocessing Data"
   ]
  },
  {
   "cell_type": "code",
   "execution_count": null,
   "id": "29dddf03-51e8-4f55-8723-1d046ac09104",
   "metadata": {},
   "outputs": [],
   "source": [
    "data <- read.csv(\"DEZEMBER_for_modelling.csv\")"
   ]
  },
  {
   "cell_type": "markdown",
   "id": "942a8e04-060e-455d-a822-a69272f5613f",
   "metadata": {},
   "source": [
    "Treatment coding of response variable: \"dezember\" = 0, \"zwölf\" = 1."
   ]
  },
  {
   "cell_type": "code",
   "execution_count": null,
   "id": "a1d85bf7-4fd9-470d-a2cb-112ffb7d44fc",
   "metadata": {},
   "outputs": [],
   "source": [
    "data$CURRENT <- as.factor(data$CURRENT)\n",
    "cat(\"R models this level:\", tail(levels(data$CURRENT), 1))"
   ]
  },
  {
   "cell_type": "markdown",
   "id": "184202ee-922b-4e08-98d1-6f21bdbf0ac9",
   "metadata": {},
   "source": [
    "Renaming speakers for consistency with the rest of the thesis."
   ]
  },
  {
   "cell_type": "code",
   "execution_count": null,
   "id": "479ae8f1-8ac4-40fe-ae9c-a1f1cf4a7f1f",
   "metadata": {},
   "outputs": [],
   "source": [
    "data <- data %>% mutate(PREVIOUS_SPEAKER = recode(PREVIOUS_SPEAKER, \"A\" = \"VA\", \"S\" = \"HS\"))"
   ]
  },
  {
   "cell_type": "markdown",
   "id": "bf61fd3e-5b5e-44b7-8cd4-319def6ff2c6",
   "metadata": {},
   "source": [
    "Combining the variables PREVIOUS and PREVIOUS_SPEAKER, as modelling an interaction of these two independent variables leads to an issue of singularity."
   ]
  },
  {
   "cell_type": "code",
   "execution_count": null,
   "id": "d7a1d184-9a12-461b-9c05-501d271ba4be",
   "metadata": {},
   "outputs": [],
   "source": [
    "data$PREVIOUS_SPEAKER_COMBINED <- interaction(data$PREVIOUS, data$PREVIOUS_SPEAKER) #R automatically creates a factor\n",
    "cat(\"Levels are:\", levels(data$PREVIOUS_SPEAKER_COMBINED))"
   ]
  },
  {
   "cell_type": "markdown",
   "id": "b15bc369-3d58-40c4-b0d0-c4aa8f6d3a1e",
   "metadata": {},
   "source": [
    "`interaction()` also creates combinations which never appear. "
   ]
  },
  {
   "cell_type": "code",
   "execution_count": null,
   "id": "78afeaa7-d4fb-43e2-99e2-ae3371417dab",
   "metadata": {},
   "outputs": [],
   "source": [
    "#discarding empty levels\n",
    "data$PREVIOUS_SPEAKER_COMBINED <- droplevels(data$PREVIOUS_SPEAKER_COMBINED)\n",
    "\n",
    "#before renaming (see above) \"dezember.A\" was the reference level as it is first in alphabetical order, \n",
    "#to preserve this even after renaming, the factor is relevelled \n",
    "data$PREVIOUS_SPEAKER_COMBINED <- relevel(data$PREVIOUS_SPEAKER_COMBINED, ref = \"dezember.VA\")\n",
    "cat(\"The reference level of PREVIOUS_SPEAKER_COMBINED is:\", head(levels(data$PREVIOUS_SPEAKER_COMBINED), 1)) "
   ]
  },
  {
   "cell_type": "markdown",
   "id": "ce764ea6-4fa4-4db5-a37e-2c790fc2c7b2",
   "metadata": {},
   "source": [
    "Treatment coding of further predictor variables."
   ]
  },
  {
   "cell_type": "code",
   "execution_count": null,
   "id": "fdf4f855-d433-439d-a657-4ae3804a3625",
   "metadata": {},
   "outputs": [],
   "source": [
    "data <- data %>% rename(PREVIOUS_BETA_ZWOELF = PREVIOUS_BETA_ZWÖLF) #renaming to avoid Umlaut issue\n",
    "data$PREVIOUS_BETA_ZWOELF <- as.factor(data$PREVIOUS_BETA_ZWOELF) \n",
    "data$QUASI_PERSISTENCE <- as.factor(data$QUASI_PERSISTENCE) \n",
    "data$CONFEDERATE <- as.factor(data$CONFEDERATE) "
   ]
  },
  {
   "cell_type": "markdown",
   "id": "db4e98d9-8910-4d67-8101-8189627525f8",
   "metadata": {},
   "source": [
    "## Simple Model\n",
    "\n",
    "### Model Fitting\n",
    "\n",
    "Fitting a simple regression model without any random effects to assess how the predictor variables impact the response variable."
   ]
  },
  {
   "cell_type": "code",
   "execution_count": null,
   "id": "de541baa-e229-46d4-ba19-1b29db7e6071",
   "metadata": {},
   "outputs": [],
   "source": [
    "simple_model <- glm(CURRENT ~ PREVIOUS_SPEAKER_COMBINED * PREVIOUS_DISTANCE_LOG + \n",
    "                                     PREVIOUS_SPEAKER_COMBINED * QUASI_PERSISTENCE +\n",
    "                                     PREVIOUS_BETA_ZWOELF,\n",
    "                                     data = data, family = 'binomial')\n",
    "\n",
    "summary(simple_model)"
   ]
  },
  {
   "cell_type": "markdown",
   "id": "64faea48-9992-4dc7-8cb6-c0833255b1a1",
   "metadata": {},
   "source": [
    "### Model Evaluation\n",
    "\n",
    "#### R² and AIC"
   ]
  },
  {
   "cell_type": "code",
   "execution_count": null,
   "id": "1569ef7d-efe0-4a1b-ab93-5f520c13209d",
   "metadata": {},
   "outputs": [],
   "source": [
    "r2_nagelkerke(simple_model)\n",
    "AIC(simple_model)"
   ]
  },
  {
   "cell_type": "markdown",
   "id": "5c4ea591-f99a-4769-a3c3-d72af1235fdf",
   "metadata": {},
   "source": [
    "#### Predictive Efficiency"
   ]
  },
  {
   "cell_type": "code",
   "execution_count": null,
   "id": "84b1f264-7f64-47dd-b453-5932d5fde87e",
   "metadata": {},
   "outputs": [],
   "source": [
    "#Predicting based on simple_model\n",
    "fixed_model_predictions <- predict(simple_model, newdata = data, type = \"response\")\n",
    "#Convert probabilities to binary outcomes (i.e., if probability > 0.5, predict 1, else 0)\n",
    "fixed_model_predicted_class <- ifelse(fixed_model_predictions > 0.5, \"zwoelf\", \"dezember\")\n",
    "#Compare predicted values to actual values\n",
    "fixed_model_accuracy <- mean(fixed_model_predicted_class == data$CURRENT)\n",
    "fixed_model_accuracy"
   ]
  },
  {
   "cell_type": "code",
   "execution_count": null,
   "id": "1f83b9e9-b97c-443e-89f1-6f15514f6ad6",
   "metadata": {},
   "outputs": [],
   "source": [
    "#Calculate baseline accuracy, i.e., a dumb intercept-only model only ever predicting the most frequent outcome\n",
    "counts <- table(data$CURRENT) \n",
    "dumb_model_accuracy <- max(counts) / sum(counts)\n",
    "dumb_model_accuracy"
   ]
  },
  {
   "cell_type": "code",
   "execution_count": null,
   "id": "09581eaa-64b5-4afb-82fc-ba420893c294",
   "metadata": {},
   "outputs": [],
   "source": [
    "#McNemar's Test for significance against baseline\n",
    "baseline_predicted_class <- rep(names(which.max(counts)), length(data$CURRENT))  #Create baseline predictions (always predict the most frequent outcome)\n",
    "mcnemar_table <- table(\n",
    "  model_correct = (fixed_model_predicted_class == data$CURRENT),\n",
    "  baseline_correct = (baseline_predicted_class == data$CURRENT)) #Create a contingency table: Compare model and baseline predictions against actual values\n",
    "mcnemar_result <- mcnemar.test(mcnemar_table) #Perform McNemar's Test\n",
    "mcnemar_result"
   ]
  },
  {
   "cell_type": "markdown",
   "id": "5a8098d9-c6fd-492f-b664-b377a346b701",
   "metadata": {},
   "source": [
    "## Mixed Model\n",
    "\n",
    "### Model Fitting"
   ]
  },
  {
   "cell_type": "code",
   "execution_count": null,
   "id": "833e22d3-3222-4f02-ae13-405fe159e335",
   "metadata": {},
   "outputs": [],
   "source": [
    "initial_mixed_model <- glmer(CURRENT ~ PREVIOUS_SPEAKER_COMBINED * PREVIOUS_DISTANCE_LOG + \n",
    "                                      PREVIOUS_BETA_ZWOELF +\n",
    "                                      (1 | HUMAN_ID), \n",
    "                                      data = data, family = binomial)\n",
    "\n",
    "summary(initial_mixed_model)"
   ]
  },
  {
   "cell_type": "code",
   "execution_count": null,
   "id": "41b8195f-b7c7-45cb-ae04-b1f86c121bb7",
   "metadata": {},
   "outputs": [],
   "source": [
    "final_mixed_model <- glmer(CURRENT ~ PREVIOUS_SPEAKER_COMBINED * QUASI_PERSISTENCE +\n",
    "                                         PREVIOUS_BETA_ZWOELF + \n",
    "                                         (1 | HUMAN_ID), \n",
    "                                         data = data, family = binomial)\n",
    "\n",
    "summary(final_mixed_model)"
   ]
  },
  {
   "cell_type": "markdown",
   "id": "615560d4-8615-40e9-8954-f93790627506",
   "metadata": {},
   "source": [
    "### Model evaluation\n",
    "\n",
    "#### R² and AIC"
   ]
  },
  {
   "cell_type": "code",
   "execution_count": null,
   "id": "eaa58c01-052a-4bdd-ac60-5a471ee172a8",
   "metadata": {},
   "outputs": [],
   "source": [
    "r2(initial_mixed_model)\n",
    "AIC(initial_mixed_model)\n",
    "\n",
    "r2(final_mixed_model)\n",
    "AIC(final_mixed_model)"
   ]
  },
  {
   "cell_type": "markdown",
   "id": "bbeec4b7-a29c-4cb7-8336-451b40e2455c",
   "metadata": {},
   "source": [
    "#### Predictive Efficiency"
   ]
  },
  {
   "cell_type": "code",
   "execution_count": null,
   "id": "7b9960d1-85dd-4f59-9a0d-ea57f723a279",
   "metadata": {},
   "outputs": [],
   "source": [
    "#Predicting based on final_mixed_model\n",
    "mixed_model_predictions <- predict(final_mixed_model, newdata = data, type = \"response\")\n",
    "#Convert probabilities to binary outcomes (i.e., if probability > 0.5, predict 1, else 0)\n",
    "mixed_model_predicted_class <- ifelse(mixed_model_predictions > 0.5, \"zwoelf\", \"dezember\")\n",
    "#Compare predicted values to actual values\n",
    "mixed_model_accuracy <- mean(mixed_model_predicted_class == data$CURRENT)\n",
    "mixed_model_accuracy"
   ]
  },
  {
   "cell_type": "code",
   "execution_count": null,
   "id": "0132e5d2-49d9-4368-b232-3e96bc0d4fd0",
   "metadata": {},
   "outputs": [],
   "source": [
    "#Calculate baseline accuracy, i.e., a dumb intercept-only model only ever predicting the most frequent outcome\n",
    "counts <- table(data$CURRENT) \n",
    "dumb_model_accuracy <- max(counts) / sum(counts)\n",
    "dumb_model_accuracy"
   ]
  },
  {
   "cell_type": "code",
   "execution_count": null,
   "id": "43fc8d9b-9ca9-4164-9cbc-8521c2315641",
   "metadata": {},
   "outputs": [],
   "source": [
    "#McNemar's Test for significance against baseline\n",
    "baseline_predicted_class <- rep(names(which.max(counts)), length(data$CURRENT))  #Create baseline predictions (always predict the most frequent outcome)\n",
    "mcnemar_table <- table(\n",
    "  model_correct = (mixed_model_predicted_class == data$CURRENT),\n",
    "  baseline_correct = (baseline_predicted_class == data$CURRENT)) #Create a contingency table: Compare model and baseline predictions against actual values\n",
    "mcnemar_result <- mcnemar.test(mcnemar_table) #Perform McNemar's Test\n",
    "mcnemar_result"
   ]
  },
  {
   "cell_type": "code",
   "execution_count": null,
   "id": "051fcd6e-4e49-4c1a-874a-cac4784be350",
   "metadata": {},
   "outputs": [],
   "source": [
    "#McNemar's Test for significance against fixed effects model\n",
    "baseline_predicted_class <- rep(names(which.max(counts)), length(data$CURRENT))  #Create baseline predictions (always predict the most frequent outcome)\n",
    "mcnemar_table <- table(\n",
    "  mixed_model_correct = (mixed_model_predicted_class == data$CURRENT),\n",
    "  fixed_model_correct = (fixed_model_predicted_class == data$CURRENT)) #Create a contingency table: Compare model and baseline predictions against actual values\n",
    "mcnemar_result <- mcnemar.test(mcnemar_table) #Perform McNemar's Test\n",
    "mcnemar_result"
   ]
  },
  {
   "cell_type": "markdown",
   "id": "149f056a-6c51-4970-b207-393f75d3b36e",
   "metadata": {},
   "source": [
    "#### Multicollinearity / Pairwise Correlations"
   ]
  },
  {
   "cell_type": "code",
   "execution_count": null,
   "id": "a7d10e2c-12cb-4ab0-a9fa-e83194f2e77a",
   "metadata": {},
   "outputs": [],
   "source": [
    "library(car) #only importing it now as the module otherwise interferes with code execution above\n",
    "vif(final_mixed_model)"
   ]
  },
  {
   "cell_type": "markdown",
   "id": "665b15f3-c24d-4625-9695-185fbc111736",
   "metadata": {},
   "source": [
    "#### Random Effect Structure\n",
    "\n",
    "Given the substantially improved fit and AIC compared to the simple model, checking whether there are enough data points per group of HUMAN_ID, as too low a number could lead to overfitting."
   ]
  },
  {
   "cell_type": "code",
   "execution_count": null,
   "id": "8abf8508-fbc8-4607-b317-2bda668cc490",
   "metadata": {},
   "outputs": [],
   "source": [
    "table(data$HUMAN_ID) \n",
    "mean(table(data$HUMAN_ID)) #more than 20 per group which is recommended\n",
    "sd(table(data$HUMAN_ID))\n",
    "length(unique(data$HUMAN_ID)) #slightly below rule of thumb of 30 groups"
   ]
  },
  {
   "cell_type": "markdown",
   "id": "4f560342-f479-440b-a22c-9b1a0668b21a",
   "metadata": {},
   "source": [
    "#### Leave-One-Out Cross Validation\n",
    "\n",
    "Fitting models with one data point left out at each time, then having the models predict the left-out data point. Finally, seeing how well the models predict unseen data, giving an estimate of model performance. \n",
    "\n",
    "Note that this code takes a long time to fully execute."
   ]
  },
  {
   "cell_type": "code",
   "execution_count": null,
   "id": "24d40e1b-ce62-471c-95aa-20b5d32967de",
   "metadata": {
    "scrolled": true
   },
   "outputs": [],
   "source": [
    "predictions <- numeric(nrow(data)) #vector for storing predictions\n",
    "\n",
    "#Iterating over dataset\n",
    "for (i in 1:nrow(data)) {\n",
    "    print(i)\n",
    "    \n",
    "    train_data <- data[-i, ] #creating 'train_data' which leaves out the current data point\n",
    "\n",
    "    #fitting model on 'train_data'\n",
    "    model_loo <- glmer(CURRENT ~ PREVIOUS_SPEAKER_COMBINED * QUASI_PERSISTENCE +\n",
    "                       PREVIOUS_BETA_ZWOELF + \n",
    "                       (1 | HUMAN_ID), \n",
    "                       data = train_data, family = binomial)\n",
    "\n",
    "    #checking if model converged, if yes (messages are NULL)...\n",
    "    if (is.null(model_loo@optinfo$conv$lme4$messages)) {\n",
    "        #having 'model_loo' predict the current data point and storing it in 'predictions'\n",
    "        predictions[i] <- predict(model_loo, newdata = data[i, , drop = FALSE], type = \"response\")\n",
    "    } else { \n",
    "        predictions[i] <- NA #if not, storing NA (otherwise R fills 'predictions' for missing indices with 0 which, however, could also be a probability)\n",
    "        }\n",
    "}"
   ]
  },
  {
   "cell_type": "markdown",
   "id": "e097d35a-4874-495a-acd6-959bdbb6d1d2",
   "metadata": {},
   "source": [
    "Checking in how many cases no prediction could be made as the model did not converge on the remaining data points, filtering for valid predictions only."
   ]
  },
  {
   "cell_type": "code",
   "execution_count": null,
   "id": "aec816f0-1f2f-40a0-ab79-21e6bffda9a2",
   "metadata": {},
   "outputs": [],
   "source": [
    "sum(is.na(predictions))\n",
    "filtered_predictions <- predictions[!is.na(predictions)] "
   ]
  },
  {
   "cell_type": "markdown",
   "id": "fa2250ed-958d-4f46-aa93-a9c82a9a5acc",
   "metadata": {},
   "source": [
    "Extracting the ground truth and filtering for values where a prediction could be made as a model was successfully fitted on the remaining data points. "
   ]
  },
  {
   "cell_type": "code",
   "execution_count": null,
   "id": "a81791cb-893d-4859-beaf-4be5f7823dc5",
   "metadata": {},
   "outputs": [],
   "source": [
    "actuals <- data$CURRENT\n",
    "filtered_actuals <- actuals[!is.na(predictions)] \n",
    "length(filtered_actuals) == length(filtered_predictions)"
   ]
  },
  {
   "cell_type": "markdown",
   "id": "2e07204c-492b-4215-8769-039966facde3",
   "metadata": {},
   "source": [
    "Replacing probabilities in `filtered_predictions` such that values above 0.5 mean \"zwoelf\" was predicted (\"zwoelf\" is the modelled level) and values below mean \"dezember\" was predicted instead."
   ]
  },
  {
   "cell_type": "code",
   "execution_count": null,
   "id": "27dcb4ed-2401-4696-a839-ee474530c1ca",
   "metadata": {
    "scrolled": true
   },
   "outputs": [],
   "source": [
    "predicted_class <- ifelse(filtered_predictions > 0.5, \"zwoelf\", \"dezember\")\n",
    "predicted_class"
   ]
  },
  {
   "cell_type": "markdown",
   "id": "038b2379-0eed-46f1-9b54-7d65441fd729",
   "metadata": {},
   "source": [
    "Comparing ground truth with predicted class for each data point and calculating mean."
   ]
  },
  {
   "cell_type": "code",
   "execution_count": null,
   "id": "dd992b27-fdb8-42f5-a89e-57d5f76791c4",
   "metadata": {},
   "outputs": [],
   "source": [
    "mean(filtered_actuals == predicted_class)"
   ]
  },
  {
   "cell_type": "markdown",
   "id": "320a9ed5-607c-4782-bdf9-908498a6daa4",
   "metadata": {},
   "source": [
    "### Visualisation\n",
    "\n",
    "#### Coefficient Plot"
   ]
  },
  {
   "cell_type": "code",
   "execution_count": null,
   "id": "477de9e3-e00b-4f10-9f4f-cbf50783bfc7",
   "metadata": {},
   "outputs": [],
   "source": [
    "model_summary <- tidy(final_mixed_model, conf.int = TRUE) %>% filter(effect == \"fixed\")  #Include only fixed effects\n",
    "\n",
    "plot <- ggplot(model_summary, aes(x = estimate, y = term, color = p.value < 0.05)) +\n",
    "          geom_point(size = 3) +\n",
    "          geom_errorbarh(aes(xmin = conf.low, xmax = conf.high), height = 0.2) +  \n",
    "          geom_vline(xintercept = 0, linetype = \"dashed\") +\n",
    "          labs(\n",
    "            x = \"Estimated Coefficient\",\n",
    "            y = \"Predictors\",\n",
    "          ) +\n",
    "          theme_minimal() +\n",
    "          scale_color_manual(values = c(\"TRUE\" = \"black\", \"FALSE\" = \"gray\")) +  #Grey out non-significant predictors\n",
    "          coord_fixed(ratio = 0.5)\n",
    "\n",
    "plot"
   ]
  },
  {
   "cell_type": "markdown",
   "id": "dae4102a-7378-40d8-bf7d-ddf5f4713519",
   "metadata": {},
   "source": [
    "#### Prediction Plot\n",
    "\n",
    "Plot visualises the probability of observing \"zwoelf\" in CURRENT given different combinations of variants in PREVIOUS and SPEAKERS."
   ]
  },
  {
   "cell_type": "code",
   "execution_count": null,
   "id": "b737cfbf-d72d-45b0-9475-d8d40caae4a7",
   "metadata": {},
   "outputs": [],
   "source": [
    "#for \"zwölf\" in CURRENT\n",
    "plot <- plot_model(final_mixed_model, type = \"pred\", \n",
    "                   terms = c(\"PREVIOUS_SPEAKER_COMBINED\", \"PREVIOUS_BETA_ZWOELF\"), \n",
    "                   group = \"HUMAN_ID\", dpi = 300)\n",
    "\n",
    "plot <- plot +\n",
    "    aes(color = as.factor(group), shape = as.factor(group)) +\n",
    "    scale_shape_manual(values = c(16, 17)) +\n",
    "    guides(color = guide_legend(title = \"PREVIOUS_BETA_ZWOELF\"),\n",
    "    shape = guide_legend(title = \"PREVIOUS_BETA_ZWOELF\")) +\n",
    "    theme_minimal(base_size = 12) +\n",
    "    theme(plot.title = element_blank(),\n",
    "          legend.position = \"right\")\n",
    "\n",
    "plot"
   ]
  }
 ],
 "metadata": {
  "kernelspec": {
   "display_name": "R",
   "language": "R",
   "name": "ir"
  },
  "language_info": {
   "codemirror_mode": "r",
   "file_extension": ".r",
   "mimetype": "text/x-r-source",
   "name": "R",
   "pygments_lexer": "r",
   "version": "4.4.1"
  }
 },
 "nbformat": 4,
 "nbformat_minor": 5
}
