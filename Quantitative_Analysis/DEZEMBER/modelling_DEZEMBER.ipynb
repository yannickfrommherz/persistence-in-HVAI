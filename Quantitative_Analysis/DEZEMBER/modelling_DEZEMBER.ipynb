{
 "cells": [
  {
   "cell_type": "markdown",
   "id": "5c9adbbc-ce37-4152-b8c6-bc90ee51c166",
   "metadata": {},
   "source": [
    "# Modelling the DEZEMBER Alternation\n",
    "\n",
    "In this notebook, the DEZEMBER alternation is modelled as described in the doctoral thesis. Refer to the relevant chapter to understand modelling choices.\n",
    "\n",
    "Note that in this notebook, the variable for the logarithmised distance is called PREVIOUS_DISTANCE_LOG, whereas it is simply called PREVIOUS_DISTANCE in the doctoral thesis. Despite lacking the specifier \"_LOG\" in the thesis, the variables in the formulae always refer to the logarithmised version of the distance measure.\n",
    "\n",
    "## Preparations\n",
    "\n",
    "### Importing Relevant Libraries"
   ]
  },
  {
   "cell_type": "code",
   "execution_count": 1,
   "id": "ae00841d-0871-4563-a79f-d6dd11876049",
   "metadata": {},
   "outputs": [
    {
     "name": "stderr",
     "output_type": "stream",
     "text": [
      "Lade nötiges Paket: Matrix\n",
      "\n",
      "\n",
      "Attache Paket: ‘dplyr’\n",
      "\n",
      "\n",
      "Die folgenden Objekte sind maskiert von ‘package:stats’:\n",
      "\n",
      "    filter, lag\n",
      "\n",
      "\n",
      "Die folgenden Objekte sind maskiert von ‘package:base’:\n",
      "\n",
      "    intersect, setdiff, setequal, union\n",
      "\n",
      "\n",
      "\n",
      "Please cite as: \n",
      "\n",
      "\n",
      " Hlavac, Marek (2022). stargazer: Well-Formatted Regression and Summary Statistics Tables.\n",
      "\n",
      " R package version 5.2.3. https://CRAN.R-project.org/package=stargazer \n",
      "\n",
      "\n"
     ]
    }
   ],
   "source": [
    "library(lme4)\n",
    "library(glue)\n",
    "library(performance)\n",
    "library(broom)\n",
    "library(scales)\n",
    "library(sjPlot)\n",
    "library(ggplot2)\n",
    "library(dplyr)\n",
    "library(stargazer)\n",
    "library(broom.mixed)"
   ]
  },
  {
   "cell_type": "markdown",
   "id": "79f30db4-9578-435e-a780-9c6ef86f61d1",
   "metadata": {},
   "source": [
    "### Loading and Preprocessing Data"
   ]
  },
  {
   "cell_type": "code",
   "execution_count": 2,
   "id": "29dddf03-51e8-4f55-8723-1d046ac09104",
   "metadata": {},
   "outputs": [],
   "source": [
    "data <- read.csv(\"DEZEMBER_for_modelling.csv\")"
   ]
  },
  {
   "cell_type": "markdown",
   "id": "942a8e04-060e-455d-a822-a69272f5613f",
   "metadata": {},
   "source": [
    "Treatment coding of response variable: \"dezember\" = 0, \"zwölf\" = 1."
   ]
  },
  {
   "cell_type": "code",
   "execution_count": 3,
   "id": "a1d85bf7-4fd9-470d-a2cb-112ffb7d44fc",
   "metadata": {},
   "outputs": [
    {
     "name": "stdout",
     "output_type": "stream",
     "text": [
      "R models this level: zwoelf"
     ]
    }
   ],
   "source": [
    "data$CURRENT <- as.factor(data$CURRENT)\n",
    "cat(\"R models this level:\", tail(levels(data$CURRENT), 1))"
   ]
  },
  {
   "cell_type": "markdown",
   "id": "184202ee-922b-4e08-98d1-6f21bdbf0ac9",
   "metadata": {},
   "source": [
    "Renaming speakers for consistency with the rest of the thesis."
   ]
  },
  {
   "cell_type": "code",
   "execution_count": 4,
   "id": "479ae8f1-8ac4-40fe-ae9c-a1f1cf4a7f1f",
   "metadata": {},
   "outputs": [],
   "source": [
    "data <- data %>% mutate(PREVIOUS_SPEAKER = recode(PREVIOUS_SPEAKER, \"A\" = \"VA\", \"S\" = \"HS\"))"
   ]
  },
  {
   "cell_type": "markdown",
   "id": "bf61fd3e-5b5e-44b7-8cd4-319def6ff2c6",
   "metadata": {},
   "source": [
    "Combining the variables PREVIOUS and PREVIOUS_SPEAKER, as modelling an interaction of these two independent variables leads to an issue of singularity."
   ]
  },
  {
   "cell_type": "code",
   "execution_count": 5,
   "id": "d7a1d184-9a12-461b-9c05-501d271ba4be",
   "metadata": {},
   "outputs": [
    {
     "name": "stdout",
     "output_type": "stream",
     "text": [
      "Levels are: dezember.HS zwoelf.HS dezember.VA zwoelf.VA"
     ]
    }
   ],
   "source": [
    "data$PREVIOUS_SPEAKER_COMBINED <- interaction(data$PREVIOUS, data$PREVIOUS_SPEAKER) #R automatically creates a factor\n",
    "cat(\"Levels are:\", levels(data$PREVIOUS_SPEAKER_COMBINED))"
   ]
  },
  {
   "cell_type": "markdown",
   "id": "b15bc369-3d58-40c4-b0d0-c4aa8f6d3a1e",
   "metadata": {},
   "source": [
    "`interaction()` also creates combinations which never appear. "
   ]
  },
  {
   "cell_type": "code",
   "execution_count": 6,
   "id": "78afeaa7-d4fb-43e2-99e2-ae3371417dab",
   "metadata": {},
   "outputs": [
    {
     "name": "stdout",
     "output_type": "stream",
     "text": [
      "The reference level of PREVIOUS_SPEAKER_COMBINED is: dezember.VA"
     ]
    }
   ],
   "source": [
    "#discarding empty levels\n",
    "data$PREVIOUS_SPEAKER_COMBINED <- droplevels(data$PREVIOUS_SPEAKER_COMBINED)\n",
    "\n",
    "#before renaming (see above) \"dezember.A\" was the reference level as it is first in alphabetical order, \n",
    "#to preserve this even after renaming, the factor is relevelled \n",
    "data$PREVIOUS_SPEAKER_COMBINED <- relevel(data$PREVIOUS_SPEAKER_COMBINED, ref = \"dezember.VA\")\n",
    "cat(\"The reference level of PREVIOUS_SPEAKER_COMBINED is:\", head(levels(data$PREVIOUS_SPEAKER_COMBINED), 1)) "
   ]
  },
  {
   "cell_type": "markdown",
   "id": "ce764ea6-4fa4-4db5-a37e-2c790fc2c7b2",
   "metadata": {},
   "source": [
    "Treatment coding of further predictor variables."
   ]
  },
  {
   "cell_type": "code",
   "execution_count": 7,
   "id": "fdf4f855-d433-439d-a657-4ae3804a3625",
   "metadata": {},
   "outputs": [],
   "source": [
    "data <- data %>% rename(PREVIOUS_BETA_ZWOELF = PREVIOUS_BETA_ZWÖLF) #renaming to avoid Umlaut issue\n",
    "data$PREVIOUS_BETA_ZWOELF <- as.factor(data$PREVIOUS_BETA_ZWOELF) \n",
    "data$QUASI_PERSISTENCE <- as.factor(data$QUASI_PERSISTENCE) \n",
    "data$CONFEDERATE <- as.factor(data$CONFEDERATE) "
   ]
  },
  {
   "cell_type": "markdown",
   "id": "db4e98d9-8910-4d67-8101-8189627525f8",
   "metadata": {},
   "source": [
    "## Simple Model\n",
    "\n",
    "### Model Fitting\n",
    "\n",
    "Fitting a simple regression model without any random effects to assess how the predictor variables impact the response variable."
   ]
  },
  {
   "cell_type": "code",
   "execution_count": 8,
   "id": "de541baa-e229-46d4-ba19-1b29db7e6071",
   "metadata": {},
   "outputs": [
    {
     "data": {
      "text/plain": [
       "\n",
       "Call:\n",
       "glm(formula = CURRENT ~ PREVIOUS_SPEAKER_COMBINED * PREVIOUS_DISTANCE_LOG + \n",
       "    PREVIOUS_SPEAKER_COMBINED * QUASI_PERSISTENCE + PREVIOUS_BETA_ZWOELF, \n",
       "    family = \"binomial\", data = data)\n",
       "\n",
       "Coefficients:\n",
       "                                                           Estimate Std. Error\n",
       "(Intercept)                                                  3.3034     0.9621\n",
       "PREVIOUS_SPEAKER_COMBINEDdezember.HS                        -7.1684     1.9489\n",
       "PREVIOUS_SPEAKER_COMBINEDzwoelf.HS                          -1.7894     2.1151\n",
       "PREVIOUS_DISTANCE_LOG                                       -0.4313     0.2147\n",
       "QUASI_PERSISTENCETrue                                       -0.2154     0.3114\n",
       "PREVIOUS_BETA_ZWOELFTrue                                    -0.5477     0.2448\n",
       "PREVIOUS_SPEAKER_COMBINEDdezember.HS:PREVIOUS_DISTANCE_LOG   1.1119     0.5053\n",
       "PREVIOUS_SPEAKER_COMBINEDzwoelf.HS:PREVIOUS_DISTANCE_LOG     1.2250     0.7179\n",
       "PREVIOUS_SPEAKER_COMBINEDdezember.HS:QUASI_PERSISTENCETrue   1.5377     0.8864\n",
       "PREVIOUS_SPEAKER_COMBINEDzwoelf.HS:QUASI_PERSISTENCETrue     0.5995     1.2291\n",
       "                                                           z value Pr(>|z|)    \n",
       "(Intercept)                                                  3.434 0.000596 ***\n",
       "PREVIOUS_SPEAKER_COMBINEDdezember.HS                        -3.678 0.000235 ***\n",
       "PREVIOUS_SPEAKER_COMBINEDzwoelf.HS                          -0.846 0.397534    \n",
       "PREVIOUS_DISTANCE_LOG                                       -2.009 0.044513 *  \n",
       "QUASI_PERSISTENCETrue                                       -0.692 0.489182    \n",
       "PREVIOUS_BETA_ZWOELFTrue                                    -2.237 0.025255 *  \n",
       "PREVIOUS_SPEAKER_COMBINEDdezember.HS:PREVIOUS_DISTANCE_LOG   2.201 0.027763 *  \n",
       "PREVIOUS_SPEAKER_COMBINEDzwoelf.HS:PREVIOUS_DISTANCE_LOG     1.706 0.087927 .  \n",
       "PREVIOUS_SPEAKER_COMBINEDdezember.HS:QUASI_PERSISTENCETrue   1.735 0.082784 .  \n",
       "PREVIOUS_SPEAKER_COMBINEDzwoelf.HS:QUASI_PERSISTENCETrue     0.488 0.625703    \n",
       "---\n",
       "Signif. codes:  0 ‘***’ 0.001 ‘**’ 0.01 ‘*’ 0.05 ‘.’ 0.1 ‘ ’ 1\n",
       "\n",
       "(Dispersion parameter for binomial family taken to be 1)\n",
       "\n",
       "    Null deviance: 663.87  on 673  degrees of freedom\n",
       "Residual deviance: 534.70  on 664  degrees of freedom\n",
       "AIC: 554.7\n",
       "\n",
       "Number of Fisher Scoring iterations: 6\n"
      ]
     },
     "metadata": {},
     "output_type": "display_data"
    }
   ],
   "source": [
    "simple_model <- glm(CURRENT ~ PREVIOUS_SPEAKER_COMBINED * PREVIOUS_DISTANCE_LOG + \n",
    "                                     PREVIOUS_SPEAKER_COMBINED * QUASI_PERSISTENCE +\n",
    "                                     PREVIOUS_BETA_ZWOELF,\n",
    "                                     data = data, family = 'binomial')\n",
    "\n",
    "summary(simple_model)"
   ]
  },
  {
   "cell_type": "markdown",
   "id": "64faea48-9992-4dc7-8cb6-c0833255b1a1",
   "metadata": {},
   "source": [
    "### Model Evaluation\n",
    "\n",
    "#### R² and AIC"
   ]
  },
  {
   "cell_type": "code",
   "execution_count": 9,
   "id": "1569ef7d-efe0-4a1b-ab93-5f520c13209d",
   "metadata": {},
   "outputs": [
    {
     "data": {
      "text/html": [
       "<strong>Nagelkerke's R2:</strong> 0.278354689104359"
      ],
      "text/latex": [
       "\\textbf{Nagelkerke's R2:} 0.278354689104359"
      ],
      "text/markdown": [
       "**Nagelkerke's R2:** 0.278354689104359"
      ],
      "text/plain": [
       "Nagelkerke's R2 \n",
       "      0.2783547 "
      ]
     },
     "metadata": {},
     "output_type": "display_data"
    },
    {
     "data": {
      "text/html": [
       "554.700409053"
      ],
      "text/latex": [
       "554.700409053"
      ],
      "text/markdown": [
       "554.700409053"
      ],
      "text/plain": [
       "[1] 554.7004"
      ]
     },
     "metadata": {},
     "output_type": "display_data"
    }
   ],
   "source": [
    "r2_nagelkerke(simple_model)\n",
    "AIC(simple_model)"
   ]
  },
  {
   "cell_type": "markdown",
   "id": "5c4ea591-f99a-4769-a3c3-d72af1235fdf",
   "metadata": {},
   "source": [
    "#### Predictive Efficiency"
   ]
  },
  {
   "cell_type": "code",
   "execution_count": 10,
   "id": "84b1f264-7f64-47dd-b453-5932d5fde87e",
   "metadata": {},
   "outputs": [
    {
     "data": {
      "text/html": [
       "0.844213649851632"
      ],
      "text/latex": [
       "0.844213649851632"
      ],
      "text/markdown": [
       "0.844213649851632"
      ],
      "text/plain": [
       "[1] 0.8442136"
      ]
     },
     "metadata": {},
     "output_type": "display_data"
    }
   ],
   "source": [
    "#Predicting based on simple_model\n",
    "fixed_model_predictions <- predict(simple_model, newdata = data, type = \"response\")\n",
    "#Convert probabilities to binary outcomes (i.e., if probability > 0.5, predict 1, else 0)\n",
    "fixed_model_predicted_class <- ifelse(fixed_model_predictions > 0.5, \"zwoelf\", \"dezember\")\n",
    "#Compare predicted values to actual values\n",
    "fixed_model_accuracy <- mean(fixed_model_predicted_class == data$CURRENT)\n",
    "fixed_model_accuracy"
   ]
  },
  {
   "cell_type": "code",
   "execution_count": 11,
   "id": "1f83b9e9-b97c-443e-89f1-6f15514f6ad6",
   "metadata": {},
   "outputs": [
    {
     "data": {
      "text/html": [
       "0.805637982195846"
      ],
      "text/latex": [
       "0.805637982195846"
      ],
      "text/markdown": [
       "0.805637982195846"
      ],
      "text/plain": [
       "[1] 0.805638"
      ]
     },
     "metadata": {},
     "output_type": "display_data"
    }
   ],
   "source": [
    "#Calculate baseline accuracy, i.e., a dumb intercept-only model only ever predicting the most frequent outcome\n",
    "counts <- table(data$CURRENT) \n",
    "dumb_model_accuracy <- max(counts) / sum(counts)\n",
    "dumb_model_accuracy"
   ]
  },
  {
   "cell_type": "code",
   "execution_count": 12,
   "id": "09581eaa-64b5-4afb-82fc-ba420893c294",
   "metadata": {},
   "outputs": [
    {
     "data": {
      "text/plain": [
       "\n",
       "\tMcNemar's Chi-squared test with continuity correction\n",
       "\n",
       "data:  mcnemar_table\n",
       "McNemar's chi-squared = 14.881, df = 1, p-value = 0.0001145\n"
      ]
     },
     "metadata": {},
     "output_type": "display_data"
    }
   ],
   "source": [
    "#McNemar's Test for significance against baseline\n",
    "baseline_predicted_class <- rep(names(which.max(counts)), length(data$CURRENT))  #Create baseline predictions (always predict the most frequent outcome)\n",
    "mcnemar_table <- table(\n",
    "  model_correct = (fixed_model_predicted_class == data$CURRENT),\n",
    "  baseline_correct = (baseline_predicted_class == data$CURRENT)) #Create a contingency table: Compare model and baseline predictions against actual values\n",
    "mcnemar_result <- mcnemar.test(mcnemar_table) #Perform McNemar's Test\n",
    "mcnemar_result"
   ]
  },
  {
   "cell_type": "markdown",
   "id": "5a8098d9-c6fd-492f-b664-b377a346b701",
   "metadata": {},
   "source": [
    "## Mixed Model\n",
    "\n",
    "### Model Fitting"
   ]
  },
  {
   "cell_type": "code",
   "execution_count": 13,
   "id": "833e22d3-3222-4f02-ae13-405fe159e335",
   "metadata": {},
   "outputs": [
    {
     "data": {
      "text/plain": [
       "Generalized linear mixed model fit by maximum likelihood (Laplace\n",
       "  Approximation) [glmerMod]\n",
       " Family: binomial  ( logit )\n",
       "Formula: CURRENT ~ PREVIOUS_SPEAKER_COMBINED * PREVIOUS_DISTANCE_LOG +  \n",
       "    PREVIOUS_BETA_ZWOELF + (1 | HUMAN_ID)\n",
       "   Data: data\n",
       "\n",
       "     AIC      BIC   logLik deviance df.resid \n",
       "   317.6    353.7   -150.8    301.6      666 \n",
       "\n",
       "Scaled residuals: \n",
       "    Min      1Q  Median      3Q     Max \n",
       "-9.7382  0.0224  0.0541  0.1445  4.1599 \n",
       "\n",
       "Random effects:\n",
       " Groups   Name        Variance Std.Dev.\n",
       " HUMAN_ID (Intercept) 15.98    3.998   \n",
       "Number of obs: 674, groups:  HUMAN_ID, 27\n",
       "\n",
       "Fixed effects:\n",
       "                                                           Estimate Std. Error\n",
       "(Intercept)                                                 5.59624    1.56626\n",
       "PREVIOUS_SPEAKER_COMBINEDdezember.HS                       -5.78328    2.14478\n",
       "PREVIOUS_SPEAKER_COMBINEDzwoelf.HS                         -0.02319    2.15566\n",
       "PREVIOUS_DISTANCE_LOG                                      -0.37706    0.27502\n",
       "PREVIOUS_BETA_ZWOELFTrue                                   -1.54658    0.41712\n",
       "PREVIOUS_SPEAKER_COMBINEDdezember.HS:PREVIOUS_DISTANCE_LOG  1.19202    0.61368\n",
       "PREVIOUS_SPEAKER_COMBINEDzwoelf.HS:PREVIOUS_DISTANCE_LOG    0.46405    0.73388\n",
       "                                                           z value Pr(>|z|)    \n",
       "(Intercept)                                                  3.573 0.000353 ***\n",
       "PREVIOUS_SPEAKER_COMBINEDdezember.HS                        -2.696 0.007008 ** \n",
       "PREVIOUS_SPEAKER_COMBINEDzwoelf.HS                          -0.011 0.991417    \n",
       "PREVIOUS_DISTANCE_LOG                                       -1.371 0.170369    \n",
       "PREVIOUS_BETA_ZWOELFTrue                                    -3.708 0.000209 ***\n",
       "PREVIOUS_SPEAKER_COMBINEDdezember.HS:PREVIOUS_DISTANCE_LOG   1.942 0.052086 .  \n",
       "PREVIOUS_SPEAKER_COMBINEDzwoelf.HS:PREVIOUS_DISTANCE_LOG     0.632 0.527178    \n",
       "---\n",
       "Signif. codes:  0 ‘***’ 0.001 ‘**’ 0.01 ‘*’ 0.05 ‘.’ 0.1 ‘ ’ 1\n",
       "\n",
       "Correlation of Fixed Effects:\n",
       "                                                    (Intr)\n",
       "PREVIOUS_SPEAKER_COMBINEDd.HS                       -0.370\n",
       "PREVIOUS_SPEAKER_COMBINEDz.HS                       -0.336\n",
       "PREVIOUS_DI                                         -0.685\n",
       "PREVIOUS_BE                                         -0.173\n",
       "PREVIOUS_SPEAKER_COMBINEDd.HS:PREVIOUS_DISTANCE_LOG  0.339\n",
       "PREVIOUS_SPEAKER_COMBINEDz.HS:PREVIOUS_DISTANCE_LOG  0.244\n",
       "                                                    PREVIOUS_SPEAKER_COMBINEDd.HS\n",
       "PREVIOUS_SPEAKER_COMBINEDd.HS                                                    \n",
       "PREVIOUS_SPEAKER_COMBINEDz.HS                        0.257                       \n",
       "PREVIOUS_DI                                          0.506                       \n",
       "PREVIOUS_BE                                          0.106                       \n",
       "PREVIOUS_SPEAKER_COMBINEDd.HS:PREVIOUS_DISTANCE_LOG -0.967                       \n",
       "PREVIOUS_SPEAKER_COMBINEDz.HS:PREVIOUS_DISTANCE_LOG -0.191                       \n",
       "                                                    PREVIOUS_SPEAKER_COMBINEDz.HS\n",
       "PREVIOUS_SPEAKER_COMBINEDd.HS                                                    \n",
       "PREVIOUS_SPEAKER_COMBINEDz.HS                                                    \n",
       "PREVIOUS_DI                                          0.484                       \n",
       "PREVIOUS_BE                                          0.062                       \n",
       "PREVIOUS_SPEAKER_COMBINEDd.HS:PREVIOUS_DISTANCE_LOG -0.233                       \n",
       "PREVIOUS_SPEAKER_COMBINEDz.HS:PREVIOUS_DISTANCE_LOG -0.950                       \n",
       "                                                    PREVIOUS_D PREVIOUS_B\n",
       "PREVIOUS_SPEAKER_COMBINEDd.HS                                            \n",
       "PREVIOUS_SPEAKER_COMBINEDz.HS                                            \n",
       "PREVIOUS_DI                                                              \n",
       "PREVIOUS_BE                                          0.011               \n",
       "PREVIOUS_SPEAKER_COMBINEDd.HS:PREVIOUS_DISTANCE_LOG -0.462     -0.119    \n",
       "PREVIOUS_SPEAKER_COMBINEDz.HS:PREVIOUS_DISTANCE_LOG -0.371     -0.042    \n",
       "                                                    PREVIOUS_SPEAKER_COMBINEDd.HS:PREVIOUS_DISTANCE_LOG\n",
       "PREVIOUS_SPEAKER_COMBINEDd.HS                                                                          \n",
       "PREVIOUS_SPEAKER_COMBINEDz.HS                                                                          \n",
       "PREVIOUS_DI                                                                                            \n",
       "PREVIOUS_BE                                                                                            \n",
       "PREVIOUS_SPEAKER_COMBINEDd.HS:PREVIOUS_DISTANCE_LOG                                                    \n",
       "PREVIOUS_SPEAKER_COMBINEDz.HS:PREVIOUS_DISTANCE_LOG  0.178                                             "
      ]
     },
     "metadata": {},
     "output_type": "display_data"
    }
   ],
   "source": [
    "initial_mixed_model <- glmer(CURRENT ~ PREVIOUS_SPEAKER_COMBINED * PREVIOUS_DISTANCE_LOG + \n",
    "                                      PREVIOUS_BETA_ZWOELF +\n",
    "                                      (1 | HUMAN_ID), \n",
    "                                      data = data, family = binomial)\n",
    "\n",
    "summary(initial_mixed_model)"
   ]
  },
  {
   "cell_type": "code",
   "execution_count": 14,
   "id": "41b8195f-b7c7-45cb-ae04-b1f86c121bb7",
   "metadata": {},
   "outputs": [
    {
     "data": {
      "text/plain": [
       "Generalized linear mixed model fit by maximum likelihood (Laplace\n",
       "  Approximation) [glmerMod]\n",
       " Family: binomial  ( logit )\n",
       "Formula: \n",
       "CURRENT ~ PREVIOUS_SPEAKER_COMBINED * QUASI_PERSISTENCE + PREVIOUS_BETA_ZWOELF +  \n",
       "    (1 | HUMAN_ID)\n",
       "   Data: data\n",
       "\n",
       "     AIC      BIC   logLik deviance df.resid \n",
       "   319.0    355.1   -151.5    303.0      666 \n",
       "\n",
       "Scaled residuals: \n",
       "    Min      1Q  Median      3Q     Max \n",
       "-7.6795  0.0241  0.0585  0.1560  3.3787 \n",
       "\n",
       "Random effects:\n",
       " Groups   Name        Variance Std.Dev.\n",
       " HUMAN_ID (Intercept) 15.94    3.993   \n",
       "Number of obs: 674, groups:  HUMAN_ID, 27\n",
       "\n",
       "Fixed effects:\n",
       "                                                           Estimate Std. Error\n",
       "(Intercept)                                                 3.80135    1.15255\n",
       "PREVIOUS_SPEAKER_COMBINEDdezember.HS                       -1.82305    0.67443\n",
       "PREVIOUS_SPEAKER_COMBINEDzwoelf.HS                          1.81047    0.70069\n",
       "QUASI_PERSISTENCETrue                                       0.53231    0.39863\n",
       "PREVIOUS_BETA_ZWOELFTrue                                   -1.36326    0.41665\n",
       "PREVIOUS_SPEAKER_COMBINEDdezember.HS:QUASI_PERSISTENCETrue  0.44085    1.05522\n",
       "PREVIOUS_SPEAKER_COMBINEDzwoelf.HS:QUASI_PERSISTENCETrue    0.01493    1.35705\n",
       "                                                           z value Pr(>|z|)    \n",
       "(Intercept)                                                  3.298 0.000973 ***\n",
       "PREVIOUS_SPEAKER_COMBINEDdezember.HS                        -2.703 0.006870 ** \n",
       "PREVIOUS_SPEAKER_COMBINEDzwoelf.HS                           2.584 0.009770 ** \n",
       "QUASI_PERSISTENCETrue                                        1.335 0.181770    \n",
       "PREVIOUS_BETA_ZWOELFTrue                                    -3.272 0.001068 ** \n",
       "PREVIOUS_SPEAKER_COMBINEDdezember.HS:QUASI_PERSISTENCETrue   0.418 0.676105    \n",
       "PREVIOUS_SPEAKER_COMBINEDzwoelf.HS:QUASI_PERSISTENCETrue     0.011 0.991224    \n",
       "---\n",
       "Signif. codes:  0 ‘***’ 0.001 ‘**’ 0.01 ‘*’ 0.05 ‘.’ 0.1 ‘ ’ 1\n",
       "\n",
       "Correlation of Fixed Effects:\n",
       "                                                 (Intr)\n",
       "PREVIOUS_SPEAKER_COMBINEDd.HS                    -0.038\n",
       "PREVIOUS_SPEAKER_COMBINEDz.HS                    -0.111\n",
       "QUASI_PERSI                                      -0.162\n",
       "PREVIOUS_BE                                      -0.233\n",
       "PREVIOUS_SPEAKER_COMBINEDd.HS:QUASI_PERSISTENCET  0.027\n",
       "PREVIOUS_SPEAKER_COMBINEDz.HS:QUASI_PERSISTENCET  0.059\n",
       "                                                 PREVIOUS_SPEAKER_COMBINEDd.HS\n",
       "PREVIOUS_SPEAKER_COMBINEDd.HS                                                 \n",
       "PREVIOUS_SPEAKER_COMBINEDz.HS                     0.140                       \n",
       "QUASI_PERSI                                       0.253                       \n",
       "PREVIOUS_BE                                      -0.070                       \n",
       "PREVIOUS_SPEAKER_COMBINEDd.HS:QUASI_PERSISTENCET -0.630                       \n",
       "PREVIOUS_SPEAKER_COMBINEDz.HS:QUASI_PERSISTENCET -0.084                       \n",
       "                                                 PREVIOUS_SPEAKER_COMBINEDz.HS\n",
       "PREVIOUS_SPEAKER_COMBINEDd.HS                                                 \n",
       "PREVIOUS_SPEAKER_COMBINEDz.HS                                                 \n",
       "QUASI_PERSI                                       0.304                       \n",
       "PREVIOUS_BE                                       0.109                       \n",
       "PREVIOUS_SPEAKER_COMBINEDd.HS:QUASI_PERSISTENCET -0.093                       \n",
       "PREVIOUS_SPEAKER_COMBINEDz.HS:QUASI_PERSISTENCET -0.500                       \n",
       "                                                 QUASI_ PREVIOUS_B\n",
       "PREVIOUS_SPEAKER_COMBINEDd.HS                                     \n",
       "PREVIOUS_SPEAKER_COMBINEDz.HS                                     \n",
       "QUASI_PERSI                                                       \n",
       "PREVIOUS_BE                                       0.087           \n",
       "PREVIOUS_SPEAKER_COMBINEDd.HS:QUASI_PERSISTENCET -0.340  0.093    \n",
       "PREVIOUS_SPEAKER_COMBINEDz.HS:QUASI_PERSISTENCET -0.285 -0.036    \n",
       "                                                 PREVIOUS_SPEAKER_COMBINEDd.HS:QUASI_PERSISTENCET\n",
       "PREVIOUS_SPEAKER_COMBINEDd.HS                                                                    \n",
       "PREVIOUS_SPEAKER_COMBINEDz.HS                                                                    \n",
       "QUASI_PERSI                                                                                      \n",
       "PREVIOUS_BE                                                                                      \n",
       "PREVIOUS_SPEAKER_COMBINEDd.HS:QUASI_PERSISTENCET                                                 \n",
       "PREVIOUS_SPEAKER_COMBINEDz.HS:QUASI_PERSISTENCET  0.101                                          "
      ]
     },
     "metadata": {},
     "output_type": "display_data"
    }
   ],
   "source": [
    "final_mixed_model <- glmer(CURRENT ~ PREVIOUS_SPEAKER_COMBINED * QUASI_PERSISTENCE +\n",
    "                                         PREVIOUS_BETA_ZWOELF + \n",
    "                                         (1 | HUMAN_ID), \n",
    "                                         data = data, family = binomial)\n",
    "\n",
    "summary(final_mixed_model)"
   ]
  },
  {
   "cell_type": "markdown",
   "id": "615560d4-8615-40e9-8954-f93790627506",
   "metadata": {},
   "source": [
    "### Model evaluation\n",
    "\n",
    "#### R² and AIC"
   ]
  },
  {
   "cell_type": "code",
   "execution_count": 15,
   "id": "eaa58c01-052a-4bdd-ac60-5a471ee172a8",
   "metadata": {},
   "outputs": [
    {
     "data": {
      "text/html": [
       "<dl>\n",
       "\t<dt>$R2_conditional</dt>\n",
       "\t\t<dd><strong>Conditional R2:</strong> 0.840938603197816</dd>\n",
       "\t<dt>$R2_marginal</dt>\n",
       "\t\t<dd><strong>Marginal R2:</strong> 0.0682174467372713</dd>\n",
       "</dl>\n"
      ],
      "text/latex": [
       "\\begin{description}\n",
       "\\item[\\$R2\\_conditional] \\textbf{Conditional R2:} 0.840938603197816\n",
       "\\item[\\$R2\\_marginal] \\textbf{Marginal R2:} 0.0682174467372713\n",
       "\\end{description}\n"
      ],
      "text/markdown": [
       "$R2_conditional\n",
       ":   **Conditional R2:** 0.840938603197816\n",
       "$R2_marginal\n",
       ":   **Marginal R2:** 0.0682174467372713\n",
       "\n",
       "\n"
      ],
      "text/plain": [
       "\u001b[34m# R2 for Mixed Models\n",
       "\n",
       "\u001b[39m  Conditional R2: 0.841\n",
       "     Marginal R2: 0.068"
      ]
     },
     "metadata": {},
     "output_type": "display_data"
    },
    {
     "data": {
      "text/html": [
       "317.552948820213"
      ],
      "text/latex": [
       "317.552948820213"
      ],
      "text/markdown": [
       "317.552948820213"
      ],
      "text/plain": [
       "[1] 317.5529"
      ]
     },
     "metadata": {},
     "output_type": "display_data"
    },
    {
     "data": {
      "text/html": [
       "<dl>\n",
       "\t<dt>$R2_conditional</dt>\n",
       "\t\t<dd><strong>Conditional R2:</strong> 0.840397247782565</dd>\n",
       "\t<dt>$R2_marginal</dt>\n",
       "\t\t<dd><strong>Marginal R2:</strong> 0.0668839389908264</dd>\n",
       "</dl>\n"
      ],
      "text/latex": [
       "\\begin{description}\n",
       "\\item[\\$R2\\_conditional] \\textbf{Conditional R2:} 0.840397247782565\n",
       "\\item[\\$R2\\_marginal] \\textbf{Marginal R2:} 0.0668839389908264\n",
       "\\end{description}\n"
      ],
      "text/markdown": [
       "$R2_conditional\n",
       ":   **Conditional R2:** 0.840397247782565\n",
       "$R2_marginal\n",
       ":   **Marginal R2:** 0.0668839389908264\n",
       "\n",
       "\n"
      ],
      "text/plain": [
       "\u001b[34m# R2 for Mixed Models\n",
       "\n",
       "\u001b[39m  Conditional R2: 0.840\n",
       "     Marginal R2: 0.067"
      ]
     },
     "metadata": {},
     "output_type": "display_data"
    },
    {
     "data": {
      "text/html": [
       "319.029485867934"
      ],
      "text/latex": [
       "319.029485867934"
      ],
      "text/markdown": [
       "319.029485867934"
      ],
      "text/plain": [
       "[1] 319.0295"
      ]
     },
     "metadata": {},
     "output_type": "display_data"
    }
   ],
   "source": [
    "r2(initial_mixed_model)\n",
    "AIC(initial_mixed_model)\n",
    "\n",
    "r2(final_mixed_model)\n",
    "AIC(final_mixed_model)"
   ]
  },
  {
   "cell_type": "markdown",
   "id": "bbeec4b7-a29c-4cb7-8336-451b40e2455c",
   "metadata": {},
   "source": [
    "#### Predictive Efficiency"
   ]
  },
  {
   "cell_type": "code",
   "execution_count": 16,
   "id": "7b9960d1-85dd-4f59-9a0d-ea57f723a279",
   "metadata": {},
   "outputs": [
    {
     "data": {
      "text/html": [
       "0.933234421364985"
      ],
      "text/latex": [
       "0.933234421364985"
      ],
      "text/markdown": [
       "0.933234421364985"
      ],
      "text/plain": [
       "[1] 0.9332344"
      ]
     },
     "metadata": {},
     "output_type": "display_data"
    }
   ],
   "source": [
    "#Predicting based on final_mixed_model\n",
    "mixed_model_predictions <- predict(final_mixed_model, newdata = data, type = \"response\")\n",
    "#Convert probabilities to binary outcomes (i.e., if probability > 0.5, predict 1, else 0)\n",
    "mixed_model_predicted_class <- ifelse(mixed_model_predictions > 0.5, \"zwoelf\", \"dezember\")\n",
    "#Compare predicted values to actual values\n",
    "mixed_model_accuracy <- mean(mixed_model_predicted_class == data$CURRENT)\n",
    "mixed_model_accuracy"
   ]
  },
  {
   "cell_type": "code",
   "execution_count": 17,
   "id": "0132e5d2-49d9-4368-b232-3e96bc0d4fd0",
   "metadata": {},
   "outputs": [
    {
     "data": {
      "text/html": [
       "0.805637982195846"
      ],
      "text/latex": [
       "0.805637982195846"
      ],
      "text/markdown": [
       "0.805637982195846"
      ],
      "text/plain": [
       "[1] 0.805638"
      ]
     },
     "metadata": {},
     "output_type": "display_data"
    }
   ],
   "source": [
    "#Calculate baseline accuracy, i.e., a dumb intercept-only model only ever predicting the most frequent outcome\n",
    "counts <- table(data$CURRENT) \n",
    "dumb_model_accuracy <- max(counts) / sum(counts)\n",
    "dumb_model_accuracy"
   ]
  },
  {
   "cell_type": "code",
   "execution_count": 18,
   "id": "43fc8d9b-9ca9-4164-9cbc-8521c2315641",
   "metadata": {},
   "outputs": [
    {
     "data": {
      "text/plain": [
       "\n",
       "\tMcNemar's Chi-squared test with continuity correction\n",
       "\n",
       "data:  mcnemar_table\n",
       "McNemar's chi-squared = 62.284, df = 1, p-value = 2.973e-15\n"
      ]
     },
     "metadata": {},
     "output_type": "display_data"
    }
   ],
   "source": [
    "#McNemar's Test for significance against baseline\n",
    "baseline_predicted_class <- rep(names(which.max(counts)), length(data$CURRENT))  #Create baseline predictions (always predict the most frequent outcome)\n",
    "mcnemar_table <- table(\n",
    "  model_correct = (mixed_model_predicted_class == data$CURRENT),\n",
    "  baseline_correct = (baseline_predicted_class == data$CURRENT)) #Create a contingency table: Compare model and baseline predictions against actual values\n",
    "mcnemar_result <- mcnemar.test(mcnemar_table) #Perform McNemar's Test\n",
    "mcnemar_result"
   ]
  },
  {
   "cell_type": "code",
   "execution_count": 19,
   "id": "051fcd6e-4e49-4c1a-874a-cac4784be350",
   "metadata": {},
   "outputs": [
    {
     "data": {
      "text/plain": [
       "\n",
       "\tMcNemar's Chi-squared test with continuity correction\n",
       "\n",
       "data:  mcnemar_table\n",
       "McNemar's chi-squared = 42.451, df = 1, p-value = 7.247e-11\n"
      ]
     },
     "metadata": {},
     "output_type": "display_data"
    }
   ],
   "source": [
    "#McNemar's Test for significance against fixed effects model\n",
    "baseline_predicted_class <- rep(names(which.max(counts)), length(data$CURRENT))  #Create baseline predictions (always predict the most frequent outcome)\n",
    "mcnemar_table <- table(\n",
    "  mixed_model_correct = (mixed_model_predicted_class == data$CURRENT),\n",
    "  fixed_model_correct = (fixed_model_predicted_class == data$CURRENT)) #Create a contingency table: Compare model and baseline predictions against actual values\n",
    "mcnemar_result <- mcnemar.test(mcnemar_table) #Perform McNemar's Test\n",
    "mcnemar_result"
   ]
  },
  {
   "cell_type": "markdown",
   "id": "149f056a-6c51-4970-b207-393f75d3b36e",
   "metadata": {},
   "source": [
    "#### Multicollinearity / Pairwise Correlations"
   ]
  },
  {
   "cell_type": "code",
   "execution_count": 20,
   "id": "a7d10e2c-12cb-4ab0-a9fa-e83194f2e77a",
   "metadata": {},
   "outputs": [
    {
     "name": "stderr",
     "output_type": "stream",
     "text": [
      "Lade nötiges Paket: carData\n",
      "\n",
      "\n",
      "Attache Paket: ‘car’\n",
      "\n",
      "\n",
      "Das folgende Objekt ist maskiert ‘package:dplyr’:\n",
      "\n",
      "    recode\n",
      "\n",
      "\n"
     ]
    },
    {
     "data": {
      "text/html": [
       "<table class=\"dataframe\">\n",
       "<caption>A matrix: 4 × 3 of type dbl</caption>\n",
       "<thead>\n",
       "\t<tr><th></th><th scope=col>GVIF</th><th scope=col>Df</th><th scope=col>GVIF^(1/(2*Df))</th></tr>\n",
       "</thead>\n",
       "<tbody>\n",
       "\t<tr><th scope=row>PREVIOUS_SPEAKER_COMBINED</th><td>2.302543</td><td>2</td><td>1.231833</td></tr>\n",
       "\t<tr><th scope=row>QUASI_PERSISTENCE</th><td>1.277183</td><td>1</td><td>1.130125</td></tr>\n",
       "\t<tr><th scope=row>PREVIOUS_BETA_ZWOELF</th><td>1.034886</td><td>1</td><td>1.017293</td></tr>\n",
       "\t<tr><th scope=row>PREVIOUS_SPEAKER_COMBINED:QUASI_PERSISTENCE</th><td>2.417771</td><td>2</td><td>1.246964</td></tr>\n",
       "</tbody>\n",
       "</table>\n"
      ],
      "text/latex": [
       "A matrix: 4 × 3 of type dbl\n",
       "\\begin{tabular}{r|lll}\n",
       "  & GVIF & Df & GVIF\\textasciicircum{}(1/(2*Df))\\\\\n",
       "\\hline\n",
       "\tPREVIOUS\\_SPEAKER\\_COMBINED & 2.302543 & 2 & 1.231833\\\\\n",
       "\tQUASI\\_PERSISTENCE & 1.277183 & 1 & 1.130125\\\\\n",
       "\tPREVIOUS\\_BETA\\_ZWOELF & 1.034886 & 1 & 1.017293\\\\\n",
       "\tPREVIOUS\\_SPEAKER\\_COMBINED:QUASI\\_PERSISTENCE & 2.417771 & 2 & 1.246964\\\\\n",
       "\\end{tabular}\n"
      ],
      "text/markdown": [
       "\n",
       "A matrix: 4 × 3 of type dbl\n",
       "\n",
       "| <!--/--> | GVIF | Df | GVIF^(1/(2*Df)) |\n",
       "|---|---|---|---|\n",
       "| PREVIOUS_SPEAKER_COMBINED | 2.302543 | 2 | 1.231833 |\n",
       "| QUASI_PERSISTENCE | 1.277183 | 1 | 1.130125 |\n",
       "| PREVIOUS_BETA_ZWOELF | 1.034886 | 1 | 1.017293 |\n",
       "| PREVIOUS_SPEAKER_COMBINED:QUASI_PERSISTENCE | 2.417771 | 2 | 1.246964 |\n",
       "\n"
      ],
      "text/plain": [
       "                                            GVIF     Df GVIF^(1/(2*Df))\n",
       "PREVIOUS_SPEAKER_COMBINED                   2.302543 2  1.231833       \n",
       "QUASI_PERSISTENCE                           1.277183 1  1.130125       \n",
       "PREVIOUS_BETA_ZWOELF                        1.034886 1  1.017293       \n",
       "PREVIOUS_SPEAKER_COMBINED:QUASI_PERSISTENCE 2.417771 2  1.246964       "
      ]
     },
     "metadata": {},
     "output_type": "display_data"
    }
   ],
   "source": [
    "library(car) #only importing it now as the module otherwise interferes with code execution above\n",
    "vif(final_mixed_model)"
   ]
  },
  {
   "cell_type": "markdown",
   "id": "665b15f3-c24d-4625-9695-185fbc111736",
   "metadata": {},
   "source": [
    "#### Random Effect Structure\n",
    "\n",
    "Given the substantially improved fit and AIC compared to the simple model, checking whether there are enough data points per group of HUMAN_ID, as too low a number could lead to overfitting."
   ]
  },
  {
   "cell_type": "code",
   "execution_count": 21,
   "id": "8abf8508-fbc8-4607-b317-2bda668cc490",
   "metadata": {},
   "outputs": [
    {
     "data": {
      "text/plain": [
       "\n",
       "20171121A 20171121B 20171121C 20171122A 20171122B 20171122C 20171123A 20171123B \n",
       "       15        17        37        12        24        18        27         9 \n",
       "20171123D 20171123E 20171123F 20171127A 20171127B 20171127C 20171128A 20171128B \n",
       "       26        21        30        22        26        20        24        33 \n",
       "20171129A 20171129B 20171129C 20171129D 20171130A 20171130B 20171130C 20171201A \n",
       "       32        29        33        15        31        34        29        18 \n",
       "20171201B 20171208A 20171208B \n",
       "       41        29        22 "
      ]
     },
     "metadata": {},
     "output_type": "display_data"
    },
    {
     "data": {
      "text/html": [
       "24.962962962963"
      ],
      "text/latex": [
       "24.962962962963"
      ],
      "text/markdown": [
       "24.962962962963"
      ],
      "text/plain": [
       "[1] 24.96296"
      ]
     },
     "metadata": {},
     "output_type": "display_data"
    },
    {
     "data": {
      "text/html": [
       "7.89586786520198"
      ],
      "text/latex": [
       "7.89586786520198"
      ],
      "text/markdown": [
       "7.89586786520198"
      ],
      "text/plain": [
       "[1] 7.895868"
      ]
     },
     "metadata": {},
     "output_type": "display_data"
    },
    {
     "data": {
      "text/html": [
       "27"
      ],
      "text/latex": [
       "27"
      ],
      "text/markdown": [
       "27"
      ],
      "text/plain": [
       "[1] 27"
      ]
     },
     "metadata": {},
     "output_type": "display_data"
    }
   ],
   "source": [
    "table(data$HUMAN_ID) \n",
    "mean(table(data$HUMAN_ID)) #more than 20 per group which is recommended\n",
    "sd(table(data$HUMAN_ID))\n",
    "length(unique(data$HUMAN_ID)) #slightly below rule of thumb of 30 groups"
   ]
  },
  {
   "cell_type": "markdown",
   "id": "4f560342-f479-440b-a22c-9b1a0668b21a",
   "metadata": {},
   "source": [
    "#### Leave-One-Out Cross Validation\n",
    "\n",
    "Fitting models with one data point left out at each time, then having the models predict the left-out data point. Finally, seeing how well the models predict unseen data, giving an estimate of model performance. \n",
    "\n",
    "Note that this code takes a long time to fully execute."
   ]
  },
  {
   "cell_type": "code",
   "execution_count": null,
   "id": "24d40e1b-ce62-471c-95aa-20b5d32967de",
   "metadata": {
    "scrolled": true
   },
   "outputs": [
    {
     "name": "stdout",
     "output_type": "stream",
     "text": [
      "[1] 1\n",
      "[1] 2\n",
      "[1] 3\n",
      "[1] 4\n",
      "[1] 5\n",
      "[1] 6\n",
      "[1] 7\n",
      "[1] 8\n",
      "[1] 9\n",
      "[1] 10\n",
      "[1] 11\n",
      "[1] 12\n",
      "[1] 13\n",
      "[1] 14\n",
      "[1] 15\n",
      "[1] 16\n",
      "[1] 17\n",
      "[1] 18\n",
      "[1] 19\n",
      "[1] 20\n",
      "[1] 21\n",
      "[1] 22\n",
      "[1] 23\n",
      "[1] 24\n",
      "[1] 25\n",
      "[1] 26\n",
      "[1] 27\n",
      "[1] 28\n",
      "[1] 29\n",
      "[1] 30\n",
      "[1] 31\n",
      "[1] 32\n",
      "[1] 33\n",
      "[1] 34\n",
      "[1] 35\n",
      "[1] 36\n",
      "[1] 37\n",
      "[1] 38\n",
      "[1] 39\n",
      "[1] 40\n",
      "[1] 41\n",
      "[1] 42\n",
      "[1] 43\n",
      "[1] 44\n",
      "[1] 45\n",
      "[1] 46\n",
      "[1] 47\n",
      "[1] 48\n",
      "[1] 49\n",
      "[1] 50\n",
      "[1] 51\n",
      "[1] 52\n",
      "[1] 53\n",
      "[1] 54\n",
      "[1] 55\n",
      "[1] 56\n",
      "[1] 57\n",
      "[1] 58\n",
      "[1] 59\n",
      "[1] 60\n",
      "[1] 61\n",
      "[1] 62\n",
      "[1] 63\n",
      "[1] 64\n",
      "[1] 65\n",
      "[1] 66\n",
      "[1] 67\n",
      "[1] 68\n",
      "[1] 69\n",
      "[1] 70\n",
      "[1] 71\n",
      "[1] 72\n",
      "[1] 73\n",
      "[1] 74\n",
      "[1] 75\n",
      "[1] 76\n",
      "[1] 77\n",
      "[1] 78\n",
      "[1] 79\n",
      "[1] 80\n",
      "[1] 81\n",
      "[1] 82\n",
      "[1] 83\n",
      "[1] 84\n",
      "[1] 85\n",
      "[1] 86\n",
      "[1] 87\n",
      "[1] 88\n",
      "[1] 89\n",
      "[1] 90\n",
      "[1] 91\n",
      "[1] 92\n",
      "[1] 93\n",
      "[1] 94\n",
      "[1] 95\n",
      "[1] 96\n",
      "[1] 97\n",
      "[1] 98\n",
      "[1] 99\n",
      "[1] 100\n",
      "[1] 101\n",
      "[1] 102\n",
      "[1] 103\n",
      "[1] 104\n",
      "[1] 105\n",
      "[1] 106\n",
      "[1] 107\n",
      "[1] 108\n",
      "[1] 109\n",
      "[1] 110\n",
      "[1] 111\n",
      "[1] 112\n",
      "[1] 113\n",
      "[1] 114\n",
      "[1] 115\n",
      "[1] 116\n",
      "[1] 117\n",
      "[1] 118\n",
      "[1] 119\n",
      "[1] 120\n",
      "[1] 121\n",
      "[1] 122\n",
      "[1] 123\n",
      "[1] 124\n",
      "[1] 125\n",
      "[1] 126\n",
      "[1] 127\n",
      "[1] 128\n",
      "[1] 129\n",
      "[1] 130\n",
      "[1] 131\n",
      "[1] 132\n",
      "[1] 133\n",
      "[1] 134\n",
      "[1] 135\n",
      "[1] 136\n",
      "[1] 137\n",
      "[1] 138\n",
      "[1] 139\n",
      "[1] 140\n",
      "[1] 141\n",
      "[1] 142\n",
      "[1] 143\n",
      "[1] 144\n",
      "[1] 145\n",
      "[1] 146\n",
      "[1] 147\n",
      "[1] 148\n",
      "[1] 149\n",
      "[1] 150\n",
      "[1] 151\n",
      "[1] 152\n",
      "[1] 153\n",
      "[1] 154\n",
      "[1] 155\n",
      "[1] 156\n",
      "[1] 157\n",
      "[1] 158\n",
      "[1] 159\n",
      "[1] 160\n",
      "[1] 161\n",
      "[1] 162\n",
      "[1] 163\n",
      "[1] 164\n",
      "[1] 165\n",
      "[1] 166\n",
      "[1] 167\n",
      "[1] 168\n",
      "[1] 169\n",
      "[1] 170\n",
      "[1] 171\n",
      "[1] 172\n",
      "[1] 173\n",
      "[1] 174\n",
      "[1] 175\n",
      "[1] 176\n",
      "[1] 177\n",
      "[1] 178\n",
      "[1] 179\n",
      "[1] 180\n",
      "[1] 181\n",
      "[1] 182\n",
      "[1] 183\n",
      "[1] 184\n",
      "[1] 185\n",
      "[1] 186\n",
      "[1] 187\n",
      "[1] 188\n",
      "[1] 189\n",
      "[1] 190\n",
      "[1] 191\n",
      "[1] 192\n",
      "[1] 193\n",
      "[1] 194\n",
      "[1] 195\n",
      "[1] 196\n",
      "[1] 197\n",
      "[1] 198\n",
      "[1] 199\n",
      "[1] 200\n",
      "[1] 201\n",
      "[1] 202\n",
      "[1] 203\n",
      "[1] 204\n",
      "[1] 205\n",
      "[1] 206\n",
      "[1] 207\n",
      "[1] 208\n",
      "[1] 209\n",
      "[1] 210\n",
      "[1] 211\n",
      "[1] 212\n",
      "[1] 213\n",
      "[1] 214\n",
      "[1] 215\n",
      "[1] 216\n",
      "[1] 217\n",
      "[1] 218\n",
      "[1] 219\n",
      "[1] 220\n",
      "[1] 221\n",
      "[1] 222\n",
      "[1] 223\n",
      "[1] 224\n",
      "[1] 225\n",
      "[1] 226\n",
      "[1] 227\n",
      "[1] 228\n",
      "[1] 229\n",
      "[1] 230\n",
      "[1] 231\n",
      "[1] 232\n",
      "[1] 233\n",
      "[1] 234\n",
      "[1] 235\n",
      "[1] 236\n",
      "[1] 237\n",
      "[1] 238\n",
      "[1] 239\n",
      "[1] 240\n",
      "[1] 241\n",
      "[1] 242\n",
      "[1] 243\n",
      "[1] 244\n",
      "[1] 245\n",
      "[1] 246\n",
      "[1] 247\n",
      "[1] 248\n",
      "[1] 249\n",
      "[1] 250\n",
      "[1] 251\n",
      "[1] 252\n",
      "[1] 253\n",
      "[1] 254\n",
      "[1] 255\n",
      "[1] 256\n",
      "[1] 257\n",
      "[1] 258\n",
      "[1] 259\n",
      "[1] 260\n",
      "[1] 261\n",
      "[1] 262\n",
      "[1] 263\n",
      "[1] 264\n",
      "[1] 265\n",
      "[1] 266\n",
      "[1] 267\n",
      "[1] 268\n",
      "[1] 269\n",
      "[1] 270\n",
      "[1] 271\n",
      "[1] 272\n",
      "[1] 273\n",
      "[1] 274\n",
      "[1] 275\n",
      "[1] 276\n",
      "[1] 277\n",
      "[1] 278\n",
      "[1] 279\n",
      "[1] 280\n",
      "[1] 281\n",
      "[1] 282\n",
      "[1] 283\n",
      "[1] 284\n",
      "[1] 285\n",
      "[1] 286\n",
      "[1] 287\n",
      "[1] 288\n",
      "[1] 289\n",
      "[1] 290\n",
      "[1] 291\n",
      "[1] 292\n",
      "[1] 293\n",
      "[1] 294\n",
      "[1] 295\n",
      "[1] 296\n",
      "[1] 297\n",
      "[1] 298\n",
      "[1] 299\n",
      "[1] 300\n",
      "[1] 301\n",
      "[1] 302\n",
      "[1] 303\n",
      "[1] 304\n",
      "[1] 305\n",
      "[1] 306\n",
      "[1] 307\n",
      "[1] 308\n",
      "[1] 309\n",
      "[1] 310\n",
      "[1] 311\n",
      "[1] 312\n",
      "[1] 313\n",
      "[1] 314\n",
      "[1] 315\n",
      "[1] 316\n",
      "[1] 317\n",
      "[1] 318\n",
      "[1] 319\n",
      "[1] 320\n",
      "[1] 321\n",
      "[1] 322\n",
      "[1] 323\n",
      "[1] 324\n",
      "[1] 325\n",
      "[1] 326\n",
      "[1] 327\n",
      "[1] 328\n"
     ]
    },
    {
     "name": "stderr",
     "output_type": "stream",
     "text": [
      "Warning message in checkConv(attr(opt, \"derivs\"), opt$par, ctrl = control$checkConv, :\n",
      "“unable to evaluate scaled gradient”\n",
      "Warning message in checkConv(attr(opt, \"derivs\"), opt$par, ctrl = control$checkConv, :\n",
      "“Model failed to converge: degenerate  Hessian with 1 negative eigenvalues”\n"
     ]
    }
   ],
   "source": [
    "predictions <- numeric(nrow(data)) #vector for storing predictions\n",
    "\n",
    "#Iterating over dataset\n",
    "for (i in 1:nrow(data)) {\n",
    "    print(i)\n",
    "    \n",
    "    train_data <- data[-i, ] #creating 'train_data' which leaves out the current data point\n",
    "\n",
    "    #fitting model on 'train_data'\n",
    "    model_loo <- glmer(CURRENT ~ PREVIOUS_SPEAKER_COMBINED * QUASI_PERSISTENCE +\n",
    "                       PREVIOUS_BETA_ZWOELF + \n",
    "                       (1 | HUMAN_ID), \n",
    "                       data = train_data, family = binomial)\n",
    "\n",
    "    #checking if model converged, if yes (messages are NULL)...\n",
    "    if (is.null(model_loo@optinfo$conv$lme4$messages)) {\n",
    "        #having 'model_loo' predict the current data point and storing it in 'predictions'\n",
    "        predictions[i] <- predict(model_loo, newdata = data[i, , drop = FALSE], type = \"response\")\n",
    "    } else { \n",
    "        predictions[i] <- NA #if not, storing NA (otherwise R fills 'predictions' for missing indices with 0 which, however, could also be a probability)\n",
    "        }\n",
    "}"
   ]
  },
  {
   "cell_type": "markdown",
   "id": "e097d35a-4874-495a-acd6-959bdbb6d1d2",
   "metadata": {},
   "source": [
    "Checking in how many cases no prediction could be made as the model did not converge on the remaining data points, filtering for valid predictions only."
   ]
  },
  {
   "cell_type": "code",
   "execution_count": null,
   "id": "aec816f0-1f2f-40a0-ab79-21e6bffda9a2",
   "metadata": {},
   "outputs": [],
   "source": [
    "sum(is.na(predictions))\n",
    "filtered_predictions <- predictions[!is.na(predictions)] "
   ]
  },
  {
   "cell_type": "markdown",
   "id": "fa2250ed-958d-4f46-aa93-a9c82a9a5acc",
   "metadata": {},
   "source": [
    "Extracting the ground truth and filtering for values where a prediction could be made as a model was successfully fitted on the remaining data points. "
   ]
  },
  {
   "cell_type": "code",
   "execution_count": null,
   "id": "a81791cb-893d-4859-beaf-4be5f7823dc5",
   "metadata": {},
   "outputs": [],
   "source": [
    "actuals <- data$CURRENT\n",
    "filtered_actuals <- actuals[!is.na(predictions)] \n",
    "length(filtered_actuals) == length(filtered_predictions)"
   ]
  },
  {
   "cell_type": "markdown",
   "id": "2e07204c-492b-4215-8769-039966facde3",
   "metadata": {},
   "source": [
    "Replacing probabilities in `filtered_predictions` such that values above 0.5 mean \"zwoelf\" was predicted (\"zwoelf\" is the modelled level) and values below mean \"dezember\" was predicted instead."
   ]
  },
  {
   "cell_type": "code",
   "execution_count": null,
   "id": "27dcb4ed-2401-4696-a839-ee474530c1ca",
   "metadata": {
    "scrolled": true
   },
   "outputs": [],
   "source": [
    "predicted_class <- ifelse(filtered_predictions > 0.5, \"zwoelf\", \"dezember\")\n",
    "predicted_class"
   ]
  },
  {
   "cell_type": "markdown",
   "id": "038b2379-0eed-46f1-9b54-7d65441fd729",
   "metadata": {},
   "source": [
    "Comparing ground truth with predicted class for each data point and calculating mean."
   ]
  },
  {
   "cell_type": "code",
   "execution_count": null,
   "id": "dd992b27-fdb8-42f5-a89e-57d5f76791c4",
   "metadata": {},
   "outputs": [],
   "source": [
    "mean(filtered_actuals == predicted_class)"
   ]
  },
  {
   "cell_type": "markdown",
   "id": "320a9ed5-607c-4782-bdf9-908498a6daa4",
   "metadata": {},
   "source": [
    "### Visualisation\n",
    "\n",
    "#### Coefficient Plot"
   ]
  },
  {
   "cell_type": "code",
   "execution_count": null,
   "id": "477de9e3-e00b-4f10-9f4f-cbf50783bfc7",
   "metadata": {},
   "outputs": [],
   "source": [
    "model_summary <- tidy(final_mixed_model, conf.int = TRUE) %>% filter(effect == \"fixed\")  #Include only fixed effects\n",
    "\n",
    "plot <- ggplot(model_summary, aes(x = estimate, y = term, color = p.value < 0.05)) +\n",
    "          geom_point(size = 3) +\n",
    "          geom_errorbarh(aes(xmin = conf.low, xmax = conf.high), height = 0.2) +  \n",
    "          geom_vline(xintercept = 0, linetype = \"dashed\") +\n",
    "          labs(\n",
    "            x = \"Estimated Coefficient\",\n",
    "            y = \"Predictors\",\n",
    "          ) +\n",
    "          theme_minimal() +\n",
    "          scale_color_manual(values = c(\"TRUE\" = \"black\", \"FALSE\" = \"gray\")) +  #Grey out non-significant predictors\n",
    "          coord_fixed(ratio = 0.5)\n",
    "\n",
    "plot"
   ]
  },
  {
   "cell_type": "markdown",
   "id": "dae4102a-7378-40d8-bf7d-ddf5f4713519",
   "metadata": {},
   "source": [
    "#### Prediction Plot\n",
    "\n",
    "Plot visualises the probability of observing \"zwoelf\" in CURRENT given different combinations of variants in PREVIOUS and SPEAKERS."
   ]
  },
  {
   "cell_type": "code",
   "execution_count": null,
   "id": "b737cfbf-d72d-45b0-9475-d8d40caae4a7",
   "metadata": {},
   "outputs": [],
   "source": [
    "#for \"zwölf\" in CURRENT\n",
    "plot <- plot_model(final_mixed_model, type = \"pred\", \n",
    "                   terms = c(\"PREVIOUS_SPEAKER_COMBINED\", \"PREVIOUS_BETA_ZWOELF\"), \n",
    "                   group = \"HUMAN_ID\", dpi = 300)\n",
    "\n",
    "plot <- plot +\n",
    "    aes(color = as.factor(group), shape = as.factor(group)) +\n",
    "    scale_shape_manual(values = c(16, 17)) +\n",
    "    guides(color = guide_legend(title = \"PREVIOUS_BETA_ZWOELF\"),\n",
    "    shape = guide_legend(title = \"PREVIOUS_BETA_ZWOELF\")) +\n",
    "    theme_minimal(base_size = 12) +\n",
    "    theme(plot.title = element_blank(),\n",
    "          legend.position = \"right\")\n",
    "\n",
    "plot"
   ]
  }
 ],
 "metadata": {
  "kernelspec": {
   "display_name": "R",
   "language": "R",
   "name": "ir"
  },
  "language_info": {
   "codemirror_mode": "r",
   "file_extension": ".r",
   "mimetype": "text/x-r-source",
   "name": "R",
   "pygments_lexer": "r",
   "version": "4.4.1"
  }
 },
 "nbformat": 4,
 "nbformat_minor": 5
}
