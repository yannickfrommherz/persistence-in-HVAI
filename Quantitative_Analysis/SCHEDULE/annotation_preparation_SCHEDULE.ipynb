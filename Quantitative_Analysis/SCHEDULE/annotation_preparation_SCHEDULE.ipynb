{
 "cells": [
  {
   "cell_type": "code",
   "execution_count": 23,
   "id": "92022705-e2ce-4cd1-b8b0-2b08820778c5",
   "metadata": {},
   "outputs": [],
   "source": [
    "import pandas as pd\n",
    "from importlib import reload\n",
    "import sys\n",
    "sys.path.append(\"../../code/\")\n",
    "import annotation#\n",
    "import quantification\n",
    "pd.set_option('display.max_rows', 500)"
   ]
  },
  {
   "cell_type": "code",
   "execution_count": 24,
   "id": "dff9eea8-3e3b-488d-8dcd-bbc046a3cc2b",
   "metadata": {},
   "outputs": [],
   "source": [
    "alternation_set = [\"erstellen\", \"eintragen\", \"tragen\", \"speichern\", \"hinzufügen\", \"fügen\", \"markieren\", \"planen\", \"vereinbaren\"] "
   ]
  },
  {
   "cell_type": "code",
   "execution_count": 25,
   "id": "6fe4ff30-2027-4596-a558-6eade300b7cb",
   "metadata": {},
   "outputs": [],
   "source": [
    "alternating = \"alternating_Terminerstellung\""
   ]
  },
  {
   "cell_type": "markdown",
   "id": "91511f95-7cdb-4d54-be14-e75b3bc315bf",
   "metadata": {},
   "source": [
    "# Annotation"
   ]
  },
  {
   "cell_type": "code",
   "execution_count": 26,
   "id": "e9efaf4e-e57a-433e-b8e6-df7d8a442984",
   "metadata": {},
   "outputs": [
    {
     "data": {
      "text/plain": [
       "330"
      ]
     },
     "execution_count": 26,
     "metadata": {},
     "output_type": "execute_result"
    }
   ],
   "source": [
    "#load a df which features the column \"alternating\"\n",
    "df = pd.read_csv(\"../VACC.csv\", sep=\",\", index_col=0, na_filter=False)\n",
    "len(df[df[alternating]==\"yes\"])"
   ]
  },
  {
   "cell_type": "code",
   "execution_count": 27,
   "id": "e391c9b2-1b66-4531-a3d2-844d4e74f419",
   "metadata": {},
   "outputs": [],
   "source": [
    "reload(annotation)\n",
    "df_updated = annotation.alternation_check(df, alternation_set, alternating)\n",
    "df_updated.to_csv(\"../VACC.csv\")"
   ]
  },
  {
   "cell_type": "code",
   "execution_count": 28,
   "id": "97810a09-3287-40c4-8c59-232087ff74b6",
   "metadata": {},
   "outputs": [],
   "source": [
    "#finally assign \"no\" to remaining cases\n",
    "df_updated[alternating] = df_updated[alternating].replace(\"\", \"no\")\n",
    "df_updated[alternating].value_counts()\n",
    "df_updated.to_csv(\"../VACC.csv\")"
   ]
  },
  {
   "cell_type": "markdown",
   "id": "3e89208e-aaaf-47e0-8146-746a8ef271c4",
   "metadata": {},
   "source": [
    "## Overview"
   ]
  },
  {
   "cell_type": "code",
   "execution_count": 29,
   "id": "242a7222-65c4-4a59-924c-cb467d0e19f0",
   "metadata": {},
   "outputs": [
    {
     "data": {
      "text/plain": [
       "speaker  alternating_Terminerstellung\n",
       "A        no                              32733\n",
       "         yes                               237\n",
       "J        no                              18647\n",
       "         yes                                13\n",
       "S        no                              33324\n",
       "         yes                                80\n",
       "Name: alternating_Terminerstellung, dtype: int64"
      ]
     },
     "execution_count": 29,
     "metadata": {},
     "output_type": "execute_result"
    }
   ],
   "source": [
    "df = pd.read_csv(\"../VACC.csv\", sep=\",\", index_col=0, na_filter=False)\n",
    "df.groupby(\"speaker\")[alternating].value_counts()"
   ]
  },
  {
   "cell_type": "code",
   "execution_count": 30,
   "id": "649e6837-c7f9-4788-84ab-109f1b46ddaf",
   "metadata": {
    "scrolled": true
   },
   "outputs": [
    {
     "data": {
      "text/plain": [
       "planen        90\n",
       "hinzufügen    60\n",
       "erstellen     56\n",
       "eintragen     29\n",
       "markieren      1\n",
       "tragen         1\n",
       "Name: lemma, dtype: int64"
      ]
     },
     "execution_count": 30,
     "metadata": {},
     "output_type": "execute_result"
    }
   ],
   "source": [
    "df[(df[alternating] == \"yes\")&(df.speaker==\"A\")].lemma.value_counts()"
   ]
  },
  {
   "cell_type": "code",
   "execution_count": 31,
   "id": "dbd5c434-b0d8-4641-9113-c810c75113d0",
   "metadata": {},
   "outputs": [
    {
     "data": {
      "text/html": [
       "<div>\n",
       "<style scoped>\n",
       "    .dataframe tbody tr th:only-of-type {\n",
       "        vertical-align: middle;\n",
       "    }\n",
       "\n",
       "    .dataframe tbody tr th {\n",
       "        vertical-align: top;\n",
       "    }\n",
       "\n",
       "    .dataframe thead th {\n",
       "        text-align: right;\n",
       "    }\n",
       "</style>\n",
       "<table border=\"1\" class=\"dataframe\">\n",
       "  <thead>\n",
       "    <tr style=\"text-align: right;\">\n",
       "      <th></th>\n",
       "      <th>id</th>\n",
       "      <th>word</th>\n",
       "      <th>lemma</th>\n",
       "      <th>pos_finegrained</th>\n",
       "      <th>pos_coarse</th>\n",
       "      <th>speaker</th>\n",
       "      <th>interaction_id</th>\n",
       "      <th>directionality</th>\n",
       "      <th>turn_id</th>\n",
       "      <th>merged</th>\n",
       "      <th>participant_id</th>\n",
       "      <th>setting</th>\n",
       "      <th>start</th>\n",
       "      <th>end</th>\n",
       "      <th>alternating_Terminerstellung</th>\n",
       "      <th>alternating_dez_zwoelf</th>\n",
       "      <th>alternating_nonagentivity_nonprimed</th>\n",
       "    </tr>\n",
       "  </thead>\n",
       "  <tbody>\n",
       "    <tr>\n",
       "      <th>81670</th>\n",
       "      <td>81681</td>\n",
       "      <td>hinzufügen</td>\n",
       "      <td>hinzufügen</td>\n",
       "      <td>VVIZU.Infzu</td>\n",
       "      <td>VVIZU</td>\n",
       "      <td>S</td>\n",
       "      <td>105</td>\n",
       "      <td>SA</td>\n",
       "      <td>15</td>\n",
       "      <td>yes</td>\n",
       "      <td>20171208B</td>\n",
       "      <td>Calendar</td>\n",
       "      <td>236.822609</td>\n",
       "      <td>296.737447</td>\n",
       "      <td>yes</td>\n",
       "      <td>no</td>\n",
       "      <td>no</td>\n",
       "    </tr>\n",
       "    <tr>\n",
       "      <th>81717</th>\n",
       "      <td>81728</td>\n",
       "      <td>hinzufügen</td>\n",
       "      <td>hinzufügen</td>\n",
       "      <td>ADJA.Pos.Dat.Sg.*</td>\n",
       "      <td>VVIZU</td>\n",
       "      <td>S</td>\n",
       "      <td>105</td>\n",
       "      <td>SA</td>\n",
       "      <td>19</td>\n",
       "      <td>yes</td>\n",
       "      <td>20171208B</td>\n",
       "      <td>Calendar</td>\n",
       "      <td>316.106779</td>\n",
       "      <td>341.610000</td>\n",
       "      <td>yes</td>\n",
       "      <td>no</td>\n",
       "      <td>no</td>\n",
       "    </tr>\n",
       "    <tr>\n",
       "      <th>81784</th>\n",
       "      <td>81795</td>\n",
       "      <td>hinzufügen</td>\n",
       "      <td>hinzufügen</td>\n",
       "      <td>VVINF.Inf</td>\n",
       "      <td>VVIZU</td>\n",
       "      <td>S</td>\n",
       "      <td>105</td>\n",
       "      <td>SA</td>\n",
       "      <td>21</td>\n",
       "      <td>yes</td>\n",
       "      <td>20171208B</td>\n",
       "      <td>Calendar</td>\n",
       "      <td>364.674657</td>\n",
       "      <td>371.359967</td>\n",
       "      <td>yes</td>\n",
       "      <td>no</td>\n",
       "      <td>no</td>\n",
       "    </tr>\n",
       "    <tr>\n",
       "      <th>81844</th>\n",
       "      <td>81855</td>\n",
       "      <td>hinzufügen</td>\n",
       "      <td>hinzufügen</td>\n",
       "      <td>VVINF.Inf</td>\n",
       "      <td>VVIZU</td>\n",
       "      <td>S</td>\n",
       "      <td>105</td>\n",
       "      <td>SA</td>\n",
       "      <td>31</td>\n",
       "      <td>yes</td>\n",
       "      <td>20171208B</td>\n",
       "      <td>Calendar</td>\n",
       "      <td>406.500000</td>\n",
       "      <td>411.830000</td>\n",
       "      <td>yes</td>\n",
       "      <td>no</td>\n",
       "      <td>no</td>\n",
       "    </tr>\n",
       "  </tbody>\n",
       "</table>\n",
       "</div>"
      ],
      "text/plain": [
       "          id        word       lemma    pos_finegrained pos_coarse speaker  \\\n",
       "81670  81681  hinzufügen  hinzufügen        VVIZU.Infzu      VVIZU       S   \n",
       "81717  81728  hinzufügen  hinzufügen  ADJA.Pos.Dat.Sg.*      VVIZU       S   \n",
       "81784  81795  hinzufügen  hinzufügen          VVINF.Inf      VVIZU       S   \n",
       "81844  81855  hinzufügen  hinzufügen          VVINF.Inf      VVIZU       S   \n",
       "\n",
       "       interaction_id directionality  turn_id merged participant_id   setting  \\\n",
       "81670             105             SA       15    yes      20171208B  Calendar   \n",
       "81717             105             SA       19    yes      20171208B  Calendar   \n",
       "81784             105             SA       21    yes      20171208B  Calendar   \n",
       "81844             105             SA       31    yes      20171208B  Calendar   \n",
       "\n",
       "            start         end alternating_Terminerstellung  \\\n",
       "81670  236.822609  296.737447                          yes   \n",
       "81717  316.106779  341.610000                          yes   \n",
       "81784  364.674657  371.359967                          yes   \n",
       "81844  406.500000  411.830000                          yes   \n",
       "\n",
       "      alternating_dez_zwoelf alternating_nonagentivity_nonprimed  \n",
       "81670                     no                                  no  \n",
       "81717                     no                                  no  \n",
       "81784                     no                                  no  \n",
       "81844                     no                                  no  "
      ]
     },
     "execution_count": 31,
     "metadata": {},
     "output_type": "execute_result"
    }
   ],
   "source": [
    "df[(df.speaker==\"S\")&(df[alternating]==\"yes\")&(df.lemma==\"hinzufügen\")]"
   ]
  },
  {
   "cell_type": "markdown",
   "id": "2c3d098c-c00f-470c-bef0-b307ae41d81a",
   "metadata": {},
   "source": [
    "# Creating DataFrame for modeling"
   ]
  },
  {
   "cell_type": "code",
   "execution_count": 32,
   "id": "91d374a0-90ed-44e6-bd1f-46ce7802906b",
   "metadata": {},
   "outputs": [
    {
     "data": {
      "text/html": [
       "<div>\n",
       "<style scoped>\n",
       "    .dataframe tbody tr th:only-of-type {\n",
       "        vertical-align: middle;\n",
       "    }\n",
       "\n",
       "    .dataframe tbody tr th {\n",
       "        vertical-align: top;\n",
       "    }\n",
       "\n",
       "    .dataframe thead th {\n",
       "        text-align: right;\n",
       "    }\n",
       "</style>\n",
       "<table border=\"1\" class=\"dataframe\">\n",
       "  <thead>\n",
       "    <tr style=\"text-align: right;\">\n",
       "      <th></th>\n",
       "      <th>id</th>\n",
       "      <th>word</th>\n",
       "      <th>lemma</th>\n",
       "      <th>pos_finegrained</th>\n",
       "      <th>pos_coarse</th>\n",
       "      <th>speaker</th>\n",
       "      <th>interaction_id</th>\n",
       "      <th>directionality</th>\n",
       "      <th>turn_id</th>\n",
       "      <th>merged</th>\n",
       "      <th>participant_id</th>\n",
       "      <th>setting</th>\n",
       "      <th>start</th>\n",
       "      <th>end</th>\n",
       "      <th>alternating_Terminerstellung</th>\n",
       "      <th>alternating_dez_zwoelf</th>\n",
       "      <th>alternating_nonagentivity_nonprimed</th>\n",
       "      <th>quasi-persistence</th>\n",
       "    </tr>\n",
       "  </thead>\n",
       "  <tbody>\n",
       "    <tr>\n",
       "      <th>0</th>\n",
       "      <td>1</td>\n",
       "      <td>Hallo</td>\n",
       "      <td>hallo</td>\n",
       "      <td>NE.Nom.Sg.Masc</td>\n",
       "      <td>NGIRR</td>\n",
       "      <td>S</td>\n",
       "      <td>1</td>\n",
       "      <td>SA</td>\n",
       "      <td>1</td>\n",
       "      <td>yes</td>\n",
       "      <td>20171121A</td>\n",
       "      <td>Calendar</td>\n",
       "      <td>3.772739</td>\n",
       "      <td>62.33</td>\n",
       "      <td>no</td>\n",
       "      <td>no</td>\n",
       "      <td>no</td>\n",
       "      <td>False</td>\n",
       "    </tr>\n",
       "    <tr>\n",
       "      <th>1</th>\n",
       "      <td>2</td>\n",
       "      <td>Alexa</td>\n",
       "      <td>alexa</td>\n",
       "      <td>NE.Acc.Sg.Masc</td>\n",
       "      <td>NE</td>\n",
       "      <td>S</td>\n",
       "      <td>1</td>\n",
       "      <td>SA</td>\n",
       "      <td>1</td>\n",
       "      <td>yes</td>\n",
       "      <td>20171121A</td>\n",
       "      <td>Calendar</td>\n",
       "      <td>3.772739</td>\n",
       "      <td>62.33</td>\n",
       "      <td>no</td>\n",
       "      <td>no</td>\n",
       "      <td>no</td>\n",
       "      <td>False</td>\n",
       "    </tr>\n",
       "    <tr>\n",
       "      <th>2</th>\n",
       "      <td>3</td>\n",
       "      <td>habe</td>\n",
       "      <td>haben</td>\n",
       "      <td>VAFIN.1.Sg.Pres.Ind</td>\n",
       "      <td>VAFIN</td>\n",
       "      <td>S</td>\n",
       "      <td>1</td>\n",
       "      <td>SA</td>\n",
       "      <td>1</td>\n",
       "      <td>yes</td>\n",
       "      <td>20171121A</td>\n",
       "      <td>Calendar</td>\n",
       "      <td>3.772739</td>\n",
       "      <td>62.33</td>\n",
       "      <td>no</td>\n",
       "      <td>no</td>\n",
       "      <td>no</td>\n",
       "      <td>False</td>\n",
       "    </tr>\n",
       "    <tr>\n",
       "      <th>3</th>\n",
       "      <td>4</td>\n",
       "      <td>ich</td>\n",
       "      <td>ich</td>\n",
       "      <td>PPER.1.Nom.Sg.*</td>\n",
       "      <td>PPER</td>\n",
       "      <td>S</td>\n",
       "      <td>1</td>\n",
       "      <td>SA</td>\n",
       "      <td>1</td>\n",
       "      <td>yes</td>\n",
       "      <td>20171121A</td>\n",
       "      <td>Calendar</td>\n",
       "      <td>3.772739</td>\n",
       "      <td>62.33</td>\n",
       "      <td>no</td>\n",
       "      <td>no</td>\n",
       "      <td>no</td>\n",
       "      <td>False</td>\n",
       "    </tr>\n",
       "    <tr>\n",
       "      <th>4</th>\n",
       "      <td>5</td>\n",
       "      <td>an</td>\n",
       "      <td>an</td>\n",
       "      <td>APPR</td>\n",
       "      <td>APPR</td>\n",
       "      <td>S</td>\n",
       "      <td>1</td>\n",
       "      <td>SA</td>\n",
       "      <td>1</td>\n",
       "      <td>yes</td>\n",
       "      <td>20171121A</td>\n",
       "      <td>Calendar</td>\n",
       "      <td>3.772739</td>\n",
       "      <td>62.33</td>\n",
       "      <td>no</td>\n",
       "      <td>no</td>\n",
       "      <td>no</td>\n",
       "      <td>False</td>\n",
       "    </tr>\n",
       "    <tr>\n",
       "      <th>...</th>\n",
       "      <td>...</td>\n",
       "      <td>...</td>\n",
       "      <td>...</td>\n",
       "      <td>...</td>\n",
       "      <td>...</td>\n",
       "      <td>...</td>\n",
       "      <td>...</td>\n",
       "      <td>...</td>\n",
       "      <td>...</td>\n",
       "      <td>...</td>\n",
       "      <td>...</td>\n",
       "      <td>...</td>\n",
       "      <td>...</td>\n",
       "      <td>...</td>\n",
       "      <td>...</td>\n",
       "      <td>...</td>\n",
       "      <td>...</td>\n",
       "      <td>...</td>\n",
       "    </tr>\n",
       "    <tr>\n",
       "      <th>85029</th>\n",
       "      <td>85040</td>\n",
       "      <td>es</td>\n",
       "      <td>es</td>\n",
       "      <td>PPER.3.Nom.Sg.Neut</td>\n",
       "      <td>PPER</td>\n",
       "      <td>S</td>\n",
       "      <td>108</td>\n",
       "      <td>SA</td>\n",
       "      <td>53</td>\n",
       "      <td>yes</td>\n",
       "      <td>20171208B</td>\n",
       "      <td>Quiz</td>\n",
       "      <td>338.580000</td>\n",
       "      <td>345.17</td>\n",
       "      <td>no</td>\n",
       "      <td>no</td>\n",
       "      <td>no</td>\n",
       "      <td>False</td>\n",
       "    </tr>\n",
       "    <tr>\n",
       "      <th>85030</th>\n",
       "      <td>85041</td>\n",
       "      <td>in</td>\n",
       "      <td>in</td>\n",
       "      <td>APPR</td>\n",
       "      <td>APPR</td>\n",
       "      <td>S</td>\n",
       "      <td>108</td>\n",
       "      <td>SA</td>\n",
       "      <td>53</td>\n",
       "      <td>yes</td>\n",
       "      <td>20171208B</td>\n",
       "      <td>Quiz</td>\n",
       "      <td>338.580000</td>\n",
       "      <td>345.17</td>\n",
       "      <td>no</td>\n",
       "      <td>no</td>\n",
       "      <td>no</td>\n",
       "      <td>False</td>\n",
       "    </tr>\n",
       "    <tr>\n",
       "      <th>85031</th>\n",
       "      <td>85042</td>\n",
       "      <td>Sankt</td>\n",
       "      <td>sankt</td>\n",
       "      <td>NN.Acc.Sg.Masc</td>\n",
       "      <td>NE</td>\n",
       "      <td>S</td>\n",
       "      <td>108</td>\n",
       "      <td>SA</td>\n",
       "      <td>53</td>\n",
       "      <td>yes</td>\n",
       "      <td>20171208B</td>\n",
       "      <td>Quiz</td>\n",
       "      <td>338.580000</td>\n",
       "      <td>345.17</td>\n",
       "      <td>no</td>\n",
       "      <td>no</td>\n",
       "      <td>no</td>\n",
       "      <td>False</td>\n",
       "    </tr>\n",
       "    <tr>\n",
       "      <th>85032</th>\n",
       "      <td>85043</td>\n",
       "      <td>Petersburg</td>\n",
       "      <td>petersburg</td>\n",
       "      <td>NE.Dat.Sg.Neut</td>\n",
       "      <td>NE</td>\n",
       "      <td>S</td>\n",
       "      <td>108</td>\n",
       "      <td>SA</td>\n",
       "      <td>53</td>\n",
       "      <td>yes</td>\n",
       "      <td>20171208B</td>\n",
       "      <td>Quiz</td>\n",
       "      <td>338.580000</td>\n",
       "      <td>345.17</td>\n",
       "      <td>no</td>\n",
       "      <td>no</td>\n",
       "      <td>no</td>\n",
       "      <td>False</td>\n",
       "    </tr>\n",
       "    <tr>\n",
       "      <th>85033</th>\n",
       "      <td>85044</td>\n",
       "      <td>dreihundertzweiundvierzig</td>\n",
       "      <td>dreihundertzweiundvierzig</td>\n",
       "      <td>CARD</td>\n",
       "      <td>CARD</td>\n",
       "      <td>A</td>\n",
       "      <td>108</td>\n",
       "      <td>AS</td>\n",
       "      <td>54</td>\n",
       "      <td>no</td>\n",
       "      <td>20171208B</td>\n",
       "      <td>Quiz</td>\n",
       "      <td>346.850000</td>\n",
       "      <td>348.62</td>\n",
       "      <td>no</td>\n",
       "      <td>no</td>\n",
       "      <td>no</td>\n",
       "      <td>False</td>\n",
       "    </tr>\n",
       "  </tbody>\n",
       "</table>\n",
       "<p>85034 rows × 18 columns</p>\n",
       "</div>"
      ],
      "text/plain": [
       "          id                       word                      lemma  \\\n",
       "0          1                      Hallo                      hallo   \n",
       "1          2                      Alexa                      alexa   \n",
       "2          3                       habe                      haben   \n",
       "3          4                        ich                        ich   \n",
       "4          5                         an                         an   \n",
       "...      ...                        ...                        ...   \n",
       "85029  85040                         es                         es   \n",
       "85030  85041                         in                         in   \n",
       "85031  85042                      Sankt                      sankt   \n",
       "85032  85043                 Petersburg                 petersburg   \n",
       "85033  85044  dreihundertzweiundvierzig  dreihundertzweiundvierzig   \n",
       "\n",
       "           pos_finegrained pos_coarse speaker  interaction_id directionality  \\\n",
       "0           NE.Nom.Sg.Masc      NGIRR       S               1             SA   \n",
       "1           NE.Acc.Sg.Masc         NE       S               1             SA   \n",
       "2      VAFIN.1.Sg.Pres.Ind      VAFIN       S               1             SA   \n",
       "3          PPER.1.Nom.Sg.*       PPER       S               1             SA   \n",
       "4                     APPR       APPR       S               1             SA   \n",
       "...                    ...        ...     ...             ...            ...   \n",
       "85029   PPER.3.Nom.Sg.Neut       PPER       S             108             SA   \n",
       "85030                 APPR       APPR       S             108             SA   \n",
       "85031       NN.Acc.Sg.Masc         NE       S             108             SA   \n",
       "85032       NE.Dat.Sg.Neut         NE       S             108             SA   \n",
       "85033                 CARD       CARD       A             108             AS   \n",
       "\n",
       "       turn_id merged participant_id   setting       start     end  \\\n",
       "0            1    yes      20171121A  Calendar    3.772739   62.33   \n",
       "1            1    yes      20171121A  Calendar    3.772739   62.33   \n",
       "2            1    yes      20171121A  Calendar    3.772739   62.33   \n",
       "3            1    yes      20171121A  Calendar    3.772739   62.33   \n",
       "4            1    yes      20171121A  Calendar    3.772739   62.33   \n",
       "...        ...    ...            ...       ...         ...     ...   \n",
       "85029       53    yes      20171208B      Quiz  338.580000  345.17   \n",
       "85030       53    yes      20171208B      Quiz  338.580000  345.17   \n",
       "85031       53    yes      20171208B      Quiz  338.580000  345.17   \n",
       "85032       53    yes      20171208B      Quiz  338.580000  345.17   \n",
       "85033       54     no      20171208B      Quiz  346.850000  348.62   \n",
       "\n",
       "      alternating_Terminerstellung alternating_dez_zwoelf  \\\n",
       "0                               no                     no   \n",
       "1                               no                     no   \n",
       "2                               no                     no   \n",
       "3                               no                     no   \n",
       "4                               no                     no   \n",
       "...                            ...                    ...   \n",
       "85029                           no                     no   \n",
       "85030                           no                     no   \n",
       "85031                           no                     no   \n",
       "85032                           no                     no   \n",
       "85033                           no                     no   \n",
       "\n",
       "      alternating_nonagentivity_nonprimed  quasi-persistence  \n",
       "0                                      no              False  \n",
       "1                                      no              False  \n",
       "2                                      no              False  \n",
       "3                                      no              False  \n",
       "4                                      no              False  \n",
       "...                                   ...                ...  \n",
       "85029                                  no              False  \n",
       "85030                                  no              False  \n",
       "85031                                  no              False  \n",
       "85032                                  no              False  \n",
       "85033                                  no              False  \n",
       "\n",
       "[85034 rows x 18 columns]"
      ]
     },
     "execution_count": 32,
     "metadata": {},
     "output_type": "execute_result"
    }
   ],
   "source": [
    "#adding information on lexical quasi-persistence to df\n",
    "df_w_quasi_p = pd.read_csv(\"../../VACC/3_Persistence_tagged/2_human_to_VA/Persistence_VACC_all.csv\")\n",
    "#summarising all kinds of lexical quasi-persistence, i.e., writing True in new column, if lexical SPP was produced by VA (due to persistence tagging direction in this df, only the VA produced SPPs, thus no need to check speaker)\n",
    "df_w_quasi_p[\"lexical_quasi_persistence_summarised\"] = df_w_quasi_p[[\"persistence_unigrams_lemma\", \"persistence_bigrams_lemma\", \"persistence_trigrams_lemma\", \"persistence_quadrigrams_lemma\"]].applymap(lambda x: str(x).startswith(\"SPP\")).any(axis=1)\n",
    "df[\"quasi-persistence\"] = df_w_quasi_p[\"lexical_quasi_persistence_summarised\"]\n",
    "df"
   ]
  },
  {
   "cell_type": "code",
   "execution_count": 33,
   "id": "c6eb3b77-7afa-42fd-ae50-b779d8184123",
   "metadata": {
    "scrolled": true
   },
   "outputs": [
    {
     "data": {
      "text/html": [
       "<div>\n",
       "<style scoped>\n",
       "    .dataframe tbody tr th:only-of-type {\n",
       "        vertical-align: middle;\n",
       "    }\n",
       "\n",
       "    .dataframe tbody tr th {\n",
       "        vertical-align: top;\n",
       "    }\n",
       "\n",
       "    .dataframe thead th {\n",
       "        text-align: right;\n",
       "    }\n",
       "</style>\n",
       "<table border=\"1\" class=\"dataframe\">\n",
       "  <thead>\n",
       "    <tr style=\"text-align: right;\">\n",
       "      <th></th>\n",
       "      <th>CURRENT</th>\n",
       "      <th>PREVIOUS</th>\n",
       "      <th>PREVIOUS_SPEAKER</th>\n",
       "      <th>PREVIOUS_DISTANCE</th>\n",
       "      <th>PREVIOUS_DISTANCE_LOG</th>\n",
       "      <th>QUASI_PERSISTENCE</th>\n",
       "      <th>HUMAN_ID</th>\n",
       "      <th>INTERACTION_ID</th>\n",
       "      <th>TURN_LENGTH</th>\n",
       "      <th>CONFEDERATE</th>\n",
       "    </tr>\n",
       "  </thead>\n",
       "  <tbody>\n",
       "    <tr>\n",
       "      <th>2553</th>\n",
       "      <td>speichern</td>\n",
       "      <td>hinzufügen</td>\n",
       "      <td>A</td>\n",
       "      <td>123</td>\n",
       "      <td>4.812184</td>\n",
       "      <td>True</td>\n",
       "      <td>20171121B</td>\n",
       "      <td>5</td>\n",
       "      <td>13</td>\n",
       "      <td>False</td>\n",
       "    </tr>\n",
       "    <tr>\n",
       "      <th>2738</th>\n",
       "      <td>speichern</td>\n",
       "      <td>hinzufügen</td>\n",
       "      <td>A</td>\n",
       "      <td>140</td>\n",
       "      <td>4.941642</td>\n",
       "      <td>False</td>\n",
       "      <td>20171121B</td>\n",
       "      <td>5</td>\n",
       "      <td>10</td>\n",
       "      <td>False</td>\n",
       "    </tr>\n",
       "    <tr>\n",
       "      <th>2838</th>\n",
       "      <td>tragen</td>\n",
       "      <td>hinzufügen</td>\n",
       "      <td>A</td>\n",
       "      <td>59</td>\n",
       "      <td>4.077537</td>\n",
       "      <td>True</td>\n",
       "      <td>20171121B</td>\n",
       "      <td>5</td>\n",
       "      <td>14</td>\n",
       "      <td>False</td>\n",
       "    </tr>\n",
       "    <tr>\n",
       "      <th>3280</th>\n",
       "      <td>speichern</td>\n",
       "      <td>hinzufügen</td>\n",
       "      <td>A</td>\n",
       "      <td>147</td>\n",
       "      <td>4.990433</td>\n",
       "      <td>False</td>\n",
       "      <td>20171121B</td>\n",
       "      <td>6</td>\n",
       "      <td>12</td>\n",
       "      <td>True</td>\n",
       "    </tr>\n",
       "    <tr>\n",
       "      <th>3398</th>\n",
       "      <td>speichern</td>\n",
       "      <td>hinzufügen</td>\n",
       "      <td>A</td>\n",
       "      <td>79</td>\n",
       "      <td>4.369448</td>\n",
       "      <td>False</td>\n",
       "      <td>20171121B</td>\n",
       "      <td>6</td>\n",
       "      <td>10</td>\n",
       "      <td>True</td>\n",
       "    </tr>\n",
       "    <tr>\n",
       "      <th>5472</th>\n",
       "      <td>erstellen</td>\n",
       "      <td>planen</td>\n",
       "      <td>A</td>\n",
       "      <td>2</td>\n",
       "      <td>0.693147</td>\n",
       "      <td>True</td>\n",
       "      <td>20171121C</td>\n",
       "      <td>9</td>\n",
       "      <td>14</td>\n",
       "      <td>False</td>\n",
       "    </tr>\n",
       "    <tr>\n",
       "      <th>5668</th>\n",
       "      <td>tragen</td>\n",
       "      <td>hinzufügen</td>\n",
       "      <td>A</td>\n",
       "      <td>148</td>\n",
       "      <td>4.997212</td>\n",
       "      <td>True</td>\n",
       "      <td>20171121C</td>\n",
       "      <td>9</td>\n",
       "      <td>13</td>\n",
       "      <td>False</td>\n",
       "    </tr>\n",
       "    <tr>\n",
       "      <th>11264</th>\n",
       "      <td>erstellen</td>\n",
       "      <td>erstellen</td>\n",
       "      <td>A</td>\n",
       "      <td>22</td>\n",
       "      <td>3.091042</td>\n",
       "      <td>True</td>\n",
       "      <td>20171122B</td>\n",
       "      <td>17</td>\n",
       "      <td>14</td>\n",
       "      <td>False</td>\n",
       "    </tr>\n",
       "    <tr>\n",
       "      <th>11444</th>\n",
       "      <td>erstellen</td>\n",
       "      <td>hinzufügen</td>\n",
       "      <td>A</td>\n",
       "      <td>135</td>\n",
       "      <td>4.905275</td>\n",
       "      <td>True</td>\n",
       "      <td>20171122B</td>\n",
       "      <td>17</td>\n",
       "      <td>14</td>\n",
       "      <td>False</td>\n",
       "    </tr>\n",
       "    <tr>\n",
       "      <th>11515</th>\n",
       "      <td>erstellen</td>\n",
       "      <td>hinzufügen</td>\n",
       "      <td>A</td>\n",
       "      <td>42</td>\n",
       "      <td>3.737670</td>\n",
       "      <td>True</td>\n",
       "      <td>20171122B</td>\n",
       "      <td>17</td>\n",
       "      <td>16</td>\n",
       "      <td>False</td>\n",
       "    </tr>\n",
       "    <tr>\n",
       "      <th>11801</th>\n",
       "      <td>erstellen</td>\n",
       "      <td>hinzufügen</td>\n",
       "      <td>A</td>\n",
       "      <td>83</td>\n",
       "      <td>4.418841</td>\n",
       "      <td>False</td>\n",
       "      <td>20171122B</td>\n",
       "      <td>18</td>\n",
       "      <td>14</td>\n",
       "      <td>True</td>\n",
       "    </tr>\n",
       "    <tr>\n",
       "      <th>11864</th>\n",
       "      <td>erstellen</td>\n",
       "      <td>erstellen</td>\n",
       "      <td>A</td>\n",
       "      <td>29</td>\n",
       "      <td>3.367296</td>\n",
       "      <td>True</td>\n",
       "      <td>20171122B</td>\n",
       "      <td>18</td>\n",
       "      <td>14</td>\n",
       "      <td>True</td>\n",
       "    </tr>\n",
       "    <tr>\n",
       "      <th>12429</th>\n",
       "      <td>erstellen</td>\n",
       "      <td>eintragen</td>\n",
       "      <td>A</td>\n",
       "      <td>2</td>\n",
       "      <td>0.693147</td>\n",
       "      <td>True</td>\n",
       "      <td>20171122B</td>\n",
       "      <td>18</td>\n",
       "      <td>14</td>\n",
       "      <td>True</td>\n",
       "    </tr>\n",
       "    <tr>\n",
       "      <th>14210</th>\n",
       "      <td>tragen</td>\n",
       "      <td>eintragen</td>\n",
       "      <td>A</td>\n",
       "      <td>81</td>\n",
       "      <td>4.394449</td>\n",
       "      <td>True</td>\n",
       "      <td>20171122C</td>\n",
       "      <td>21</td>\n",
       "      <td>15</td>\n",
       "      <td>False</td>\n",
       "    </tr>\n",
       "    <tr>\n",
       "      <th>14367</th>\n",
       "      <td>tragen</td>\n",
       "      <td>hinzufügen</td>\n",
       "      <td>A</td>\n",
       "      <td>102</td>\n",
       "      <td>4.624973</td>\n",
       "      <td>True</td>\n",
       "      <td>20171122C</td>\n",
       "      <td>21</td>\n",
       "      <td>10</td>\n",
       "      <td>False</td>\n",
       "    </tr>\n",
       "    <tr>\n",
       "      <th>14464</th>\n",
       "      <td>tragen</td>\n",
       "      <td>hinzufügen</td>\n",
       "      <td>A</td>\n",
       "      <td>59</td>\n",
       "      <td>4.077537</td>\n",
       "      <td>True</td>\n",
       "      <td>20171122C</td>\n",
       "      <td>21</td>\n",
       "      <td>10</td>\n",
       "      <td>False</td>\n",
       "    </tr>\n",
       "    <tr>\n",
       "      <th>14938</th>\n",
       "      <td>machen</td>\n",
       "      <td>hinzufügen</td>\n",
       "      <td>A</td>\n",
       "      <td>214</td>\n",
       "      <td>5.365976</td>\n",
       "      <td>False</td>\n",
       "      <td>20171122C</td>\n",
       "      <td>22</td>\n",
       "      <td>12</td>\n",
       "      <td>True</td>\n",
       "    </tr>\n",
       "    <tr>\n",
       "      <th>17470</th>\n",
       "      <td>speichern</td>\n",
       "      <td>hinzufügen</td>\n",
       "      <td>A</td>\n",
       "      <td>120</td>\n",
       "      <td>4.787492</td>\n",
       "      <td>False</td>\n",
       "      <td>20171123A</td>\n",
       "      <td>26</td>\n",
       "      <td>27</td>\n",
       "      <td>True</td>\n",
       "    </tr>\n",
       "    <tr>\n",
       "      <th>17485</th>\n",
       "      <td>speichern</td>\n",
       "      <td>speichern</td>\n",
       "      <td>S</td>\n",
       "      <td>15</td>\n",
       "      <td>2.708050</td>\n",
       "      <td>False</td>\n",
       "      <td>20171123A</td>\n",
       "      <td>26</td>\n",
       "      <td>27</td>\n",
       "      <td>True</td>\n",
       "    </tr>\n",
       "    <tr>\n",
       "      <th>21871</th>\n",
       "      <td>eintragen</td>\n",
       "      <td>eintragen</td>\n",
       "      <td>A</td>\n",
       "      <td>7</td>\n",
       "      <td>1.945910</td>\n",
       "      <td>False</td>\n",
       "      <td>20171123D</td>\n",
       "      <td>33</td>\n",
       "      <td>7</td>\n",
       "      <td>True</td>\n",
       "    </tr>\n",
       "    <tr>\n",
       "      <th>21892</th>\n",
       "      <td>eintragen</td>\n",
       "      <td>eintragen</td>\n",
       "      <td>S</td>\n",
       "      <td>21</td>\n",
       "      <td>3.044522</td>\n",
       "      <td>False</td>\n",
       "      <td>20171123D</td>\n",
       "      <td>33</td>\n",
       "      <td>17</td>\n",
       "      <td>True</td>\n",
       "    </tr>\n",
       "    <tr>\n",
       "      <th>22917</th>\n",
       "      <td>planen</td>\n",
       "      <td>planen</td>\n",
       "      <td>A</td>\n",
       "      <td>10</td>\n",
       "      <td>2.302585</td>\n",
       "      <td>True</td>\n",
       "      <td>20171123D</td>\n",
       "      <td>34</td>\n",
       "      <td>10</td>\n",
       "      <td>False</td>\n",
       "    </tr>\n",
       "    <tr>\n",
       "      <th>22953</th>\n",
       "      <td>planen</td>\n",
       "      <td>planen</td>\n",
       "      <td>A</td>\n",
       "      <td>8</td>\n",
       "      <td>2.079442</td>\n",
       "      <td>True</td>\n",
       "      <td>20171123D</td>\n",
       "      <td>34</td>\n",
       "      <td>8</td>\n",
       "      <td>False</td>\n",
       "    </tr>\n",
       "    <tr>\n",
       "      <th>27790</th>\n",
       "      <td>speichern</td>\n",
       "      <td>planen</td>\n",
       "      <td>A</td>\n",
       "      <td>377</td>\n",
       "      <td>5.932245</td>\n",
       "      <td>False</td>\n",
       "      <td>20171123F</td>\n",
       "      <td>41</td>\n",
       "      <td>26</td>\n",
       "      <td>True</td>\n",
       "    </tr>\n",
       "    <tr>\n",
       "      <th>30685</th>\n",
       "      <td>erstellen</td>\n",
       "      <td>erstellen</td>\n",
       "      <td>S</td>\n",
       "      <td>25</td>\n",
       "      <td>3.218876</td>\n",
       "      <td>True</td>\n",
       "      <td>20171127A</td>\n",
       "      <td>45</td>\n",
       "      <td>12</td>\n",
       "      <td>False</td>\n",
       "    </tr>\n",
       "    <tr>\n",
       "      <th>30894</th>\n",
       "      <td>erstellen</td>\n",
       "      <td>hinzufügen</td>\n",
       "      <td>A</td>\n",
       "      <td>167</td>\n",
       "      <td>5.117994</td>\n",
       "      <td>True</td>\n",
       "      <td>20171127A</td>\n",
       "      <td>45</td>\n",
       "      <td>4</td>\n",
       "      <td>False</td>\n",
       "    </tr>\n",
       "    <tr>\n",
       "      <th>30930</th>\n",
       "      <td>erstellen</td>\n",
       "      <td>erstellen</td>\n",
       "      <td>S</td>\n",
       "      <td>36</td>\n",
       "      <td>3.583519</td>\n",
       "      <td>True</td>\n",
       "      <td>20171127A</td>\n",
       "      <td>45</td>\n",
       "      <td>4</td>\n",
       "      <td>False</td>\n",
       "    </tr>\n",
       "    <tr>\n",
       "      <th>31017</th>\n",
       "      <td>erstellen</td>\n",
       "      <td>hinzufügen</td>\n",
       "      <td>A</td>\n",
       "      <td>42</td>\n",
       "      <td>3.737670</td>\n",
       "      <td>True</td>\n",
       "      <td>20171127A</td>\n",
       "      <td>45</td>\n",
       "      <td>4</td>\n",
       "      <td>False</td>\n",
       "    </tr>\n",
       "    <tr>\n",
       "      <th>31464</th>\n",
       "      <td>erstellen</td>\n",
       "      <td>planen</td>\n",
       "      <td>A</td>\n",
       "      <td>2</td>\n",
       "      <td>0.693147</td>\n",
       "      <td>True</td>\n",
       "      <td>20171127A</td>\n",
       "      <td>46</td>\n",
       "      <td>4</td>\n",
       "      <td>True</td>\n",
       "    </tr>\n",
       "    <tr>\n",
       "      <th>31913</th>\n",
       "      <td>erstellen</td>\n",
       "      <td>planen</td>\n",
       "      <td>A</td>\n",
       "      <td>13</td>\n",
       "      <td>2.564949</td>\n",
       "      <td>True</td>\n",
       "      <td>20171127A</td>\n",
       "      <td>46</td>\n",
       "      <td>3</td>\n",
       "      <td>True</td>\n",
       "    </tr>\n",
       "    <tr>\n",
       "      <th>34069</th>\n",
       "      <td>markieren</td>\n",
       "      <td>planen</td>\n",
       "      <td>A</td>\n",
       "      <td>323</td>\n",
       "      <td>5.777652</td>\n",
       "      <td>False</td>\n",
       "      <td>20171127B</td>\n",
       "      <td>49</td>\n",
       "      <td>19</td>\n",
       "      <td>False</td>\n",
       "    </tr>\n",
       "    <tr>\n",
       "      <th>34087</th>\n",
       "      <td>markieren</td>\n",
       "      <td>hinzufügen</td>\n",
       "      <td>A</td>\n",
       "      <td>3</td>\n",
       "      <td>1.098612</td>\n",
       "      <td>True</td>\n",
       "      <td>20171127B</td>\n",
       "      <td>49</td>\n",
       "      <td>14</td>\n",
       "      <td>False</td>\n",
       "    </tr>\n",
       "    <tr>\n",
       "      <th>34106</th>\n",
       "      <td>markieren</td>\n",
       "      <td>markieren</td>\n",
       "      <td>S</td>\n",
       "      <td>19</td>\n",
       "      <td>2.944439</td>\n",
       "      <td>True</td>\n",
       "      <td>20171127B</td>\n",
       "      <td>49</td>\n",
       "      <td>12</td>\n",
       "      <td>False</td>\n",
       "    </tr>\n",
       "    <tr>\n",
       "      <th>34143</th>\n",
       "      <td>markieren</td>\n",
       "      <td>hinzufügen</td>\n",
       "      <td>A</td>\n",
       "      <td>3</td>\n",
       "      <td>1.098612</td>\n",
       "      <td>True</td>\n",
       "      <td>20171127B</td>\n",
       "      <td>49</td>\n",
       "      <td>12</td>\n",
       "      <td>False</td>\n",
       "    </tr>\n",
       "    <tr>\n",
       "      <th>34617</th>\n",
       "      <td>markieren</td>\n",
       "      <td>hinzufügen</td>\n",
       "      <td>A</td>\n",
       "      <td>99</td>\n",
       "      <td>4.595120</td>\n",
       "      <td>False</td>\n",
       "      <td>20171127B</td>\n",
       "      <td>50</td>\n",
       "      <td>21</td>\n",
       "      <td>True</td>\n",
       "    </tr>\n",
       "    <tr>\n",
       "      <th>35005</th>\n",
       "      <td>markieren</td>\n",
       "      <td>planen</td>\n",
       "      <td>A</td>\n",
       "      <td>17</td>\n",
       "      <td>2.833213</td>\n",
       "      <td>True</td>\n",
       "      <td>20171127B</td>\n",
       "      <td>50</td>\n",
       "      <td>11</td>\n",
       "      <td>True</td>\n",
       "    </tr>\n",
       "    <tr>\n",
       "      <th>35074</th>\n",
       "      <td>markieren</td>\n",
       "      <td>eintragen</td>\n",
       "      <td>J</td>\n",
       "      <td>12</td>\n",
       "      <td>2.484907</td>\n",
       "      <td>False</td>\n",
       "      <td>20171127B</td>\n",
       "      <td>50</td>\n",
       "      <td>9</td>\n",
       "      <td>True</td>\n",
       "    </tr>\n",
       "    <tr>\n",
       "      <th>35093</th>\n",
       "      <td>markieren</td>\n",
       "      <td>markieren</td>\n",
       "      <td>S</td>\n",
       "      <td>19</td>\n",
       "      <td>2.944439</td>\n",
       "      <td>False</td>\n",
       "      <td>20171127B</td>\n",
       "      <td>50</td>\n",
       "      <td>9</td>\n",
       "      <td>True</td>\n",
       "    </tr>\n",
       "    <tr>\n",
       "      <th>35117</th>\n",
       "      <td>markieren</td>\n",
       "      <td>markieren</td>\n",
       "      <td>S</td>\n",
       "      <td>24</td>\n",
       "      <td>3.178054</td>\n",
       "      <td>False</td>\n",
       "      <td>20171127B</td>\n",
       "      <td>50</td>\n",
       "      <td>11</td>\n",
       "      <td>True</td>\n",
       "    </tr>\n",
       "    <tr>\n",
       "      <th>35231</th>\n",
       "      <td>markieren</td>\n",
       "      <td>planen</td>\n",
       "      <td>A</td>\n",
       "      <td>16</td>\n",
       "      <td>2.772589</td>\n",
       "      <td>True</td>\n",
       "      <td>20171127B</td>\n",
       "      <td>50</td>\n",
       "      <td>22</td>\n",
       "      <td>True</td>\n",
       "    </tr>\n",
       "    <tr>\n",
       "      <th>35236</th>\n",
       "      <td>markieren</td>\n",
       "      <td>markieren</td>\n",
       "      <td>S</td>\n",
       "      <td>5</td>\n",
       "      <td>1.609438</td>\n",
       "      <td>False</td>\n",
       "      <td>20171127B</td>\n",
       "      <td>50</td>\n",
       "      <td>22</td>\n",
       "      <td>True</td>\n",
       "    </tr>\n",
       "    <tr>\n",
       "      <th>37518</th>\n",
       "      <td>tragen</td>\n",
       "      <td>hinzufügen</td>\n",
       "      <td>A</td>\n",
       "      <td>49</td>\n",
       "      <td>3.891820</td>\n",
       "      <td>True</td>\n",
       "      <td>20171127C</td>\n",
       "      <td>53</td>\n",
       "      <td>14</td>\n",
       "      <td>False</td>\n",
       "    </tr>\n",
       "    <tr>\n",
       "      <th>37612</th>\n",
       "      <td>tragen</td>\n",
       "      <td>hinzufügen</td>\n",
       "      <td>A</td>\n",
       "      <td>42</td>\n",
       "      <td>3.737670</td>\n",
       "      <td>True</td>\n",
       "      <td>20171127C</td>\n",
       "      <td>53</td>\n",
       "      <td>17</td>\n",
       "      <td>False</td>\n",
       "    </tr>\n",
       "    <tr>\n",
       "      <th>38099</th>\n",
       "      <td>tragen</td>\n",
       "      <td>planen</td>\n",
       "      <td>A</td>\n",
       "      <td>20</td>\n",
       "      <td>2.995732</td>\n",
       "      <td>True</td>\n",
       "      <td>20171127C</td>\n",
       "      <td>54</td>\n",
       "      <td>15</td>\n",
       "      <td>True</td>\n",
       "    </tr>\n",
       "    <tr>\n",
       "      <th>38436</th>\n",
       "      <td>tragen</td>\n",
       "      <td>eintragen</td>\n",
       "      <td>J</td>\n",
       "      <td>247</td>\n",
       "      <td>5.509388</td>\n",
       "      <td>True</td>\n",
       "      <td>20171127C</td>\n",
       "      <td>54</td>\n",
       "      <td>18</td>\n",
       "      <td>True</td>\n",
       "    </tr>\n",
       "    <tr>\n",
       "      <th>40012</th>\n",
       "      <td>vereinbaren</td>\n",
       "      <td>planen</td>\n",
       "      <td>A</td>\n",
       "      <td>36</td>\n",
       "      <td>3.583519</td>\n",
       "      <td>False</td>\n",
       "      <td>20171128A</td>\n",
       "      <td>57</td>\n",
       "      <td>13</td>\n",
       "      <td>False</td>\n",
       "    </tr>\n",
       "    <tr>\n",
       "      <th>40073</th>\n",
       "      <td>tragen</td>\n",
       "      <td>vereinbaren</td>\n",
       "      <td>S</td>\n",
       "      <td>61</td>\n",
       "      <td>4.110874</td>\n",
       "      <td>True</td>\n",
       "      <td>20171128A</td>\n",
       "      <td>57</td>\n",
       "      <td>13</td>\n",
       "      <td>False</td>\n",
       "    </tr>\n",
       "    <tr>\n",
       "      <th>40117</th>\n",
       "      <td>vereinbaren</td>\n",
       "      <td>tragen</td>\n",
       "      <td>A</td>\n",
       "      <td>42</td>\n",
       "      <td>3.737670</td>\n",
       "      <td>True</td>\n",
       "      <td>20171128A</td>\n",
       "      <td>57</td>\n",
       "      <td>17</td>\n",
       "      <td>False</td>\n",
       "    </tr>\n",
       "    <tr>\n",
       "      <th>40305</th>\n",
       "      <td>vereinbaren</td>\n",
       "      <td>hinzufügen</td>\n",
       "      <td>A</td>\n",
       "      <td>40</td>\n",
       "      <td>3.688879</td>\n",
       "      <td>True</td>\n",
       "      <td>20171128A</td>\n",
       "      <td>57</td>\n",
       "      <td>10</td>\n",
       "      <td>False</td>\n",
       "    </tr>\n",
       "    <tr>\n",
       "      <th>40397</th>\n",
       "      <td>vereinbaren</td>\n",
       "      <td>hinzufügen</td>\n",
       "      <td>A</td>\n",
       "      <td>58</td>\n",
       "      <td>4.060443</td>\n",
       "      <td>True</td>\n",
       "      <td>20171128A</td>\n",
       "      <td>57</td>\n",
       "      <td>9</td>\n",
       "      <td>False</td>\n",
       "    </tr>\n",
       "    <tr>\n",
       "      <th>43046</th>\n",
       "      <td>erstellen</td>\n",
       "      <td>hinzufügen</td>\n",
       "      <td>A</td>\n",
       "      <td>2</td>\n",
       "      <td>0.693147</td>\n",
       "      <td>True</td>\n",
       "      <td>20171128B</td>\n",
       "      <td>61</td>\n",
       "      <td>16</td>\n",
       "      <td>False</td>\n",
       "    </tr>\n",
       "    <tr>\n",
       "      <th>43090</th>\n",
       "      <td>erstellen</td>\n",
       "      <td>erstellen</td>\n",
       "      <td>A</td>\n",
       "      <td>17</td>\n",
       "      <td>2.833213</td>\n",
       "      <td>True</td>\n",
       "      <td>20171128B</td>\n",
       "      <td>61</td>\n",
       "      <td>6</td>\n",
       "      <td>False</td>\n",
       "    </tr>\n",
       "    <tr>\n",
       "      <th>69217</th>\n",
       "      <td>tragen</td>\n",
       "      <td>hinzufügen</td>\n",
       "      <td>A</td>\n",
       "      <td>61</td>\n",
       "      <td>4.110874</td>\n",
       "      <td>True</td>\n",
       "      <td>20171201A</td>\n",
       "      <td>93</td>\n",
       "      <td>10</td>\n",
       "      <td>False</td>\n",
       "    </tr>\n",
       "    <tr>\n",
       "      <th>69303</th>\n",
       "      <td>tragen</td>\n",
       "      <td>planen</td>\n",
       "      <td>A</td>\n",
       "      <td>2</td>\n",
       "      <td>0.693147</td>\n",
       "      <td>False</td>\n",
       "      <td>20171201A</td>\n",
       "      <td>93</td>\n",
       "      <td>12</td>\n",
       "      <td>False</td>\n",
       "    </tr>\n",
       "    <tr>\n",
       "      <th>69395</th>\n",
       "      <td>tragen</td>\n",
       "      <td>tragen</td>\n",
       "      <td>S</td>\n",
       "      <td>92</td>\n",
       "      <td>4.521789</td>\n",
       "      <td>True</td>\n",
       "      <td>20171201A</td>\n",
       "      <td>93</td>\n",
       "      <td>10</td>\n",
       "      <td>False</td>\n",
       "    </tr>\n",
       "    <tr>\n",
       "      <th>69427</th>\n",
       "      <td>tragen</td>\n",
       "      <td>tragen</td>\n",
       "      <td>S</td>\n",
       "      <td>32</td>\n",
       "      <td>3.465736</td>\n",
       "      <td>True</td>\n",
       "      <td>20171201A</td>\n",
       "      <td>93</td>\n",
       "      <td>11</td>\n",
       "      <td>False</td>\n",
       "    </tr>\n",
       "    <tr>\n",
       "      <th>73827</th>\n",
       "      <td>speichern</td>\n",
       "      <td>eintragen</td>\n",
       "      <td>S</td>\n",
       "      <td>316</td>\n",
       "      <td>5.755742</td>\n",
       "      <td>False</td>\n",
       "      <td>20171201B</td>\n",
       "      <td>98</td>\n",
       "      <td>20</td>\n",
       "      <td>True</td>\n",
       "    </tr>\n",
       "    <tr>\n",
       "      <th>73859</th>\n",
       "      <td>speichern</td>\n",
       "      <td>machen</td>\n",
       "      <td>J</td>\n",
       "      <td>12</td>\n",
       "      <td>2.484907</td>\n",
       "      <td>False</td>\n",
       "      <td>20171201B</td>\n",
       "      <td>98</td>\n",
       "      <td>5</td>\n",
       "      <td>True</td>\n",
       "    </tr>\n",
       "    <tr>\n",
       "      <th>73896</th>\n",
       "      <td>speichern</td>\n",
       "      <td>speichern</td>\n",
       "      <td>S</td>\n",
       "      <td>37</td>\n",
       "      <td>3.610918</td>\n",
       "      <td>False</td>\n",
       "      <td>20171201B</td>\n",
       "      <td>98</td>\n",
       "      <td>14</td>\n",
       "      <td>True</td>\n",
       "    </tr>\n",
       "    <tr>\n",
       "      <th>74351</th>\n",
       "      <td>speichern</td>\n",
       "      <td>planen</td>\n",
       "      <td>A</td>\n",
       "      <td>26</td>\n",
       "      <td>3.258097</td>\n",
       "      <td>False</td>\n",
       "      <td>20171201B</td>\n",
       "      <td>98</td>\n",
       "      <td>11</td>\n",
       "      <td>True</td>\n",
       "    </tr>\n",
       "    <tr>\n",
       "      <th>79233</th>\n",
       "      <td>eintragen</td>\n",
       "      <td>eintragen</td>\n",
       "      <td>A</td>\n",
       "      <td>2</td>\n",
       "      <td>0.693147</td>\n",
       "      <td>True</td>\n",
       "      <td>20171208A</td>\n",
       "      <td>101</td>\n",
       "      <td>2</td>\n",
       "      <td>True</td>\n",
       "    </tr>\n",
       "    <tr>\n",
       "      <th>81670</th>\n",
       "      <td>hinzufügen</td>\n",
       "      <td>planen</td>\n",
       "      <td>A</td>\n",
       "      <td>132</td>\n",
       "      <td>4.882802</td>\n",
       "      <td>False</td>\n",
       "      <td>20171208B</td>\n",
       "      <td>105</td>\n",
       "      <td>33</td>\n",
       "      <td>False</td>\n",
       "    </tr>\n",
       "    <tr>\n",
       "      <th>81717</th>\n",
       "      <td>hinzufügen</td>\n",
       "      <td>hinzufügen</td>\n",
       "      <td>S</td>\n",
       "      <td>47</td>\n",
       "      <td>3.850148</td>\n",
       "      <td>False</td>\n",
       "      <td>20171208B</td>\n",
       "      <td>105</td>\n",
       "      <td>24</td>\n",
       "      <td>False</td>\n",
       "    </tr>\n",
       "    <tr>\n",
       "      <th>81727</th>\n",
       "      <td>eintragen</td>\n",
       "      <td>hinzufügen</td>\n",
       "      <td>S</td>\n",
       "      <td>10</td>\n",
       "      <td>2.302585</td>\n",
       "      <td>False</td>\n",
       "      <td>20171208B</td>\n",
       "      <td>105</td>\n",
       "      <td>24</td>\n",
       "      <td>False</td>\n",
       "    </tr>\n",
       "    <tr>\n",
       "      <th>81784</th>\n",
       "      <td>hinzufügen</td>\n",
       "      <td>eintragen</td>\n",
       "      <td>S</td>\n",
       "      <td>57</td>\n",
       "      <td>4.043051</td>\n",
       "      <td>True</td>\n",
       "      <td>20171208B</td>\n",
       "      <td>105</td>\n",
       "      <td>9</td>\n",
       "      <td>False</td>\n",
       "    </tr>\n",
       "    <tr>\n",
       "      <th>81844</th>\n",
       "      <td>hinzufügen</td>\n",
       "      <td>hinzufügen</td>\n",
       "      <td>A</td>\n",
       "      <td>9</td>\n",
       "      <td>2.197225</td>\n",
       "      <td>True</td>\n",
       "      <td>20171208B</td>\n",
       "      <td>105</td>\n",
       "      <td>9</td>\n",
       "      <td>False</td>\n",
       "    </tr>\n",
       "    <tr>\n",
       "      <th>82931</th>\n",
       "      <td>eintragen</td>\n",
       "      <td>erstellen</td>\n",
       "      <td>A</td>\n",
       "      <td>98</td>\n",
       "      <td>4.584967</td>\n",
       "      <td>True</td>\n",
       "      <td>20171208B</td>\n",
       "      <td>106</td>\n",
       "      <td>11</td>\n",
       "      <td>True</td>\n",
       "    </tr>\n",
       "  </tbody>\n",
       "</table>\n",
       "</div>"
      ],
      "text/plain": [
       "           CURRENT     PREVIOUS PREVIOUS_SPEAKER  PREVIOUS_DISTANCE  \\\n",
       "2553     speichern   hinzufügen                A                123   \n",
       "2738     speichern   hinzufügen                A                140   \n",
       "2838        tragen   hinzufügen                A                 59   \n",
       "3280     speichern   hinzufügen                A                147   \n",
       "3398     speichern   hinzufügen                A                 79   \n",
       "5472     erstellen       planen                A                  2   \n",
       "5668        tragen   hinzufügen                A                148   \n",
       "11264    erstellen    erstellen                A                 22   \n",
       "11444    erstellen   hinzufügen                A                135   \n",
       "11515    erstellen   hinzufügen                A                 42   \n",
       "11801    erstellen   hinzufügen                A                 83   \n",
       "11864    erstellen    erstellen                A                 29   \n",
       "12429    erstellen    eintragen                A                  2   \n",
       "14210       tragen    eintragen                A                 81   \n",
       "14367       tragen   hinzufügen                A                102   \n",
       "14464       tragen   hinzufügen                A                 59   \n",
       "14938       machen   hinzufügen                A                214   \n",
       "17470    speichern   hinzufügen                A                120   \n",
       "17485    speichern    speichern                S                 15   \n",
       "21871    eintragen    eintragen                A                  7   \n",
       "21892    eintragen    eintragen                S                 21   \n",
       "22917       planen       planen                A                 10   \n",
       "22953       planen       planen                A                  8   \n",
       "27790    speichern       planen                A                377   \n",
       "30685    erstellen    erstellen                S                 25   \n",
       "30894    erstellen   hinzufügen                A                167   \n",
       "30930    erstellen    erstellen                S                 36   \n",
       "31017    erstellen   hinzufügen                A                 42   \n",
       "31464    erstellen       planen                A                  2   \n",
       "31913    erstellen       planen                A                 13   \n",
       "34069    markieren       planen                A                323   \n",
       "34087    markieren   hinzufügen                A                  3   \n",
       "34106    markieren    markieren                S                 19   \n",
       "34143    markieren   hinzufügen                A                  3   \n",
       "34617    markieren   hinzufügen                A                 99   \n",
       "35005    markieren       planen                A                 17   \n",
       "35074    markieren    eintragen                J                 12   \n",
       "35093    markieren    markieren                S                 19   \n",
       "35117    markieren    markieren                S                 24   \n",
       "35231    markieren       planen                A                 16   \n",
       "35236    markieren    markieren                S                  5   \n",
       "37518       tragen   hinzufügen                A                 49   \n",
       "37612       tragen   hinzufügen                A                 42   \n",
       "38099       tragen       planen                A                 20   \n",
       "38436       tragen    eintragen                J                247   \n",
       "40012  vereinbaren       planen                A                 36   \n",
       "40073       tragen  vereinbaren                S                 61   \n",
       "40117  vereinbaren       tragen                A                 42   \n",
       "40305  vereinbaren   hinzufügen                A                 40   \n",
       "40397  vereinbaren   hinzufügen                A                 58   \n",
       "43046    erstellen   hinzufügen                A                  2   \n",
       "43090    erstellen    erstellen                A                 17   \n",
       "69217       tragen   hinzufügen                A                 61   \n",
       "69303       tragen       planen                A                  2   \n",
       "69395       tragen       tragen                S                 92   \n",
       "69427       tragen       tragen                S                 32   \n",
       "73827    speichern    eintragen                S                316   \n",
       "73859    speichern       machen                J                 12   \n",
       "73896    speichern    speichern                S                 37   \n",
       "74351    speichern       planen                A                 26   \n",
       "79233    eintragen    eintragen                A                  2   \n",
       "81670   hinzufügen       planen                A                132   \n",
       "81717   hinzufügen   hinzufügen                S                 47   \n",
       "81727    eintragen   hinzufügen                S                 10   \n",
       "81784   hinzufügen    eintragen                S                 57   \n",
       "81844   hinzufügen   hinzufügen                A                  9   \n",
       "82931    eintragen    erstellen                A                 98   \n",
       "\n",
       "       PREVIOUS_DISTANCE_LOG  QUASI_PERSISTENCE   HUMAN_ID  INTERACTION_ID  \\\n",
       "2553                4.812184               True  20171121B               5   \n",
       "2738                4.941642              False  20171121B               5   \n",
       "2838                4.077537               True  20171121B               5   \n",
       "3280                4.990433              False  20171121B               6   \n",
       "3398                4.369448              False  20171121B               6   \n",
       "5472                0.693147               True  20171121C               9   \n",
       "5668                4.997212               True  20171121C               9   \n",
       "11264               3.091042               True  20171122B              17   \n",
       "11444               4.905275               True  20171122B              17   \n",
       "11515               3.737670               True  20171122B              17   \n",
       "11801               4.418841              False  20171122B              18   \n",
       "11864               3.367296               True  20171122B              18   \n",
       "12429               0.693147               True  20171122B              18   \n",
       "14210               4.394449               True  20171122C              21   \n",
       "14367               4.624973               True  20171122C              21   \n",
       "14464               4.077537               True  20171122C              21   \n",
       "14938               5.365976              False  20171122C              22   \n",
       "17470               4.787492              False  20171123A              26   \n",
       "17485               2.708050              False  20171123A              26   \n",
       "21871               1.945910              False  20171123D              33   \n",
       "21892               3.044522              False  20171123D              33   \n",
       "22917               2.302585               True  20171123D              34   \n",
       "22953               2.079442               True  20171123D              34   \n",
       "27790               5.932245              False  20171123F              41   \n",
       "30685               3.218876               True  20171127A              45   \n",
       "30894               5.117994               True  20171127A              45   \n",
       "30930               3.583519               True  20171127A              45   \n",
       "31017               3.737670               True  20171127A              45   \n",
       "31464               0.693147               True  20171127A              46   \n",
       "31913               2.564949               True  20171127A              46   \n",
       "34069               5.777652              False  20171127B              49   \n",
       "34087               1.098612               True  20171127B              49   \n",
       "34106               2.944439               True  20171127B              49   \n",
       "34143               1.098612               True  20171127B              49   \n",
       "34617               4.595120              False  20171127B              50   \n",
       "35005               2.833213               True  20171127B              50   \n",
       "35074               2.484907              False  20171127B              50   \n",
       "35093               2.944439              False  20171127B              50   \n",
       "35117               3.178054              False  20171127B              50   \n",
       "35231               2.772589               True  20171127B              50   \n",
       "35236               1.609438              False  20171127B              50   \n",
       "37518               3.891820               True  20171127C              53   \n",
       "37612               3.737670               True  20171127C              53   \n",
       "38099               2.995732               True  20171127C              54   \n",
       "38436               5.509388               True  20171127C              54   \n",
       "40012               3.583519              False  20171128A              57   \n",
       "40073               4.110874               True  20171128A              57   \n",
       "40117               3.737670               True  20171128A              57   \n",
       "40305               3.688879               True  20171128A              57   \n",
       "40397               4.060443               True  20171128A              57   \n",
       "43046               0.693147               True  20171128B              61   \n",
       "43090               2.833213               True  20171128B              61   \n",
       "69217               4.110874               True  20171201A              93   \n",
       "69303               0.693147              False  20171201A              93   \n",
       "69395               4.521789               True  20171201A              93   \n",
       "69427               3.465736               True  20171201A              93   \n",
       "73827               5.755742              False  20171201B              98   \n",
       "73859               2.484907              False  20171201B              98   \n",
       "73896               3.610918              False  20171201B              98   \n",
       "74351               3.258097              False  20171201B              98   \n",
       "79233               0.693147               True  20171208A             101   \n",
       "81670               4.882802              False  20171208B             105   \n",
       "81717               3.850148              False  20171208B             105   \n",
       "81727               2.302585              False  20171208B             105   \n",
       "81784               4.043051               True  20171208B             105   \n",
       "81844               2.197225               True  20171208B             105   \n",
       "82931               4.584967               True  20171208B             106   \n",
       "\n",
       "       TURN_LENGTH  CONFEDERATE  \n",
       "2553            13        False  \n",
       "2738            10        False  \n",
       "2838            14        False  \n",
       "3280            12         True  \n",
       "3398            10         True  \n",
       "5472            14        False  \n",
       "5668            13        False  \n",
       "11264           14        False  \n",
       "11444           14        False  \n",
       "11515           16        False  \n",
       "11801           14         True  \n",
       "11864           14         True  \n",
       "12429           14         True  \n",
       "14210           15        False  \n",
       "14367           10        False  \n",
       "14464           10        False  \n",
       "14938           12         True  \n",
       "17470           27         True  \n",
       "17485           27         True  \n",
       "21871            7         True  \n",
       "21892           17         True  \n",
       "22917           10        False  \n",
       "22953            8        False  \n",
       "27790           26         True  \n",
       "30685           12        False  \n",
       "30894            4        False  \n",
       "30930            4        False  \n",
       "31017            4        False  \n",
       "31464            4         True  \n",
       "31913            3         True  \n",
       "34069           19        False  \n",
       "34087           14        False  \n",
       "34106           12        False  \n",
       "34143           12        False  \n",
       "34617           21         True  \n",
       "35005           11         True  \n",
       "35074            9         True  \n",
       "35093            9         True  \n",
       "35117           11         True  \n",
       "35231           22         True  \n",
       "35236           22         True  \n",
       "37518           14        False  \n",
       "37612           17        False  \n",
       "38099           15         True  \n",
       "38436           18         True  \n",
       "40012           13        False  \n",
       "40073           13        False  \n",
       "40117           17        False  \n",
       "40305           10        False  \n",
       "40397            9        False  \n",
       "43046           16        False  \n",
       "43090            6        False  \n",
       "69217           10        False  \n",
       "69303           12        False  \n",
       "69395           10        False  \n",
       "69427           11        False  \n",
       "73827           20         True  \n",
       "73859            5         True  \n",
       "73896           14         True  \n",
       "74351           11         True  \n",
       "79233            2         True  \n",
       "81670           33        False  \n",
       "81717           24        False  \n",
       "81727           24        False  \n",
       "81784            9        False  \n",
       "81844            9        False  \n",
       "82931           11         True  "
      ]
     },
     "execution_count": 33,
     "metadata": {},
     "output_type": "execute_result"
    }
   ],
   "source": [
    "reload(quantification)\n",
    "variation_sample = quantification.prepare_data_for_modeling(df, alternating, beta_variants=None, drop_conf=False)\n",
    "variation_sample"
   ]
  },
  {
   "cell_type": "code",
   "execution_count": 34,
   "id": "b37cf789-4029-4dd8-9c51-aaddac3fa893",
   "metadata": {},
   "outputs": [
    {
     "data": {
      "text/plain": [
       "67"
      ]
     },
     "execution_count": 34,
     "metadata": {},
     "output_type": "execute_result"
    }
   ],
   "source": [
    "len(variation_sample)"
   ]
  },
  {
   "cell_type": "code",
   "execution_count": 35,
   "id": "838764c0-27e2-4aa5-b2e6-55b8d65c5046",
   "metadata": {},
   "outputs": [],
   "source": [
    "#normalizing split verbs to their correct infinitive form\n",
    "normalizing_dict = {\"tragen\": \"eintragen\", \"fügen\": \"hinzufügen\"}\n",
    "variation_sample.replace(normalizing_dict, inplace=True)\n",
    "\n",
    "#update alternation_set\n",
    "alternation_set = [\"erstellen\", \"eintragen\", \"speichern\", \"hinzufügen\", \"markieren\", \"planen\", \"vereinbaren\"] \n",
    "\n",
    "variation_sample.to_csv(\"SCHEDULE_for_analysis.csv\")"
   ]
  },
  {
   "cell_type": "markdown",
   "id": "b4f077cf-e262-4e29-906c-26fb3e6255ca",
   "metadata": {},
   "source": [
    "# Cross-tabulation"
   ]
  },
  {
   "cell_type": "code",
   "execution_count": 36,
   "id": "5127dead-89e4-40bf-8555-c11ae868f02a",
   "metadata": {},
   "outputs": [
    {
     "data": {
      "text/html": [
       "<div>\n",
       "<style scoped>\n",
       "    .dataframe tbody tr th:only-of-type {\n",
       "        vertical-align: middle;\n",
       "    }\n",
       "\n",
       "    .dataframe tbody tr th {\n",
       "        vertical-align: top;\n",
       "    }\n",
       "\n",
       "    .dataframe thead th {\n",
       "        text-align: right;\n",
       "    }\n",
       "</style>\n",
       "<table border=\"1\" class=\"dataframe\">\n",
       "  <thead>\n",
       "    <tr style=\"text-align: right;\">\n",
       "      <th>CURRENT</th>\n",
       "      <th>eintragen</th>\n",
       "      <th>erstellen</th>\n",
       "      <th>hinzufügen</th>\n",
       "      <th>machen</th>\n",
       "      <th>markieren</th>\n",
       "      <th>planen</th>\n",
       "      <th>speichern</th>\n",
       "      <th>vereinbaren</th>\n",
       "      <th>Total in PREVIOUS</th>\n",
       "    </tr>\n",
       "    <tr>\n",
       "      <th>PREVIOUS</th>\n",
       "      <th></th>\n",
       "      <th></th>\n",
       "      <th></th>\n",
       "      <th></th>\n",
       "      <th></th>\n",
       "      <th></th>\n",
       "      <th></th>\n",
       "      <th></th>\n",
       "      <th></th>\n",
       "    </tr>\n",
       "  </thead>\n",
       "  <tbody>\n",
       "    <tr>\n",
       "      <th>eintragen</th>\n",
       "      <td>7</td>\n",
       "      <td>1</td>\n",
       "      <td>1</td>\n",
       "      <td>0</td>\n",
       "      <td>1</td>\n",
       "      <td>0</td>\n",
       "      <td>1</td>\n",
       "      <td>1</td>\n",
       "      <td>12</td>\n",
       "    </tr>\n",
       "    <tr>\n",
       "      <th>erstellen</th>\n",
       "      <td>1</td>\n",
       "      <td>5</td>\n",
       "      <td>0</td>\n",
       "      <td>0</td>\n",
       "      <td>0</td>\n",
       "      <td>0</td>\n",
       "      <td>0</td>\n",
       "      <td>0</td>\n",
       "      <td>6</td>\n",
       "    </tr>\n",
       "    <tr>\n",
       "      <th>hinzufügen</th>\n",
       "      <td>8</td>\n",
       "      <td>6</td>\n",
       "      <td>2</td>\n",
       "      <td>1</td>\n",
       "      <td>3</td>\n",
       "      <td>0</td>\n",
       "      <td>5</td>\n",
       "      <td>2</td>\n",
       "      <td>27</td>\n",
       "    </tr>\n",
       "    <tr>\n",
       "      <th>machen</th>\n",
       "      <td>0</td>\n",
       "      <td>0</td>\n",
       "      <td>0</td>\n",
       "      <td>0</td>\n",
       "      <td>0</td>\n",
       "      <td>0</td>\n",
       "      <td>1</td>\n",
       "      <td>0</td>\n",
       "      <td>1</td>\n",
       "    </tr>\n",
       "    <tr>\n",
       "      <th>markieren</th>\n",
       "      <td>0</td>\n",
       "      <td>0</td>\n",
       "      <td>0</td>\n",
       "      <td>0</td>\n",
       "      <td>4</td>\n",
       "      <td>0</td>\n",
       "      <td>0</td>\n",
       "      <td>0</td>\n",
       "      <td>4</td>\n",
       "    </tr>\n",
       "    <tr>\n",
       "      <th>planen</th>\n",
       "      <td>2</td>\n",
       "      <td>3</td>\n",
       "      <td>1</td>\n",
       "      <td>0</td>\n",
       "      <td>3</td>\n",
       "      <td>2</td>\n",
       "      <td>2</td>\n",
       "      <td>1</td>\n",
       "      <td>14</td>\n",
       "    </tr>\n",
       "    <tr>\n",
       "      <th>speichern</th>\n",
       "      <td>0</td>\n",
       "      <td>0</td>\n",
       "      <td>0</td>\n",
       "      <td>0</td>\n",
       "      <td>0</td>\n",
       "      <td>0</td>\n",
       "      <td>2</td>\n",
       "      <td>0</td>\n",
       "      <td>2</td>\n",
       "    </tr>\n",
       "    <tr>\n",
       "      <th>vereinbaren</th>\n",
       "      <td>1</td>\n",
       "      <td>0</td>\n",
       "      <td>0</td>\n",
       "      <td>0</td>\n",
       "      <td>0</td>\n",
       "      <td>0</td>\n",
       "      <td>0</td>\n",
       "      <td>0</td>\n",
       "      <td>1</td>\n",
       "    </tr>\n",
       "    <tr>\n",
       "      <th>Total in CURRENT</th>\n",
       "      <td>19</td>\n",
       "      <td>15</td>\n",
       "      <td>4</td>\n",
       "      <td>1</td>\n",
       "      <td>11</td>\n",
       "      <td>2</td>\n",
       "      <td>11</td>\n",
       "      <td>4</td>\n",
       "      <td>67</td>\n",
       "    </tr>\n",
       "  </tbody>\n",
       "</table>\n",
       "</div>"
      ],
      "text/plain": [
       "CURRENT           eintragen  erstellen  hinzufügen  machen  markieren  planen  \\\n",
       "PREVIOUS                                                                        \n",
       "eintragen                 7          1           1       0          1       0   \n",
       "erstellen                 1          5           0       0          0       0   \n",
       "hinzufügen                8          6           2       1          3       0   \n",
       "machen                    0          0           0       0          0       0   \n",
       "markieren                 0          0           0       0          4       0   \n",
       "planen                    2          3           1       0          3       2   \n",
       "speichern                 0          0           0       0          0       0   \n",
       "vereinbaren               1          0           0       0          0       0   \n",
       "Total in CURRENT         19         15           4       1         11       2   \n",
       "\n",
       "CURRENT           speichern  vereinbaren  Total in PREVIOUS  \n",
       "PREVIOUS                                                     \n",
       "eintragen                 1            1                 12  \n",
       "erstellen                 0            0                  6  \n",
       "hinzufügen                5            2                 27  \n",
       "machen                    1            0                  1  \n",
       "markieren                 0            0                  4  \n",
       "planen                    2            1                 14  \n",
       "speichern                 2            0                  2  \n",
       "vereinbaren               0            0                  1  \n",
       "Total in CURRENT         11            4                 67  "
      ]
     },
     "execution_count": 36,
     "metadata": {},
     "output_type": "execute_result"
    }
   ],
   "source": [
    "variation_sample_filtered = variation_sample[variation_sample.CURRENT!=\"machen\"] #filtering out variants which only appear in one of the two slots\n",
    "contingency_table = pd.crosstab(variation_sample.PREVIOUS, variation_sample.CURRENT)\n",
    "contingency_table[\"Total in PREVIOUS\"] = contingency_table.sum(axis=1)\n",
    "contingency_table.loc[\"Total in CURRENT\"] = contingency_table.sum(axis=0)\n",
    "contingency_table"
   ]
  },
  {
   "cell_type": "code",
   "execution_count": 37,
   "id": "1d4d9a6b-96d5-4e0b-8d36-f13a7313f859",
   "metadata": {},
   "outputs": [
    {
     "data": {
      "image/png": "[encoded data removed]",
      "text/plain": [
       "<Figure size 3000x1800 with 1 Axes>"
      ]
     },
     "metadata": {},
     "output_type": "display_data"
    }
   ],
   "source": [
    "import matplotlib.pyplot as plt, numpy as np\n",
    "fig, ax = plt.subplots(figsize=(10, 6), dpi=300) \n",
    "plt.rcParams['text.usetex'] = True\n",
    "\n",
    "variation_sample.PREVIOUS_SPEAKER = variation_sample.PREVIOUS_SPEAKER.replace(\"A\", \"Voice assistant\")\n",
    "variation_sample.PREVIOUS_SPEAKER = variation_sample.PREVIOUS_SPEAKER.replace(\"S\", \"Human speaker\")\n",
    "variation_sample.PREVIOUS_SPEAKER = variation_sample.PREVIOUS_SPEAKER.replace(\"J\", \"Confederate\")\n",
    "\n",
    "grouped = variation_sample.groupby(\"PREVIOUS_SPEAKER\").PREVIOUS.value_counts()\n",
    "grouped = grouped.unstack().fillna(0).T\n",
    "\n",
    "grouped.plot(kind=\"bar\", ax=ax, colormap=\"Pastel1\", edgecolor=\"black\")\n",
    "\n",
    "ax.set_xticklabels([r'\\textit{' + label.get_text() + '}' for label in ax.get_xticklabels()])\n",
    "\n",
    "plt.ylabel(r\"Frequency\", fontsize=13)\n",
    "plt.xlabel(r\"Variant in \\textsc{previous}\", fontsize=13)\n",
    "plt.legend(title=r\"Speaker of \\textsc{previous}\", fontsize=12, title_fontsize=13)\n",
    "plt.xticks(fontsize=12)\n",
    "\n",
    "plt.show()\n",
    "\n",
    "fig.savefig(\"../../../publication/further/images/PREVIOUS_SPEAKER_plot.png\", bbox_inches='tight') #'fig'!"
   ]
  },
  {
   "cell_type": "code",
   "execution_count": 44,
   "id": "9cc8c6ea-1ef0-4c43-846d-20da65de2c45",
   "metadata": {},
   "outputs": [
    {
     "data": {
      "application/vnd.plotly.v1+json": {
       "config": {
        "plotlyServerURL": "https://plot.ly"
       },
       "data": [
        {
         "arrangement": "snap",
         "link": {
          "color": [
           "#88808F",
           "lightgray",
           "lightgray",
           "lightgray",
           "lightgray",
           "lightgray",
           "lightgray",
           "#88808F",
           "lightgray",
           "lightgray",
           "#88808F",
           "lightgray",
           "lightgray",
           "lightgray",
           "lightgray",
           "lightgray",
           "#88808F",
           "lightgray",
           "lightgray",
           "lightgray",
           "lightgray",
           "#88808F",
           "lightgray",
           "lightgray",
           "#88808F",
           "lightgray"
          ],
          "source": [
           0,
           0,
           0,
           0,
           0,
           0,
           1,
           1,
           2,
           2,
           2,
           2,
           2,
           2,
           2,
           3,
           4,
           5,
           5,
           5,
           5,
           5,
           5,
           5,
           6,
           7
          ],
          "target": [
           8,
           9,
           10,
           12,
           14,
           15,
           8,
           9,
           8,
           9,
           10,
           11,
           12,
           14,
           15,
           14,
           12,
           8,
           9,
           10,
           12,
           13,
           14,
           15,
           14,
           8
          ],
          "value": [
           7,
           1,
           1,
           1,
           1,
           1,
           1,
           5,
           8,
           6,
           2,
           1,
           3,
           5,
           2,
           1,
           4,
           2,
           3,
           1,
           3,
           2,
           2,
           1,
           2,
           1
          ]
         },
         "node": {
          "color": [
           "#A6CEE3",
           "#FDBF6F",
           "#B2DF8A",
           "#FB9A99",
           "#CAB2D6",
           "#FFDDC1",
           "#F4A7C1",
           "#CFCFCF",
           "#A6CEE3",
           "#FDBF6F",
           "#B2DF8A",
           "#FB9A99",
           "#CAB2D6",
           "#FFDDC1",
           "#F4A7C1",
           "#CFCFCF"
          ],
          "label": [
           "<i>eintragen</i> ",
           "<i>erstellen</i> ",
           "<i>hinzufügen</i> ",
           "<i>machen</i> ",
           "<i>markieren</i> ",
           "<i>planen</i> ",
           "<i>speichern</i> ",
           "<i>vereinbaren</i> ",
           "<i>eintragen</i>",
           "<i>erstellen</i>",
           "<i>hinzufügen</i>",
           "<i>machen</i>",
           "<i>markieren</i>",
           "<i>planen</i>",
           "<i>speichern</i>",
           "<i>vereinbaren</i>"
          ],
          "pad": 20,
          "thickness": 25,
          "x": [
           0,
           0,
           0,
           0,
           0,
           0,
           0,
           0,
           1,
           1,
           1,
           1,
           1,
           1,
           1,
           1
          ],
          "y": [
           0,
           0.125,
           0.25,
           0.375,
           0.5,
           0.625,
           0.75,
           0.875
          ]
         },
         "type": "sankey"
        }
       ],
       "layout": {
        "annotations": [
         {
          "font": {
           "color": "black",
           "size": 20
          },
          "showarrow": false,
          "text": "<span style='font-variant: small-caps;'>previous</span>",
          "x": 0.05,
          "xanchor": "center",
          "y": -0.08
         },
         {
          "font": {
           "color": "black",
           "size": 20
          },
          "showarrow": false,
          "text": "<span style='font-variant: small-caps;'>current</span>",
          "x": 0.96,
          "xanchor": "center",
          "y": -0.08
         }
        ],
        "font": {
         "family": "Serif",
         "size": 14
        },
        "height": 600,
        "margin": {
         "b": 100,
         "l": 150,
         "r": 150,
         "t": 50
        },
        "template": {
         "data": {
          "bar": [
           {
            "error_x": {
             "color": "#2a3f5f"
            },
            "error_y": {
             "color": "#2a3f5f"
            },
            "marker": {
             "line": {
              "color": "#E5ECF6",
              "width": 0.5
             },
             "pattern": {
              "fillmode": "overlay",
              "size": 10,
              "solidity": 0.2
             }
            },
            "type": "bar"
           }
          ],
          "barpolar": [
           {
            "marker": {
             "line": {
              "color": "#E5ECF6",
              "width": 0.5
             },
             "pattern": {
              "fillmode": "overlay",
              "size": 10,
              "solidity": 0.2
             }
            },
            "type": "barpolar"
           }
          ],
          "carpet": [
           {
            "aaxis": {
             "endlinecolor": "#2a3f5f",
             "gridcolor": "white",
             "linecolor": "white",
             "minorgridcolor": "white",
             "startlinecolor": "#2a3f5f"
            },
            "baxis": {
             "endlinecolor": "#2a3f5f",
             "gridcolor": "white",
             "linecolor": "white",
             "minorgridcolor": "white",
             "startlinecolor": "#2a3f5f"
            },
            "type": "carpet"
           }
          ],
          "choropleth": [
           {
            "colorbar": {
             "outlinewidth": 0,
             "ticks": ""
            },
            "type": "choropleth"
           }
          ],
          "contour": [
           {
            "colorbar": {
             "outlinewidth": 0,
             "ticks": ""
            },
            "colorscale": [
             [
              0,
              "#0d0887"
             ],
             [
              0.1111111111111111,
              "#46039f"
             ],
             [
              0.2222222222222222,
              "#7201a8"
             ],
             [
              0.3333333333333333,
              "#9c179e"
             ],
             [
              0.4444444444444444,
              "#bd3786"
             ],
             [
              0.5555555555555556,
              "#d8576b"
             ],
             [
              0.6666666666666666,
              "#ed7953"
             ],
             [
              0.7777777777777778,
              "#fb9f3a"
             ],
             [
              0.8888888888888888,
              "#fdca26"
             ],
             [
              1,
              "#f0f921"
             ]
            ],
            "type": "contour"
           }
          ],
          "contourcarpet": [
           {
            "colorbar": {
             "outlinewidth": 0,
             "ticks": ""
            },
            "type": "contourcarpet"
           }
          ],
          "heatmap": [
           {
            "colorbar": {
             "outlinewidth": 0,
             "ticks": ""
            },
            "colorscale": [
             [
              0,
              "#0d0887"
             ],
             [
              0.1111111111111111,
              "#46039f"
             ],
             [
              0.2222222222222222,
              "#7201a8"
             ],
             [
              0.3333333333333333,
              "#9c179e"
             ],
             [
              0.4444444444444444,
              "#bd3786"
             ],
             [
              0.5555555555555556,
              "#d8576b"
             ],
             [
              0.6666666666666666,
              "#ed7953"
             ],
             [
              0.7777777777777778,
              "#fb9f3a"
             ],
             [
              0.8888888888888888,
              "#fdca26"
             ],
             [
              1,
              "#f0f921"
             ]
            ],
            "type": "heatmap"
           }
          ],
          "heatmapgl": [
           {
            "colorbar": {
             "outlinewidth": 0,
             "ticks": ""
            },
            "colorscale": [
             [
              0,
              "#0d0887"
             ],
             [
              0.1111111111111111,
              "#46039f"
             ],
             [
              0.2222222222222222,
              "#7201a8"
             ],
             [
              0.3333333333333333,
              "#9c179e"
             ],
             [
              0.4444444444444444,
              "#bd3786"
             ],
             [
              0.5555555555555556,
              "#d8576b"
             ],
             [
              0.6666666666666666,
              "#ed7953"
             ],
             [
              0.7777777777777778,
              "#fb9f3a"
             ],
             [
              0.8888888888888888,
              "#fdca26"
             ],
             [
              1,
              "#f0f921"
             ]
            ],
            "type": "heatmapgl"
           }
          ],
          "histogram": [
           {
            "marker": {
             "pattern": {
              "fillmode": "overlay",
              "size": 10,
              "solidity": 0.2
             }
            },
            "type": "histogram"
           }
          ],
          "histogram2d": [
           {
            "colorbar": {
             "outlinewidth": 0,
             "ticks": ""
            },
            "colorscale": [
             [
              0,
              "#0d0887"
             ],
             [
              0.1111111111111111,
              "#46039f"
             ],
             [
              0.2222222222222222,
              "#7201a8"
             ],
             [
              0.3333333333333333,
              "#9c179e"
             ],
             [
              0.4444444444444444,
              "#bd3786"
             ],
             [
              0.5555555555555556,
              "#d8576b"
             ],
             [
              0.6666666666666666,
              "#ed7953"
             ],
             [
              0.7777777777777778,
              "#fb9f3a"
             ],
             [
              0.8888888888888888,
              "#fdca26"
             ],
             [
              1,
              "#f0f921"
             ]
            ],
            "type": "histogram2d"
           }
          ],
          "histogram2dcontour": [
           {
            "colorbar": {
             "outlinewidth": 0,
             "ticks": ""
            },
            "colorscale": [
             [
              0,
              "#0d0887"
             ],
             [
              0.1111111111111111,
              "#46039f"
             ],
             [
              0.2222222222222222,
              "#7201a8"
             ],
             [
              0.3333333333333333,
              "#9c179e"
             ],
             [
              0.4444444444444444,
              "#bd3786"
             ],
             [
              0.5555555555555556,
              "#d8576b"
             ],
             [
              0.6666666666666666,
              "#ed7953"
             ],
             [
              0.7777777777777778,
              "#fb9f3a"
             ],
             [
              0.8888888888888888,
              "#fdca26"
             ],
             [
              1,
              "#f0f921"
             ]
            ],
            "type": "histogram2dcontour"
           }
          ],
          "mesh3d": [
           {
            "colorbar": {
             "outlinewidth": 0,
             "ticks": ""
            },
            "type": "mesh3d"
           }
          ],
          "parcoords": [
           {
            "line": {
             "colorbar": {
              "outlinewidth": 0,
              "ticks": ""
             }
            },
            "type": "parcoords"
           }
          ],
          "pie": [
           {
            "automargin": true,
            "type": "pie"
           }
          ],
          "scatter": [
           {
            "fillpattern": {
             "fillmode": "overlay",
             "size": 10,
             "solidity": 0.2
            },
            "type": "scatter"
           }
          ],
          "scatter3d": [
           {
            "line": {
             "colorbar": {
              "outlinewidth": 0,
              "ticks": ""
             }
            },
            "marker": {
             "colorbar": {
              "outlinewidth": 0,
              "ticks": ""
             }
            },
            "type": "scatter3d"
           }
          ],
          "scattercarpet": [
           {
            "marker": {
             "colorbar": {
              "outlinewidth": 0,
              "ticks": ""
             }
            },
            "type": "scattercarpet"
           }
          ],
          "scattergeo": [
           {
            "marker": {
             "colorbar": {
              "outlinewidth": 0,
              "ticks": ""
             }
            },
            "type": "scattergeo"
           }
          ],
          "scattergl": [
           {
            "marker": {
             "colorbar": {
              "outlinewidth": 0,
              "ticks": ""
             }
            },
            "type": "scattergl"
           }
          ],
          "scattermapbox": [
           {
            "marker": {
             "colorbar": {
              "outlinewidth": 0,
              "ticks": ""
             }
            },
            "type": "scattermapbox"
           }
          ],
          "scatterpolar": [
           {
            "marker": {
             "colorbar": {
              "outlinewidth": 0,
              "ticks": ""
             }
            },
            "type": "scatterpolar"
           }
          ],
          "scatterpolargl": [
           {
            "marker": {
             "colorbar": {
              "outlinewidth": 0,
              "ticks": ""
             }
            },
            "type": "scatterpolargl"
           }
          ],
          "scatterternary": [
           {
            "marker": {
             "colorbar": {
              "outlinewidth": 0,
              "ticks": ""
             }
            },
            "type": "scatterternary"
           }
          ],
          "surface": [
           {
            "colorbar": {
             "outlinewidth": 0,
             "ticks": ""
            },
            "colorscale": [
             [
              0,
              "#0d0887"
             ],
             [
              0.1111111111111111,
              "#46039f"
             ],
             [
              0.2222222222222222,
              "#7201a8"
             ],
             [
              0.3333333333333333,
              "#9c179e"
             ],
             [
              0.4444444444444444,
              "#bd3786"
             ],
             [
              0.5555555555555556,
              "#d8576b"
             ],
             [
              0.6666666666666666,
              "#ed7953"
             ],
             [
              0.7777777777777778,
              "#fb9f3a"
             ],
             [
              0.8888888888888888,
              "#fdca26"
             ],
             [
              1,
              "#f0f921"
             ]
            ],
            "type": "surface"
           }
          ],
          "table": [
           {
            "cells": {
             "fill": {
              "color": "#EBF0F8"
             },
             "line": {
              "color": "white"
             }
            },
            "header": {
             "fill": {
              "color": "#C8D4E3"
             },
             "line": {
              "color": "white"
             }
            },
            "type": "table"
           }
          ]
         },
         "layout": {
          "annotationdefaults": {
           "arrowcolor": "#2a3f5f",
           "arrowhead": 0,
           "arrowwidth": 1
          },
          "autotypenumbers": "strict",
          "coloraxis": {
           "colorbar": {
            "outlinewidth": 0,
            "ticks": ""
           }
          },
          "colorscale": {
           "diverging": [
            [
             0,
             "#8e0152"
            ],
            [
             0.1,
             "#c51b7d"
            ],
            [
             0.2,
             "#de77ae"
            ],
            [
             0.3,
             "#f1b6da"
            ],
            [
             0.4,
             "#fde0ef"
            ],
            [
             0.5,
             "#f7f7f7"
            ],
            [
             0.6,
             "#e6f5d0"
            ],
            [
             0.7,
             "#b8e186"
            ],
            [
             0.8,
             "#7fbc41"
            ],
            [
             0.9,
             "#4d9221"
            ],
            [
             1,
             "#276419"
            ]
           ],
           "sequential": [
            [
             0,
             "#0d0887"
            ],
            [
             0.1111111111111111,
             "#46039f"
            ],
            [
             0.2222222222222222,
             "#7201a8"
            ],
            [
             0.3333333333333333,
             "#9c179e"
            ],
            [
             0.4444444444444444,
             "#bd3786"
            ],
            [
             0.5555555555555556,
             "#d8576b"
            ],
            [
             0.6666666666666666,
             "#ed7953"
            ],
            [
             0.7777777777777778,
             "#fb9f3a"
            ],
            [
             0.8888888888888888,
             "#fdca26"
            ],
            [
             1,
             "#f0f921"
            ]
           ],
           "sequentialminus": [
            [
             0,
             "#0d0887"
            ],
            [
             0.1111111111111111,
             "#46039f"
            ],
            [
             0.2222222222222222,
             "#7201a8"
            ],
            [
             0.3333333333333333,
             "#9c179e"
            ],
            [
             0.4444444444444444,
             "#bd3786"
            ],
            [
             0.5555555555555556,
             "#d8576b"
            ],
            [
             0.6666666666666666,
             "#ed7953"
            ],
            [
             0.7777777777777778,
             "#fb9f3a"
            ],
            [
             0.8888888888888888,
             "#fdca26"
            ],
            [
             1,
             "#f0f921"
            ]
           ]
          },
          "colorway": [
           "#636efa",
           "#EF553B",
           "#00cc96",
           "#ab63fa",
           "#FFA15A",
           "#19d3f3",
           "#FF6692",
           "#B6E880",
           "#FF97FF",
           "#FECB52"
          ],
          "font": {
           "color": "#2a3f5f"
          },
          "geo": {
           "bgcolor": "white",
           "lakecolor": "white",
           "landcolor": "#E5ECF6",
           "showlakes": true,
           "showland": true,
           "subunitcolor": "white"
          },
          "hoverlabel": {
           "align": "left"
          },
          "hovermode": "closest",
          "mapbox": {
           "style": "light"
          },
          "paper_bgcolor": "white",
          "plot_bgcolor": "#E5ECF6",
          "polar": {
           "angularaxis": {
            "gridcolor": "white",
            "linecolor": "white",
            "ticks": ""
           },
           "bgcolor": "#E5ECF6",
           "radialaxis": {
            "gridcolor": "white",
            "linecolor": "white",
            "ticks": ""
           }
          },
          "scene": {
           "xaxis": {
            "backgroundcolor": "#E5ECF6",
            "gridcolor": "white",
            "gridwidth": 2,
            "linecolor": "white",
            "showbackground": true,
            "ticks": "",
            "zerolinecolor": "white"
           },
           "yaxis": {
            "backgroundcolor": "#E5ECF6",
            "gridcolor": "white",
            "gridwidth": 2,
            "linecolor": "white",
            "showbackground": true,
            "ticks": "",
            "zerolinecolor": "white"
           },
           "zaxis": {
            "backgroundcolor": "#E5ECF6",
            "gridcolor": "white",
            "gridwidth": 2,
            "linecolor": "white",
            "showbackground": true,
            "ticks": "",
            "zerolinecolor": "white"
           }
          },
          "shapedefaults": {
           "line": {
            "color": "#2a3f5f"
           }
          },
          "ternary": {
           "aaxis": {
            "gridcolor": "white",
            "linecolor": "white",
            "ticks": ""
           },
           "baxis": {
            "gridcolor": "white",
            "linecolor": "white",
            "ticks": ""
           },
           "bgcolor": "#E5ECF6",
           "caxis": {
            "gridcolor": "white",
            "linecolor": "white",
            "ticks": ""
           }
          },
          "title": {
           "x": 0.05
          },
          "xaxis": {
           "automargin": true,
           "gridcolor": "white",
           "linecolor": "white",
           "ticks": "",
           "title": {
            "standoff": 15
           },
           "zerolinecolor": "white",
           "zerolinewidth": 2
          },
          "yaxis": {
           "automargin": true,
           "gridcolor": "white",
           "linecolor": "white",
           "ticks": "",
           "title": {
            "standoff": 15
           },
           "zerolinecolor": "white",
           "zerolinewidth": 2
          }
         }
        },
        "width": 1000
       }
      },
      "image/png": "[encoded data removed]",
      "text/html": [
       "<div>                            <div id=\"7a01dd1c-08b1-4bc7-912b-bfe7702e9632\" class=\"plotly-graph-div\" style=\"height:600px; width:1000px;\"></div>            <script type=\"text/javascript\">                require([\"plotly\"], function(Plotly) {                    window.PLOTLYENV=window.PLOTLYENV || {};                                    if (document.getElementById(\"7a01dd1c-08b1-4bc7-912b-bfe7702e9632\")) {                    Plotly.newPlot(                        \"7a01dd1c-08b1-4bc7-912b-bfe7702e9632\",                        [{\"arrangement\":\"snap\",\"link\":{\"color\":[\"#88808F\",\"lightgray\",\"lightgray\",\"lightgray\",\"lightgray\",\"lightgray\",\"lightgray\",\"#88808F\",\"lightgray\",\"lightgray\",\"#88808F\",\"lightgray\",\"lightgray\",\"lightgray\",\"lightgray\",\"lightgray\",\"#88808F\",\"lightgray\",\"lightgray\",\"lightgray\",\"lightgray\",\"#88808F\",\"lightgray\",\"lightgray\",\"#88808F\",\"lightgray\"],\"source\":[0,0,0,0,0,0,1,1,2,2,2,2,2,2,2,3,4,5,5,5,5,5,5,5,6,7],\"target\":[8,9,10,12,14,15,8,9,8,9,10,11,12,14,15,14,12,8,9,10,12,13,14,15,14,8],\"value\":[7,1,1,1,1,1,1,5,8,6,2,1,3,5,2,1,4,2,3,1,3,2,2,1,2,1]},\"node\":{\"color\":[\"#A6CEE3\",\"#FDBF6F\",\"#B2DF8A\",\"#FB9A99\",\"#CAB2D6\",\"#FFDDC1\",\"#F4A7C1\",\"#CFCFCF\",\"#A6CEE3\",\"#FDBF6F\",\"#B2DF8A\",\"#FB9A99\",\"#CAB2D6\",\"#FFDDC1\",\"#F4A7C1\",\"#CFCFCF\"],\"label\":[\"\\u003ci\\u003eeintragen\\u003c\\u002fi\\u003e \",\"\\u003ci\\u003eerstellen\\u003c\\u002fi\\u003e \",\"\\u003ci\\u003ehinzuf\\u00fcgen\\u003c\\u002fi\\u003e \",\"\\u003ci\\u003emachen\\u003c\\u002fi\\u003e \",\"\\u003ci\\u003emarkieren\\u003c\\u002fi\\u003e \",\"\\u003ci\\u003eplanen\\u003c\\u002fi\\u003e \",\"\\u003ci\\u003espeichern\\u003c\\u002fi\\u003e \",\"\\u003ci\\u003evereinbaren\\u003c\\u002fi\\u003e \",\"\\u003ci\\u003eeintragen\\u003c\\u002fi\\u003e\",\"\\u003ci\\u003eerstellen\\u003c\\u002fi\\u003e\",\"\\u003ci\\u003ehinzuf\\u00fcgen\\u003c\\u002fi\\u003e\",\"\\u003ci\\u003emachen\\u003c\\u002fi\\u003e\",\"\\u003ci\\u003emarkieren\\u003c\\u002fi\\u003e\",\"\\u003ci\\u003eplanen\\u003c\\u002fi\\u003e\",\"\\u003ci\\u003espeichern\\u003c\\u002fi\\u003e\",\"\\u003ci\\u003evereinbaren\\u003c\\u002fi\\u003e\"],\"pad\":20,\"thickness\":25,\"x\":[0,0,0,0,0,0,0,0,1,1,1,1,1,1,1,1],\"y\":[0.0,0.125,0.25,0.375,0.5,0.625,0.75,0.875]},\"type\":\"sankey\"}],                        {\"template\":{\"data\":{\"histogram2dcontour\":[{\"type\":\"histogram2dcontour\",\"colorbar\":{\"outlinewidth\":0,\"ticks\":\"\"},\"colorscale\":[[0.0,\"#0d0887\"],[0.1111111111111111,\"#46039f\"],[0.2222222222222222,\"#7201a8\"],[0.3333333333333333,\"#9c179e\"],[0.4444444444444444,\"#bd3786\"],[0.5555555555555556,\"#d8576b\"],[0.6666666666666666,\"#ed7953\"],[0.7777777777777778,\"#fb9f3a\"],[0.8888888888888888,\"#fdca26\"],[1.0,\"#f0f921\"]]}],\"choropleth\":[{\"type\":\"choropleth\",\"colorbar\":{\"outlinewidth\":0,\"ticks\":\"\"}}],\"histogram2d\":[{\"type\":\"histogram2d\",\"colorbar\":{\"outlinewidth\":0,\"ticks\":\"\"},\"colorscale\":[[0.0,\"#0d0887\"],[0.1111111111111111,\"#46039f\"],[0.2222222222222222,\"#7201a8\"],[0.3333333333333333,\"#9c179e\"],[0.4444444444444444,\"#bd3786\"],[0.5555555555555556,\"#d8576b\"],[0.6666666666666666,\"#ed7953\"],[0.7777777777777778,\"#fb9f3a\"],[0.8888888888888888,\"#fdca26\"],[1.0,\"#f0f921\"]]}],\"heatmap\":[{\"type\":\"heatmap\",\"colorbar\":{\"outlinewidth\":0,\"ticks\":\"\"},\"colorscale\":[[0.0,\"#0d0887\"],[0.1111111111111111,\"#46039f\"],[0.2222222222222222,\"#7201a8\"],[0.3333333333333333,\"#9c179e\"],[0.4444444444444444,\"#bd3786\"],[0.5555555555555556,\"#d8576b\"],[0.6666666666666666,\"#ed7953\"],[0.7777777777777778,\"#fb9f3a\"],[0.8888888888888888,\"#fdca26\"],[1.0,\"#f0f921\"]]}],\"heatmapgl\":[{\"type\":\"heatmapgl\",\"colorbar\":{\"outlinewidth\":0,\"ticks\":\"\"},\"colorscale\":[[0.0,\"#0d0887\"],[0.1111111111111111,\"#46039f\"],[0.2222222222222222,\"#7201a8\"],[0.3333333333333333,\"#9c179e\"],[0.4444444444444444,\"#bd3786\"],[0.5555555555555556,\"#d8576b\"],[0.6666666666666666,\"#ed7953\"],[0.7777777777777778,\"#fb9f3a\"],[0.8888888888888888,\"#fdca26\"],[1.0,\"#f0f921\"]]}],\"contourcarpet\":[{\"type\":\"contourcarpet\",\"colorbar\":{\"outlinewidth\":0,\"ticks\":\"\"}}],\"contour\":[{\"type\":\"contour\",\"colorbar\":{\"outlinewidth\":0,\"ticks\":\"\"},\"colorscale\":[[0.0,\"#0d0887\"],[0.1111111111111111,\"#46039f\"],[0.2222222222222222,\"#7201a8\"],[0.3333333333333333,\"#9c179e\"],[0.4444444444444444,\"#bd3786\"],[0.5555555555555556,\"#d8576b\"],[0.6666666666666666,\"#ed7953\"],[0.7777777777777778,\"#fb9f3a\"],[0.8888888888888888,\"#fdca26\"],[1.0,\"#f0f921\"]]}],\"surface\":[{\"type\":\"surface\",\"colorbar\":{\"outlinewidth\":0,\"ticks\":\"\"},\"colorscale\":[[0.0,\"#0d0887\"],[0.1111111111111111,\"#46039f\"],[0.2222222222222222,\"#7201a8\"],[0.3333333333333333,\"#9c179e\"],[0.4444444444444444,\"#bd3786\"],[0.5555555555555556,\"#d8576b\"],[0.6666666666666666,\"#ed7953\"],[0.7777777777777778,\"#fb9f3a\"],[0.8888888888888888,\"#fdca26\"],[1.0,\"#f0f921\"]]}],\"mesh3d\":[{\"type\":\"mesh3d\",\"colorbar\":{\"outlinewidth\":0,\"ticks\":\"\"}}],\"scatter\":[{\"fillpattern\":{\"fillmode\":\"overlay\",\"size\":10,\"solidity\":0.2},\"type\":\"scatter\"}],\"parcoords\":[{\"type\":\"parcoords\",\"line\":{\"colorbar\":{\"outlinewidth\":0,\"ticks\":\"\"}}}],\"scatterpolargl\":[{\"type\":\"scatterpolargl\",\"marker\":{\"colorbar\":{\"outlinewidth\":0,\"ticks\":\"\"}}}],\"bar\":[{\"error_x\":{\"color\":\"#2a3f5f\"},\"error_y\":{\"color\":\"#2a3f5f\"},\"marker\":{\"line\":{\"color\":\"#E5ECF6\",\"width\":0.5},\"pattern\":{\"fillmode\":\"overlay\",\"size\":10,\"solidity\":0.2}},\"type\":\"bar\"}],\"scattergeo\":[{\"type\":\"scattergeo\",\"marker\":{\"colorbar\":{\"outlinewidth\":0,\"ticks\":\"\"}}}],\"scatterpolar\":[{\"type\":\"scatterpolar\",\"marker\":{\"colorbar\":{\"outlinewidth\":0,\"ticks\":\"\"}}}],\"histogram\":[{\"marker\":{\"pattern\":{\"fillmode\":\"overlay\",\"size\":10,\"solidity\":0.2}},\"type\":\"histogram\"}],\"scattergl\":[{\"type\":\"scattergl\",\"marker\":{\"colorbar\":{\"outlinewidth\":0,\"ticks\":\"\"}}}],\"scatter3d\":[{\"type\":\"scatter3d\",\"line\":{\"colorbar\":{\"outlinewidth\":0,\"ticks\":\"\"}},\"marker\":{\"colorbar\":{\"outlinewidth\":0,\"ticks\":\"\"}}}],\"scattermapbox\":[{\"type\":\"scattermapbox\",\"marker\":{\"colorbar\":{\"outlinewidth\":0,\"ticks\":\"\"}}}],\"scatterternary\":[{\"type\":\"scatterternary\",\"marker\":{\"colorbar\":{\"outlinewidth\":0,\"ticks\":\"\"}}}],\"scattercarpet\":[{\"type\":\"scattercarpet\",\"marker\":{\"colorbar\":{\"outlinewidth\":0,\"ticks\":\"\"}}}],\"carpet\":[{\"aaxis\":{\"endlinecolor\":\"#2a3f5f\",\"gridcolor\":\"white\",\"linecolor\":\"white\",\"minorgridcolor\":\"white\",\"startlinecolor\":\"#2a3f5f\"},\"baxis\":{\"endlinecolor\":\"#2a3f5f\",\"gridcolor\":\"white\",\"linecolor\":\"white\",\"minorgridcolor\":\"white\",\"startlinecolor\":\"#2a3f5f\"},\"type\":\"carpet\"}],\"table\":[{\"cells\":{\"fill\":{\"color\":\"#EBF0F8\"},\"line\":{\"color\":\"white\"}},\"header\":{\"fill\":{\"color\":\"#C8D4E3\"},\"line\":{\"color\":\"white\"}},\"type\":\"table\"}],\"barpolar\":[{\"marker\":{\"line\":{\"color\":\"#E5ECF6\",\"width\":0.5},\"pattern\":{\"fillmode\":\"overlay\",\"size\":10,\"solidity\":0.2}},\"type\":\"barpolar\"}],\"pie\":[{\"automargin\":true,\"type\":\"pie\"}]},\"layout\":{\"autotypenumbers\":\"strict\",\"colorway\":[\"#636efa\",\"#EF553B\",\"#00cc96\",\"#ab63fa\",\"#FFA15A\",\"#19d3f3\",\"#FF6692\",\"#B6E880\",\"#FF97FF\",\"#FECB52\"],\"font\":{\"color\":\"#2a3f5f\"},\"hovermode\":\"closest\",\"hoverlabel\":{\"align\":\"left\"},\"paper_bgcolor\":\"white\",\"plot_bgcolor\":\"#E5ECF6\",\"polar\":{\"bgcolor\":\"#E5ECF6\",\"angularaxis\":{\"gridcolor\":\"white\",\"linecolor\":\"white\",\"ticks\":\"\"},\"radialaxis\":{\"gridcolor\":\"white\",\"linecolor\":\"white\",\"ticks\":\"\"}},\"ternary\":{\"bgcolor\":\"#E5ECF6\",\"aaxis\":{\"gridcolor\":\"white\",\"linecolor\":\"white\",\"ticks\":\"\"},\"baxis\":{\"gridcolor\":\"white\",\"linecolor\":\"white\",\"ticks\":\"\"},\"caxis\":{\"gridcolor\":\"white\",\"linecolor\":\"white\",\"ticks\":\"\"}},\"coloraxis\":{\"colorbar\":{\"outlinewidth\":0,\"ticks\":\"\"}},\"colorscale\":{\"sequential\":[[0.0,\"#0d0887\"],[0.1111111111111111,\"#46039f\"],[0.2222222222222222,\"#7201a8\"],[0.3333333333333333,\"#9c179e\"],[0.4444444444444444,\"#bd3786\"],[0.5555555555555556,\"#d8576b\"],[0.6666666666666666,\"#ed7953\"],[0.7777777777777778,\"#fb9f3a\"],[0.8888888888888888,\"#fdca26\"],[1.0,\"#f0f921\"]],\"sequentialminus\":[[0.0,\"#0d0887\"],[0.1111111111111111,\"#46039f\"],[0.2222222222222222,\"#7201a8\"],[0.3333333333333333,\"#9c179e\"],[0.4444444444444444,\"#bd3786\"],[0.5555555555555556,\"#d8576b\"],[0.6666666666666666,\"#ed7953\"],[0.7777777777777778,\"#fb9f3a\"],[0.8888888888888888,\"#fdca26\"],[1.0,\"#f0f921\"]],\"diverging\":[[0,\"#8e0152\"],[0.1,\"#c51b7d\"],[0.2,\"#de77ae\"],[0.3,\"#f1b6da\"],[0.4,\"#fde0ef\"],[0.5,\"#f7f7f7\"],[0.6,\"#e6f5d0\"],[0.7,\"#b8e186\"],[0.8,\"#7fbc41\"],[0.9,\"#4d9221\"],[1,\"#276419\"]]},\"xaxis\":{\"gridcolor\":\"white\",\"linecolor\":\"white\",\"ticks\":\"\",\"title\":{\"standoff\":15},\"zerolinecolor\":\"white\",\"automargin\":true,\"zerolinewidth\":2},\"yaxis\":{\"gridcolor\":\"white\",\"linecolor\":\"white\",\"ticks\":\"\",\"title\":{\"standoff\":15},\"zerolinecolor\":\"white\",\"automargin\":true,\"zerolinewidth\":2},\"scene\":{\"xaxis\":{\"backgroundcolor\":\"#E5ECF6\",\"gridcolor\":\"white\",\"linecolor\":\"white\",\"showbackground\":true,\"ticks\":\"\",\"zerolinecolor\":\"white\",\"gridwidth\":2},\"yaxis\":{\"backgroundcolor\":\"#E5ECF6\",\"gridcolor\":\"white\",\"linecolor\":\"white\",\"showbackground\":true,\"ticks\":\"\",\"zerolinecolor\":\"white\",\"gridwidth\":2},\"zaxis\":{\"backgroundcolor\":\"#E5ECF6\",\"gridcolor\":\"white\",\"linecolor\":\"white\",\"showbackground\":true,\"ticks\":\"\",\"zerolinecolor\":\"white\",\"gridwidth\":2}},\"shapedefaults\":{\"line\":{\"color\":\"#2a3f5f\"}},\"annotationdefaults\":{\"arrowcolor\":\"#2a3f5f\",\"arrowhead\":0,\"arrowwidth\":1},\"geo\":{\"bgcolor\":\"white\",\"landcolor\":\"#E5ECF6\",\"subunitcolor\":\"white\",\"showland\":true,\"showlakes\":true,\"lakecolor\":\"white\"},\"title\":{\"x\":0.05},\"mapbox\":{\"style\":\"light\"}}},\"font\":{\"size\":14,\"family\":\"Serif\"},\"margin\":{\"l\":150,\"r\":150,\"t\":50,\"b\":100},\"width\":1000,\"height\":600,\"annotations\":[{\"font\":{\"color\":\"black\",\"size\":20},\"showarrow\":false,\"text\":\"\\u003cspan style='font-variant: small-caps;'\\u003eprevious\\u003c\\u002fspan\\u003e\",\"x\":0.05,\"xanchor\":\"center\",\"y\":-0.08},{\"font\":{\"color\":\"black\",\"size\":20},\"showarrow\":false,\"text\":\"\\u003cspan style='font-variant: small-caps;'\\u003ecurrent\\u003c\\u002fspan\\u003e\",\"x\":0.96,\"xanchor\":\"center\",\"y\":-0.08}]},                        {\"responsive\": true}                    ).then(function(){\n",
       "                            \n",
       "var gd = document.getElementById('7a01dd1c-08b1-4bc7-912b-bfe7702e9632');\n",
       "var x = new MutationObserver(function (mutations, observer) {{\n",
       "        var display = window.getComputedStyle(gd).display;\n",
       "        if (!display || display === 'none') {{\n",
       "            console.log([gd, 'removed!']);\n",
       "            Plotly.purge(gd);\n",
       "            observer.disconnect();\n",
       "        }}\n",
       "}});\n",
       "\n",
       "// Listen for the removal of the full notebook cells\n",
       "var notebookContainer = gd.closest('#notebook-container');\n",
       "if (notebookContainer) {{\n",
       "    x.observe(notebookContainer, {childList: true});\n",
       "}}\n",
       "\n",
       "// Listen for the clearing of the current output cell\n",
       "var outputEl = gd.closest('.output');\n",
       "if (outputEl) {{\n",
       "    x.observe(outputEl, {childList: true});\n",
       "}}\n",
       "\n",
       "                        })                };                });            </script>        </div>"
      ]
     },
     "metadata": {},
     "output_type": "display_data"
    }
   ],
   "source": [
    "import pandas as pd\n",
    "import plotly.graph_objects as go\n",
    "\n",
    "# Aggregate counts\n",
    "flows = variation_sample.groupby([\"PREVIOUS\", \"CURRENT\"]).size().reset_index(name=\"count\")\n",
    "\n",
    "# Create a unique label list with each verb appearing twice (left and right side)\n",
    "unique_verbs = sorted(set(flows[\"PREVIOUS\"]).union(set(flows[\"CURRENT\"])))\n",
    "labels = [f\"<i>{verb}</i> \" for verb in unique_verbs] + [f\"<i>{verb}</i>\" for verb in unique_verbs]\n",
    "\n",
    "# Assign stronger pastel colors\n",
    "pastel_colors = [\n",
    "    \"#A6CEE3\", \"#FDBF6F\", \"#B2DF8A\", \"#FB9A99\", \"#CAB2D6\",\n",
    "    \"#FFDDC1\", \"#F4A7C1\", \"#CFCFCF\", \"#FFFF99\", \"#B0E0E6\"\n",
    "]\n",
    "verb_colors = {verb: pastel_colors[i % len(pastel_colors)] for i, verb in enumerate(unique_verbs)}\n",
    "\n",
    "# Map labels to indices\n",
    "label_map = {label: i for i, label in enumerate(labels)}\n",
    "\n",
    "# Define node colors (matching left and right)\n",
    "node_colors = [verb_colors[verb.strip(\"<i></i>\")] for verb in unique_verbs] * 2\n",
    "\n",
    "# Identify self-loops\n",
    "link_colors = [\"#88808F\" if prev == curr else \"lightgray\" for prev, curr in zip(flows[\"PREVIOUS\"], flows[\"CURRENT\"])]\n",
    "\n",
    "# Adjust node positions to prevent skewing\n",
    "y_positions = [i / len(unique_verbs) for i in range(len(unique_verbs))]\n",
    "x_positions = [0] * len(unique_verbs) + [1] * len(unique_verbs)\n",
    "\n",
    "# Create Sankey diagram\n",
    "fig = go.Figure(go.Sankey(\n",
    "    arrangement=\"snap\",\n",
    "    node=dict(\n",
    "        label=labels,\n",
    "        pad=20, thickness=25, color=node_colors,\n",
    "        x=x_positions, y=y_positions  # Adjust positions to prevent cutoffs\n",
    "    ),\n",
    "    link=dict(\n",
    "        source=[label_map[f\"<i>{prev}</i> \"] for prev in flows[\"PREVIOUS\"]],\n",
    "        target=[label_map[f\"<i>{curr}</i>\"] for curr in flows[\"CURRENT\"]],\n",
    "        value=flows[\"count\"].tolist(),\n",
    "        color=link_colors\n",
    "    )\n",
    "))\n",
    "\n",
    "# Adjust figure size and margins\n",
    "fig.update_layout(\n",
    "    font=dict(size=14, family=\"Serif\"),  # Ensuring LaTeX-style font\n",
    "    width=1000,  # Narrower\n",
    "    height=600,  # Taller to avoid cutoff\n",
    "    margin=dict(l=150, r=150, t=50, b=100)  # More space for labels\n",
    ")\n",
    "\n",
    "fig.update_layout(\n",
    "    annotations=[\n",
    "        dict(\n",
    "            x=0.05, y=-0.08, text=\"<span style='font-variant: small-caps;'>previous</span>\", \n",
    "            showarrow=False, font=dict(size=20, color=\"black\"), xanchor=\"center\"\n",
    "        ),\n",
    "        dict(\n",
    "            x=0.96, y=-0.08, text=\"<span style='font-variant: small-caps;'>current</span>\", \n",
    "            showarrow=False, font=dict(size=20, color=\"black\"), xanchor=\"center\"\n",
    "        )\n",
    "    ]\n",
    ")\n",
    "\n",
    "# Get unique verb positions from the label list\n",
    "previous_positions = {verb: i / len(unique_verbs) for i, verb in enumerate(sorted(flows[\"PREVIOUS\"].unique()))}\n",
    "current_positions = {verb: i / len(unique_verbs) for i, verb in enumerate(sorted(flows[\"CURRENT\"].unique()))}\n",
    "\n",
    "# Export high-resolution PNG\n",
    "fig.write_image(\"../../../publication/further/images/sankey_plot_SCHEDULE.png\", scale=4)\n",
    "\n",
    "fig.show()"
   ]
  },
  {
   "cell_type": "code",
   "execution_count": null,
   "id": "17470671-96f2-4072-8ecb-c09d08e721e4",
   "metadata": {},
   "outputs": [],
   "source": []
  },
  {
   "cell_type": "code",
   "execution_count": null,
   "id": "a99b22ad-9b26-4d61-abcc-2dd31bb0dfdf",
   "metadata": {},
   "outputs": [],
   "source": []
  },
  {
   "cell_type": "code",
   "execution_count": null,
   "id": "17747be6-784a-4b6c-ad76-0cf6db9f9805",
   "metadata": {},
   "outputs": [],
   "source": []
  },
  {
   "cell_type": "code",
   "execution_count": null,
   "id": "2ae80314-5102-4a14-84f6-32b3acd3004b",
   "metadata": {},
   "outputs": [],
   "source": []
  }
 ],
 "metadata": {
  "kernelspec": {
   "display_name": "promo",
   "language": "python",
   "name": "promo"
  },
  "language_info": {
   "codemirror_mode": {
    "name": "ipython",
    "version": 3
   },
   "file_extension": ".py",
   "mimetype": "text/x-python",
   "name": "python",
   "nbconvert_exporter": "python",
   "pygments_lexer": "ipython3",
   "version": "3.8.16"
  }
 },
 "nbformat": 4,
 "nbformat_minor": 5
}
