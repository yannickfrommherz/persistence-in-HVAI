{
 "cells": [
  {
   "cell_type": "markdown",
   "id": "c5637c38-0d53-462c-964b-5d228a085483",
   "metadata": {},
   "source": [
    "# Modelling the Non-Agentivity Alternation\n",
    "\n",
    "In this notebook, the non-agentivity alternation is modelled as described in the doctoral thesis. Refer to the relevant chapter to understand modelling choices.\n",
    "\n",
    "## Preparations\n",
    "\n",
    "### Importing Relevant Libraries"
   ]
  },
  {
   "cell_type": "code",
   "execution_count": null,
   "id": "5ccf7625-9f79-42ba-bc44-a607bff34b87",
   "metadata": {},
   "outputs": [],
   "source": [
    "library(lme4)\n",
    "library(glue)\n",
    "library(performance)\n",
    "library(rstudioapi)\n",
    "library(broom)\n",
    "library(scales)\n",
    "library(sjPlot)\n",
    "library(ggplot2)\n",
    "library(dplyr)\n",
    "library(stargazer)\n",
    "library(broom.mixed)"
   ]
  },
  {
   "cell_type": "markdown",
   "id": "ffcc3e1d-bc5b-4462-a6e6-926b88e0c194",
   "metadata": {},
   "source": [
    "### Loading and Preprocessing Data\n",
    "\n",
    "Note that, as mentioned in the doctoral thesis, only data from the VACC corpus is used for modelling this alternation set."
   ]
  },
  {
   "cell_type": "code",
   "execution_count": null,
   "id": "0408a5ef-492e-45ac-a7d4-174abc29988e",
   "metadata": {},
   "outputs": [],
   "source": [
    "data <- read.csv(\"VACC/NON-AGENTIVITY_for_modelling_VACC.csv\")"
   ]
  },
  {
   "cell_type": "markdown",
   "id": "673025fb-7c55-4460-8b7a-ea945e34d1ad",
   "metadata": {},
   "source": [
    "Treatment coding of response variable: \"man\" = 0, \"werden\" = 1."
   ]
  },
  {
   "cell_type": "code",
   "execution_count": null,
   "id": "e1e91c34-d6a0-4f7d-95e1-ba38dcbedb0b",
   "metadata": {},
   "outputs": [],
   "source": [
    "data$CURRENT <- as.factor(data$CURRENT)\n",
    "cat(\"R models this level:\", tail(levels(data$CURRENT), 1))"
   ]
  },
  {
   "cell_type": "markdown",
   "id": "19fd9ca7-2bf3-400d-8e49-da7d160dd8cf",
   "metadata": {},
   "source": [
    "Renaming speakers for consistency with the rest of the thesis."
   ]
  },
  {
   "cell_type": "code",
   "execution_count": null,
   "id": "7242b85f-84ab-4d8b-97bd-f20e9759090f",
   "metadata": {},
   "outputs": [],
   "source": [
    "data <- data %>% mutate(PREVIOUS_SPEAKER = recode(PREVIOUS_SPEAKER, \"A\" = \"VA\", \"S\" = \"HS\", \"J\" = \"CF\"))"
   ]
  },
  {
   "cell_type": "markdown",
   "id": "87be97cf-0db3-4e9f-8928-3ea121c99874",
   "metadata": {},
   "source": [
    "Combining the variables PREVIOUS and PREVIOUS_SPEAKER, as modelling an interaction of these two independent variables leads to an issue of singularity."
   ]
  },
  {
   "cell_type": "code",
   "execution_count": null,
   "id": "0e560fd8-e997-440a-b386-174c022c470f",
   "metadata": {},
   "outputs": [],
   "source": [
    "data$PREVIOUS_SPEAKER_COMBINED <- interaction(data$PREVIOUS, data$PREVIOUS_SPEAKER) #R automatically creates a factor\n",
    "cat(\"Levels are:\", levels(data$PREVIOUS_SPEAKER_COMBINED))"
   ]
  },
  {
   "cell_type": "markdown",
   "id": "330b89f9-0912-4bb7-8023-46643cb80db0",
   "metadata": {},
   "source": [
    "`interaction()` also creates combinations which never appear. "
   ]
  },
  {
   "cell_type": "code",
   "execution_count": null,
   "id": "6012003a-b55b-4ed5-9b27-12ee380e308f",
   "metadata": {},
   "outputs": [],
   "source": [
    "#discarding empty levels\n",
    "data$PREVIOUS_SPEAKER_COMBINED <- droplevels(data$PREVIOUS_SPEAKER_COMBINED)\n",
    "\n",
    "#before renaming (see above) \"werden.A\" was the reference level as it is first in alphabetical order, \n",
    "#to preserve this even after renaming, the factor is relevelled \n",
    "data$PREVIOUS_SPEAKER_COMBINED <- relevel(data$PREVIOUS_SPEAKER_COMBINED, ref = \"werden.VA\")\n",
    "cat(\"The reference level of PREVIOUS_SPEAKER_COMBINED is:\", head(levels(data$PREVIOUS_SPEAKER_COMBINED), 1)) "
   ]
  },
  {
   "cell_type": "markdown",
   "id": "010672ba-4f61-4884-8dca-15d581701b61",
   "metadata": {},
   "source": [
    "Treatment coding of further predictor variables."
   ]
  },
  {
   "cell_type": "code",
   "execution_count": null,
   "id": "48d3d973-41b5-4b34-826c-1b9d3ad3b739",
   "metadata": {},
   "outputs": [],
   "source": [
    "data$PREVIOUS <- as.factor(data$PREVIOUS)\n",
    "data$PREVIOUS_BETA_MAN <- as.factor(data$PREVIOUS_BETA_MAN) \n",
    "data$PREVIOUS_BETA_WERDEN <- as.factor(data$PREVIOUS_BETA_WERDEN) "
   ]
  },
  {
   "cell_type": "markdown",
   "id": "f8bf6eac-6599-49cc-8510-3f1b380fb661",
   "metadata": {},
   "source": [
    "## Simple Model\n",
    "\n",
    "### Model Fitting"
   ]
  },
  {
   "cell_type": "code",
   "execution_count": null,
   "id": "8b81f976-74de-49f8-bd73-2ca028ddb360",
   "metadata": {},
   "outputs": [],
   "source": [
    "simple_model <- glm(CURRENT ~ PREVIOUS_SPEAKER_COMBINED,\n",
    "                                data = data, family = 'binomial')\n",
    "\n",
    "summary(simple_model)"
   ]
  },
  {
   "cell_type": "markdown",
   "id": "12b157df-0e5c-4f58-bf68-6484d01f8ff4",
   "metadata": {},
   "source": [
    "### Model Evaluation\n",
    "\n",
    "#### Events per Predictor"
   ]
  },
  {
   "cell_type": "code",
   "execution_count": null,
   "id": "700834a4-6e7c-4964-9ed6-23667e8becd3",
   "metadata": {},
   "outputs": [],
   "source": [
    "#Events per predictor\n",
    "events <- sum(data$CURRENT == \"man\") #Number of positive cases\n",
    "predictors <- length(coef(simple_model)) - 1 #Exclude intercept\n",
    "EPP <- events / predictors\n",
    "print(EPP)"
   ]
  },
  {
   "cell_type": "markdown",
   "id": "509810f7-77e5-4eb9-a2fc-13437ddcf87f",
   "metadata": {},
   "source": [
    "#### R²"
   ]
  },
  {
   "cell_type": "code",
   "execution_count": null,
   "id": "1569ef7d-efe0-4a1b-ab93-5f520c13209d",
   "metadata": {},
   "outputs": [],
   "source": [
    "r2_nagelkerke(simple_model)"
   ]
  },
  {
   "cell_type": "markdown",
   "id": "f08535bb-cbef-4f1b-9e72-df3fda9437e2",
   "metadata": {},
   "source": [
    "#### Predictive Efficiency"
   ]
  },
  {
   "cell_type": "code",
   "execution_count": null,
   "id": "8400b5a5-7e05-49b4-8d03-0fbbefbb87f6",
   "metadata": {},
   "outputs": [],
   "source": [
    "#Predictive efficiency\n",
    "fixed_model_predictions <- predict(simple_model, newdata = data, type = \"response\")\n",
    "#Convert probabilities to binary outcomes (i.e., if probability > 0.5, predict 1, else 0)\n",
    "fixed_model_predicted_class <- ifelse(fixed_model_predictions > 0.5, \"werden\", \"man\")\n",
    "#Compare predicted values to actual values\n",
    "fixed_model_accuracy <- mean(fixed_model_predicted_class == data$CURRENT)\n",
    "fixed_model_accuracy"
   ]
  },
  {
   "cell_type": "code",
   "execution_count": null,
   "id": "ae73c4f8-4d20-46fd-a401-56ec7c3e7403",
   "metadata": {},
   "outputs": [],
   "source": [
    "#Calculate baseline accuracy, i.e., a dumb intercept-only model only ever predicting the most frequent outcome\n",
    "counts <- table(data$CURRENT) \n",
    "dumb_model_accuracy <- max(counts) / sum(counts)\n",
    "dumb_model_accuracy"
   ]
  },
  {
   "cell_type": "code",
   "execution_count": null,
   "id": "93d641fe-fa98-433c-8fee-96f5b03ccf8d",
   "metadata": {},
   "outputs": [],
   "source": [
    "#McNemar's Test for significance against baseline\n",
    "baseline_predicted_class <- rep(names(which.max(counts)), length(data$CURRENT))  #Create baseline predictions (always predict the most frequent outcome)\n",
    "mcnemar_table <- table(\n",
    "  model_correct = (fixed_model_predicted_class == data$CURRENT),\n",
    "  baseline_correct = (baseline_predicted_class == data$CURRENT)) #Create a contingency table: Compare model and baseline predictions against actual values\n",
    "mcnemar_result <- mcnemar.test(mcnemar_table) #Perform McNemar's Test\n",
    "mcnemar_result"
   ]
  },
  {
   "cell_type": "markdown",
   "id": "ac1c2b00-c84f-47dd-a020-c5525b387cb0",
   "metadata": {},
   "source": [
    "### Visualisation\n",
    "\n",
    "#### Coefficient Plot"
   ]
  },
  {
   "cell_type": "code",
   "execution_count": null,
   "id": "d84f0e0a-b9fe-4a27-9f9c-ebb31e7b3084",
   "metadata": {},
   "outputs": [],
   "source": [
    "model_summary <- tidy(simple_model, conf.int = TRUE) \n",
    "\n",
    "plot <- ggplot(model_summary, aes(x = estimate, y = term, color = p.value < 0.05)) +\n",
    "          geom_point(size = 3) +\n",
    "                    geom_errorbarh(aes(xmin = conf.low, xmax = conf.high), height = 0.2) +\n",
    "          geom_vline(xintercept = 0, linetype = \"dashed\") +\n",
    "          labs(\n",
    "            x = \"Estimated Coefficient\",\n",
    "            y = \"Predictors\",\n",
    "          ) +\n",
    "          theme_minimal() +\n",
    "          scale_color_manual(values = c(\"TRUE\" = \"black\", \"FALSE\" = \"gray\")) +  #Grey out non-significant predictors\n",
    "          coord_fixed(ratio = 0.5)\n",
    "\n",
    "plot"
   ]
  },
  {
   "cell_type": "markdown",
   "id": "33edef61-ef31-483f-a951-baf7b8c93c62",
   "metadata": {},
   "source": [
    "#### Prediction Plot\n",
    "\n",
    "Plot visualises the probability of observing \"werden\" in CURRENT given different combinations of variants in PREVIOUS and SPEAKERS."
   ]
  },
  {
   "cell_type": "code",
   "execution_count": null,
   "id": "28eae515-8c27-4939-b969-3e14f2ef9455",
   "metadata": {},
   "outputs": [],
   "source": [
    "#for \"werden\" in CURRENT\n",
    "plot <- plot_model(simple_model, type=\"pred\", terms=c(\"PREVIOUS_SPEAKER_COMBINED\"), dpi=300, ) + \n",
    "        theme(axis.text = element_text(size = 16), axis.title = element_text(size = 16)) + theme_minimal(base_size=12) +\n",
    "        theme(plot.title = element_blank()) \n",
    "\n",
    "plot"
   ]
  }
 ],
 "metadata": {
  "kernelspec": {
   "display_name": "R (hvai-R)",
   "language": "R",
   "name": "hvai-r"
  },
  "language_info": {
   "codemirror_mode": "r",
   "file_extension": ".r",
   "mimetype": "text/x-r-source",
   "name": "R",
   "pygments_lexer": "r",
   "version": "4.3.3"
  }
 },
 "nbformat": 4,
 "nbformat_minor": 5
}
