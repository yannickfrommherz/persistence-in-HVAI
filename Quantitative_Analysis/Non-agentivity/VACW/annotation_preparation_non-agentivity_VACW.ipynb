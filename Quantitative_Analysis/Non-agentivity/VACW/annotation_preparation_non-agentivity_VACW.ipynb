{
 "cells": [
  {
   "cell_type": "markdown",
   "id": "d5e5f64f-2c03-4bc5-b76e-21fd37bd359f",
   "metadata": {},
   "source": [
    "# Non-Agentivity / VACW\n",
    "\n",
    "In this notebook, the preprocessed VACW corpus is annotated for the non-agentivity alternation, i.e., all alternating instances of passive voice constructions with \"werden\" and the impersonal pronoun \"man\" are tagged in the data. Subsequently, a dataset is prepared for modelling, i.e., all relevant variables (e.g., which variant was used in the previous slot?) from the tagged choice contexts are extracted or calculated. The resulting dataset is then combined with the data for the other two corpora and prepared for modelling in \"non-agentivity_all_corpora.ipynb\".\n",
    "\n",
    "As mentioned, the actual data used in the doctoral thesis needs to be requested from Ingo Siegert and subsequently preprocessed using the \"VACW\" notebook in the corresponding folder.\n",
    "\n",
    "Refer to the relevant chapter in the doctoral thesis for further explanation of the steps below. "
   ]
  },
  {
   "cell_type": "code",
   "execution_count": null,
   "id": "da17035f-2401-416c-a4f0-48d693a49ab8",
   "metadata": {},
   "outputs": [],
   "source": [
    "#importing relevant modules\n",
    "import pandas as pd, sys, os, shutil\n",
    "\n",
    "#informing Python about a custom code directory and importing some of the modules from there\n",
    "sys.path.append(\"../../../Code/\")\n",
    "import annotation, quantification, persistence"
   ]
  },
  {
   "cell_type": "code",
   "execution_count": null,
   "id": "5797f4db-6083-4e66-bcb2-c75339069c7f",
   "metadata": {},
   "outputs": [],
   "source": [
    "#defining name of the alternation set and establishing its variants\n",
    "alternating = \"Non-agentivity\"\n",
    "alternation_set = [\"man\", \"werden\"]"
   ]
  },
  {
   "cell_type": "markdown",
   "id": "308ff370-f1a0-4846-8309-428bfb2cbc41",
   "metadata": {},
   "source": [
    "## Annotation\n",
    "\n",
    "Annotation is typically done in multiple sessions. Hence, after each instance that you have annotated you may decide to end the session in which case everything tagged so far is saved. When starting the next session, you will only be assigned the remaining instances, i.e., those cases that have not been annotated thus far.\n",
    "\n",
    "### Preparations\n",
    "\n",
    "The first step presupposes that the \"VACW\" notebook was executed."
   ]
  },
  {
   "cell_type": "code",
   "execution_count": null,
   "id": "0832f976-456d-43eb-a038-a915712b3919",
   "metadata": {},
   "outputs": [],
   "source": [
    "#copying the preprocessed corpus file into the folder \"Quantitative_analysis/Annotated_datasets\"\n",
    "#a separate copy for annotation is deemed safer than modifying the persistence-tagged corpus \n",
    "source_file = \"../../../VACW/3_Persistence_tagged/Persistence_VACW_all.csv\"\n",
    "destination_directory = \"../../Annotated_datasets/\"\n",
    "\n",
    "destination_file = os.path.join(destination_directory, \"VACW.csv\")\n",
    "\n",
    "if not os.path.exists(destination_file):\n",
    "    shutil.copy2(source_file, destination_file)\n",
    "    print(\"File moved.\")\n",
    "else:\n",
    "    print(\"File already exists.\")"
   ]
  },
  {
   "cell_type": "code",
   "execution_count": null,
   "id": "baa133f1-cc41-44af-9aed-49dd7c20e581",
   "metadata": {},
   "outputs": [],
   "source": [
    "#reading in the (copied) corpus file\n",
    "df = pd.read_csv(\"../../Annotated_datasets/VACW.csv\", sep=\",\", index_col=0)\n",
    "\n",
    "#lower-casing the lemma column, as the code below only checks for lower-case variants\n",
    "df.lemma = df.lemma.str.lower()\n",
    "\n",
    "#creating a column for saving annotation decisions, if it does not already exist\n",
    "if not alternating in df.columns:\n",
    "    df[alternating] = pd.NA\n",
    "\n",
    "#informing about how many alternating instances have already been tagged\n",
    "print(f\"Cases annotated as alternating: {len(df[df[alternating]=='yes'])}\")"
   ]
  },
  {
   "cell_type": "markdown",
   "id": "48f47d4e-5d9a-4b9b-8d9c-85a376fe62ce",
   "metadata": {},
   "source": [
    "### Annotation Tool\n",
    "\n",
    "In short, the tool below \n",
    "- informs you about the annotation scheme\n",
    "- tells you how many untagged instances you have got left\n",
    "- provides you with the next case to annotate, i.e., a potentially alternating lemma including its immediate context\n",
    "- displays an input field for deciding the current case according to the scheme\n",
    "- prompts you to confirm your decision and/or gives you the option to end the current session\n",
    "- searches for identical contexts prompting you whether the decision should be applied there as well\n",
    "\n",
    "Decisions are saved in `df_updated`. After each session, this DataFrame still needs to be saved externally. To start a new session, start by reading in the current version of \"../Annotated_datasets/VACW.csv\" under \"Preparations\" above."
   ]
  },
  {
   "cell_type": "code",
   "execution_count": null,
   "id": "fb0fff69-13bf-43a1-a5e4-c6bde6f6bd11",
   "metadata": {},
   "outputs": [],
   "source": [
    "#annotating\n",
    "df_updated = annotation.alternation_check(df, alternation_set, alternating)"
   ]
  },
  {
   "cell_type": "code",
   "execution_count": null,
   "id": "c479bbf6-5cd2-45f5-9095-01e05c826351",
   "metadata": {},
   "outputs": [],
   "source": [
    "#saving the updated DataFrame externally, overwriting the empty or part-annotated file\n",
    "df_updated.to_csv(\"../../Annotated_datasets/VACW.csv\")"
   ]
  },
  {
   "cell_type": "code",
   "execution_count": null,
   "id": "40e813d9-0200-4d40-8a5e-7fc6fe16fc6d",
   "metadata": {},
   "outputs": [],
   "source": [
    "#once all potentially alternating cases have been annotated, all other tokens of the DataFrame are additionally tagged as non-alternating\n",
    "if df_updated.loc[df_updated.lemma.isin(alternation_set), alternating].notna().all():\n",
    "    df_updated[alternating].fillna(value=\"no\", inplace=True)\n",
    "    df_updated.to_csv(\"../../Annotated_datasets/VACW.csv\")\n",
    "    print(\"Annotation is completed.\")\n",
    "else:\n",
    "    print(\"Annotation is not yet completed, rerun the tool above.\")"
   ]
  },
  {
   "cell_type": "markdown",
   "id": "fac667a1-fa2f-4015-88df-7bff3f15d680",
   "metadata": {},
   "source": [
    "### Overview\n",
    "\n",
    "See how many times each speaker used one of the alternating variants."
   ]
  },
  {
   "cell_type": "code",
   "execution_count": null,
   "id": "3b4634e4-f40c-413b-b71c-055d784288f8",
   "metadata": {},
   "outputs": [],
   "source": [
    "#reading in the annotated corpus, filtering, grouping and counting values\n",
    "df = pd.read_csv(\"../../Annotated_datasets/VACW.csv\", sep=\",\", index_col=0, na_filter=False)\n",
    "df[df[alternating] == \"yes\"].groupby(\"speaker\").lemma.value_counts()"
   ]
  },
  {
   "cell_type": "markdown",
   "id": "90cf6140-c4dd-4a5f-af12-f1ae43947b52",
   "metadata": {},
   "source": [
    "## Preparing DataFrame for Modelling"
   ]
  },
  {
   "cell_type": "code",
   "execution_count": null,
   "id": "a68d9925-86d2-424f-99c7-f70650d308ce",
   "metadata": {
    "scrolled": true
   },
   "outputs": [],
   "source": [
    "#reading in the annotated corpus now including a column indicating where there was an opportunity (\"yes\") to choose a variant from the alternation set or not (\"no\")\n",
    "df = pd.read_csv(\"../../Annotated_datasets/VACW.csv\", index_col=0, na_filter=False, sep=\",\")"
   ]
  },
  {
   "cell_type": "markdown",
   "id": "3a0c1b4e-0fa1-40be-953b-f08585e8f405",
   "metadata": {},
   "source": [
    "Below, the function `prepare_data_for_modeling` extracts or calculates all relevant variables for each choice context and saves the resulting DataFrame externally. This code only works properly if annotation has been completed. The code for saving is commented out though as it would replace the file that was used for modelling in the thesis. As mentioned, said file is shared given its abstract nature."
   ]
  },
  {
   "cell_type": "code",
   "execution_count": null,
   "id": "9267ac18-5380-4e12-b551-a8e956d4154c",
   "metadata": {
    "scrolled": true
   },
   "outputs": [],
   "source": [
    "#creating variation_sample, i.e., only annotated choice contexts along with relevant variables\n",
    "variation_sample = quantification.prepare_data_for_modeling(df, alternating, restrict=\"yes\", beta_variants=[\"man\", \"werden\"])\n",
    "#variation_sample.to_csv(f\"{alternating}_for_modelling_VACW.csv\")\n",
    "variation_sample"
   ]
  }
 ],
 "metadata": {
  "kernelspec": {
   "display_name": "Persistence in HVAI",
   "language": "python",
   "name": "hvai"
  },
  "language_info": {
   "codemirror_mode": {
    "name": "ipython",
    "version": 3
   },
   "file_extension": ".py",
   "mimetype": "text/x-python",
   "name": "python",
   "nbconvert_exporter": "python",
   "pygments_lexer": "ipython3",
   "version": "3.13.5"
  }
 },
 "nbformat": 4,
 "nbformat_minor": 5
}
