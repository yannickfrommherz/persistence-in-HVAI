{
 "cells": [
  {
   "cell_type": "markdown",
   "id": "2b424b2a-0ec3-4de7-90ae-c60cdc9c4beb",
   "metadata": {},
   "source": [
    "# Non-Agentivity / All Corpora\n",
    "\n",
    "After annotating and preparing a dataset for the non-agentivity alternation for all three corpora separately, in this notebook the datasets are combined and finally prepared for modelling. Further, the annotated instances are cross-tabulated and a switch rate plot is generated for the Descriptive Statistics part in the thesis."
   ]
  },
  {
   "cell_type": "code",
   "execution_count": null,
   "id": "235ab320-10de-4f9a-b4b9-320f9c3c156d",
   "metadata": {},
   "outputs": [],
   "source": [
    "#importing relevant modules\n",
    "import pandas as pd, sys, warnings\n",
    "warnings.filterwarnings('ignore') \n",
    "\n",
    "#informing Python about a custom code directory and importing some of the modules from there\n",
    "sys.path.append(\"../../Code/\")\n",
    "import annotation, quantification, persistence"
   ]
  },
  {
   "cell_type": "code",
   "execution_count": null,
   "id": "687cb1c3-1a2a-4a75-985f-344cfa31f9e0",
   "metadata": {},
   "outputs": [],
   "source": [
    "#defining name of the alternation set and establishing its variants\n",
    "alternating = \"NON-AGENTIVITY\"\n",
    "alternation_set = [\"man\", \"werden\"]"
   ]
  },
  {
   "cell_type": "markdown",
   "id": "930b1ef8-a3c6-44de-90f1-c1c960928528",
   "metadata": {},
   "source": [
    "## Combination\n",
    "\n",
    "The following code reads in all three annotated datasets and concatenates them into one DataFrame."
   ]
  },
  {
   "cell_type": "code",
   "execution_count": null,
   "id": "ef141da8-0b20-4798-8e67-de9b9d180d02",
   "metadata": {},
   "outputs": [],
   "source": [
    "#reading all three datasets\n",
    "vacc = pd.read_csv(\"VACC/NON-AGENTIVITY_for_modelling_VACC.csv\", index_col=0)\n",
    "vacw = pd.read_csv(\"VACW/NON-AGENTIVITY_for_modelling_VACW.csv\", index_col=0)\n",
    "rbc = pd.read_csv(\"RBC/NON-AGENTIVITY_for_modelling_RBC.csv\", index_col=0)"
   ]
  },
  {
   "cell_type": "code",
   "execution_count": null,
   "id": "67244d43-9d29-4c7e-b94c-43a2a8db3b58",
   "metadata": {},
   "outputs": [],
   "source": [
    "#creating a column with the corpus name for assigning unique interaction ids below\n",
    "vacc[\"CORPUS\"] = \"VACC\"\n",
    "vacw[\"CORPUS\"] = \"VACW\"\n",
    "rbc[\"CORPUS\"] = \"RBC\""
   ]
  },
  {
   "cell_type": "code",
   "execution_count": null,
   "id": "8fbbba7b-12d2-42ae-8a9a-7275a8ad7230",
   "metadata": {},
   "outputs": [],
   "source": [
    "#concatenating all three variation samples into one\n",
    "variation_sample = pd.concat([vacc, vacw, rbc])\n",
    "\n",
    "#assigning unique interaction ids\n",
    "variation_sample.INTERACTION_ID = variation_sample.INTERACTION_ID.astype(str) + \"_\" + variation_sample.CORPUS\n",
    "\n",
    "#saving externally\n",
    "variation_sample.to_csv(f\"{alternating}_for_modelling.csv\")"
   ]
  },
  {
   "cell_type": "markdown",
   "id": "9f393b6b-fe3f-405e-bf80-804a014f078f",
   "metadata": {},
   "source": [
    "## Descriptive Statistics\n",
    "\n",
    "### Cross-Tabulation\n",
    "\n",
    "Creating a table showing how often each variant in PREVIOUS was followed by the same or the other variant in CURRENT per corpus."
   ]
  },
  {
   "cell_type": "code",
   "execution_count": null,
   "id": "e5ed1290-c47c-409a-9dab-4949466a4301",
   "metadata": {},
   "outputs": [],
   "source": [
    "contingency_table = variation_sample.groupby(\"CORPUS\").apply(lambda group: pd.crosstab(group.PREVIOUS, group.CURRENT)).fillna(0)\n",
    "contingency_table[\"Total in PREVIOUS\"] = contingency_table.sum(axis=1)\n",
    "contingency_table.loc[\"Total in CURRENT\"] = contingency_table.sum(axis=0)\n",
    "contingency_table"
   ]
  },
  {
   "cell_type": "markdown",
   "id": "c7c5ffce-9ee9-40f2-9bee-50c940b0c9d9",
   "metadata": {},
   "source": [
    "### Switch Rate Plot\n",
    "\n",
    "Finally, a switch rate plot is generated. "
   ]
  },
  {
   "cell_type": "code",
   "execution_count": null,
   "id": "9a23d69a-cfa8-4865-af38-144977c6c6c8",
   "metadata": {},
   "outputs": [],
   "source": [
    "#reading all three entire corpora and combining them into one (needed for calculating variant shares for switch rate plots)\n",
    "vacc = pd.read_csv(\"../Annotated_datasets/VACC.csv\", index_col=0)\n",
    "vacw = pd.read_csv(\"../Annotated_datasets/VACW.csv\", index_col=0)\n",
    "rbc = pd.read_csv(\"../Annotated_datasets/RBC.csv\", index_col=0)\n",
    "\n",
    "#creating a column with the corpus name for assigning unique interaction ids below\n",
    "vacc[\"corpus\"] = \"VACC\"\n",
    "vacw[\"corpus\"] = \"VACW\"\n",
    "rbc[\"corpus\"] = \"RBC\"\n",
    "\n",
    "#concatenating all three corpora into one, ignoring irrelevant columns\n",
    "df = pd.concat([vacc[[\"lemma\", \"interaction_id\", alternating, \"corpus\"]], vacw[[\"lemma\", \"interaction_id\", alternating, \"corpus\"]], rbc[[\"lemma\", \"interaction_id\", alternating, \"corpus\"]]])\n",
    "\n",
    "#assigning unique interaction ids\n",
    "df.interaction_id = df.interaction_id.astype(str) + \"_\" + df.corpus \n",
    "\n",
    "#defining output path for the plot\n",
    "path = \"switch_rate_plot_NON-AGENTIVITY.png\"\n",
    "\n",
    "#generating plot\n",
    "quantification.plot_switch_rate_over_variant_proportions(df, variation_sample, alternation_set, alternating, save_to=path)"
   ]
  }
 ],
 "metadata": {
  "kernelspec": {
   "display_name": "hvai",
   "language": "python",
   "name": "hvai"
  },
  "language_info": {
   "codemirror_mode": {
    "name": "ipython",
    "version": 3
   },
   "file_extension": ".py",
   "mimetype": "text/x-python",
   "name": "python",
   "nbconvert_exporter": "python",
   "pygments_lexer": "ipython3",
   "version": "3.13.5"
  }
 },
 "nbformat": 4,
 "nbformat_minor": 5
}
