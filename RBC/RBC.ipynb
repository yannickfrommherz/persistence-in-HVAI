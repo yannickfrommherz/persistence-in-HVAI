{
 "cells": [
  {
   "cell_type": "markdown",
   "id": "e139bf92-1b13-41e9-88cb-a6857971520d",
   "metadata": {},
   "source": [
    "# VACC\n",
    "\n",
    "This notebook ..."
   ]
  },
  {
   "cell_type": "markdown",
   "id": "ecbfd246-29f5-40ae-b866-af800e046123",
   "metadata": {},
   "source": [
    "## Preparations"
   ]
  },
  {
   "cell_type": "code",
   "execution_count": 3,
   "id": "19d43af6-ba5b-41e6-8967-fb91b38db8eb",
   "metadata": {},
   "outputs": [],
   "source": [
    "# import relevant modules\n",
    "# define corpus name"
   ]
  },
  {
   "cell_type": "markdown",
   "id": "6e4224c2-345c-4df8-9984-cfd16f875bf5",
   "metadata": {},
   "source": [
    "## Data Preprocessing\n",
    "\n",
    "Run the following code to establish the required folder structure. Request the data from Ingo Siegert and place the transcripts in \"Fertige_Transkripte\" (i.e., place subfolders for each participant there) and the speaker lists in \"Fertige_Utterances\" (i.e., place subfolders for each participant there).\n",
    "\n",
    "Dummy folders/files to be able to execute the code?"
   ]
  },
  {
   "cell_type": "code",
   "execution_count": 4,
   "id": "6dffd620-1eef-4cac-a693-6bdfb8c80252",
   "metadata": {},
   "outputs": [],
   "source": [
    "# establish folder structure\n",
    "# create csv file\n",
    "# merge same-speaker turns\n",
    "# tokenise and lemmatise data (add note that POS-tagging was also performed, but as explained in the thesis this output was not used, hence disregarded here)\n",
    "# insert note that manual unmerging of turns was performed \n",
    "# calculating lemma n-grams\n",
    "# add note that code for quantitative analysis is in separate notebook due to a different programming language being used (R)"
   ]
  },
  {
   "cell_type": "markdown",
   "id": "f2ed2dd3-5400-4ece-bdf6-91804d6df5b6",
   "metadata": {},
   "source": [
    "## Persistence Tagging for Qualitative Analysis"
   ]
  },
  {
   "cell_type": "code",
   "execution_count": null,
   "id": "6d524c4b-5160-4dc5-8a2d-0f0c1b75ca52",
   "metadata": {},
   "outputs": [],
   "source": [
    "# tagging (only for allo-persistence)\n",
    "# visualising (change module name)\n",
    "# inspect frequent persistent n-grams"
   ]
  }
 ],
 "metadata": {
  "kernelspec": {
   "display_name": "promo",
   "language": "python",
   "name": "promo"
  },
  "language_info": {
   "codemirror_mode": {
    "name": "ipython",
    "version": 3
   },
   "file_extension": ".py",
   "mimetype": "text/x-python",
   "name": "python",
   "nbconvert_exporter": "python",
   "pygments_lexer": "ipython3",
   "version": "3.8.16"
  }
 },
 "nbformat": 4,
 "nbformat_minor": 5
}
